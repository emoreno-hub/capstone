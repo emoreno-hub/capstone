{
 "cells": [
  {
   "cell_type": "markdown",
   "id": "720f8928-4f56-427b-9437-bc58c68457b5",
   "metadata": {},
   "source": [
    "# Model Output File\n",
    "\n",
    "Clean up the data and prep for modeling.\n",
    "* Create time series\n",
    "* Calculate distance to coast\n",
    "* Create Holiday flag (window for 2 days before and 2 day after)\n",
    "* Clean up missing values and create flags for imputed values if necessary"
   ]
  },
  {
   "cell_type": "code",
   "execution_count": null,
   "id": "ed394ede-76e1-4d1e-848d-f768b4f992fe",
   "metadata": {},
   "outputs": [],
   "source": [
    "%matplotlib inline\n",
    "import matplotlib.pyplot as plt\n",
    "import pandas as pd\n",
    "import numpy as np\n",
    "\n",
    "import datetime\n",
    "from datetime import datetime\n",
    "\n",
    "import boto3\n",
    "import awswrangler\n",
    "# set name of S3 bucket\n",
    "s3_bucket = 'traffic-data-bucket'\n",
    "\n",
    "import re\n",
    "\n",
    "import os\n",
    "from os.path import isfile, join\n",
    "from pathlib import Path\n",
    "from os import listdir\n",
    "import os\n",
    "os.getcwd()\n",
    "\n",
    "#from commons import download_data, find_vcs_root\n",
    "\n",
    "path =  Path(os.getcwd())\n",
    "root = path.parent.absolute()\n",
    "\n",
    "root\n"
   ]
  },
  {
   "cell_type": "markdown",
   "id": "1514dc21-937b-4da8-8657-e3eb6d537448",
   "metadata": {},
   "source": [
    "## 1. Create Boto3 session\n",
    "Start by creating a boto3 session so that we can connect to the S3 bucket."
   ]
  },
  {
   "cell_type": "code",
   "execution_count": null,
   "id": "1d24d69a-a815-4429-afd6-d3c63c7cd07e",
   "metadata": {},
   "outputs": [],
   "source": [
    "from aws_secrets import aws_access_key_id, aws_secret_access_key, aws_session_token\n",
    "\n",
    "my_session = boto3.Session(\n",
    "    aws_access_key_id=aws_access_key_id,\n",
    "    aws_secret_access_key=aws_secret_access_key,\n",
    "    aws_session_token = aws_session_token\n",
    "\n",
    ")"
   ]
  },
  {
   "cell_type": "markdown",
   "id": "4d57bdc0-c510-415d-92a9-4fbd3363392f",
   "metadata": {},
   "source": [
    "## 2. Import joined data set"
   ]
  },
  {
   "cell_type": "code",
   "execution_count": null,
   "id": "cbc1a356-6042-46c0-b4c6-e504a0f1c531",
   "metadata": {},
   "outputs": [],
   "source": [
    "joined_df = awswrangler.s3.read_parquet(path = f's3://{s3_bucket}/model_data/model_data_pre_transformation.parquet', boto3_session=my_session, use_threads=True)"
   ]
  },
  {
   "cell_type": "code",
   "execution_count": null,
   "id": "0a7e56d1-54c3-4b34-8f6b-d30ae0d8dc88",
   "metadata": {},
   "outputs": [],
   "source": [
    "joined_df.shape"
   ]
  },
  {
   "cell_type": "code",
   "execution_count": null,
   "id": "cccd927f-8d8c-4ae4-a23f-3a41d2bbc62a",
   "metadata": {},
   "outputs": [],
   "source": [
    "joined_df.sample(3)"
   ]
  },
  {
   "cell_type": "code",
   "execution_count": null,
   "id": "eac6c54e-2f76-4daa-b63f-d110575c7b86",
   "metadata": {},
   "outputs": [],
   "source": [
    "joined_df_copy = joined_df.copy()"
   ]
  },
  {
   "cell_type": "markdown",
   "id": "467786e4-2527-4384-b6d7-0f7acf15f1c6",
   "metadata": {},
   "source": [
    "Perform general exploration of the data"
   ]
  },
  {
   "cell_type": "code",
   "execution_count": null,
   "id": "9d6458fd-7e9f-4f33-a374-3c898ee1e6fd",
   "metadata": {},
   "outputs": [],
   "source": [
    "joined_df.accident_count.value_counts()"
   ]
  },
  {
   "cell_type": "code",
   "execution_count": null,
   "id": "8732f97e-2c6e-40f5-bc98-b6e926a42238",
   "metadata": {},
   "outputs": [],
   "source": [
    "joined_df.collision_year.value_counts().sort_index()"
   ]
  },
  {
   "cell_type": "markdown",
   "id": "cba0b3b9-8fc6-4dca-a2a4-db862b84acc1",
   "metadata": {},
   "source": [
    "## 3. Creat time series features\n",
    "### 3.1 Transform time series features into sin and cosin components"
   ]
  },
  {
   "cell_type": "code",
   "execution_count": null,
   "id": "c5f554e0-311b-422a-a931-16fe62cca10f",
   "metadata": {},
   "outputs": [],
   "source": [
    "def cyclical_encode(data, col, max_val):\n",
    "    data['drv_' + col + '_sin'] = np.sin(2 * np.pi * data[col]/max_val)\n",
    "    data['drv_' + col + '_cos'] = np.cos(2 * np.pi * data[col]/max_val)\n",
    "    return data"
   ]
  },
  {
   "cell_type": "markdown",
   "id": "cc29a964-1a54-4e81-9e81-81da8570fdbc",
   "metadata": {},
   "source": [
    "Inspect the variables"
   ]
  },
  {
   "cell_type": "code",
   "execution_count": null,
   "id": "29337915-705d-4be4-a2f8-7134e9aa2c0a",
   "metadata": {},
   "outputs": [],
   "source": [
    "print('max and min hour')\n",
    "print(np.max(joined_df.collision_hour))\n",
    "print(np.min(joined_df.collision_hour))\n",
    "\n",
    "print('max and min day of week')\n",
    "print(np.max(joined_df.collision_dayofweek))\n",
    "print(np.min(joined_df.collision_dayofweek))\n",
    "\n",
    "print('max and min month')\n",
    "print(np.max(joined_df.collision_month))\n",
    "print(np.min(joined_df.collision_month))"
   ]
  },
  {
   "cell_type": "code",
   "execution_count": null,
   "id": "336e4811-be3e-4d52-9093-d910e23ee8c8",
   "metadata": {},
   "outputs": [],
   "source": [
    "sin_cos_transformed_list = {'collision_hour' : 23 ,\n",
    "                            'collision_dayofweek' : 6, \n",
    "                            'collision_month' : 12\n",
    "                           }\n",
    "\n",
    "for date_type in sin_cos_transformed_list:\n",
    "    joined_df = cyclical_encode(joined_df, date_type, sin_cos_transformed_list[date_type])"
   ]
  },
  {
   "cell_type": "code",
   "execution_count": null,
   "id": "57df0d0e-be5a-464e-b8f0-34b801b10988",
   "metadata": {},
   "outputs": [],
   "source": [
    "joined_df[['collision_hour', 'drv_collision_hour_sin', 'drv_collision_hour_cos']].sample(10)"
   ]
  },
  {
   "cell_type": "code",
   "execution_count": null,
   "id": "7804a8c3-62ee-4970-933b-f670d923aba4",
   "metadata": {},
   "outputs": [],
   "source": [
    "hour_tr_sample = joined_df[['collision_hour', 'drv_collision_hour_sin', 'drv_collision_hour_cos']].sample(500)\n",
    "\n",
    "plt.rcParams[\"figure.figsize\"] = [5.00, 5.00]\n",
    "plt.plot(hour_tr_sample['drv_collision_hour_sin'], \n",
    "         hour_tr_sample['drv_collision_hour_cos'], \n",
    "         'o', \n",
    "         color='blue',\n",
    "         alpha=.01);\n",
    "plt.ylim(-1.25, 1.25);\n",
    "plt.xlim(-1.25, 1.25);"
   ]
  },
  {
   "cell_type": "markdown",
   "id": "00140b9f-b1a9-4f1d-8b3f-e8d2739b7c0f",
   "metadata": {},
   "source": [
    "### 3.2 Make a holiday indicator"
   ]
  },
  {
   "cell_type": "code",
   "execution_count": null,
   "id": "37329bcc-7cab-43cf-a27b-0bc3da0d023a",
   "metadata": {},
   "outputs": [],
   "source": [
    "from pandas.tseries.holiday import USFederalHolidayCalendar as calendar\n",
    "import datetime\n",
    "\n",
    "cal = calendar()\n",
    "dr = pd.date_range(start='2014-01-01', end='2020-12-31')\n",
    "df = pd.DataFrame()\n",
    "df['Date'] = dr\n",
    "\n",
    "cal = calendar()\n",
    "holidays = cal.holidays(start=dr.min(), end=dr.max())\n",
    "\n",
    "holiday_list = list()\n",
    "\n",
    "for holiday in holidays:\n",
    "    \n",
    "    holiday = holiday.date()\n",
    "\n",
    "    date_plus1 = holiday + datetime.timedelta(days=1)\n",
    "    date_minus1 = holiday + datetime.timedelta(days=-1)\n",
    "    \n",
    "    holiday_list.append(date_minus1.strftime('%Y-%m-%d'))\n",
    "    holiday_list.append(holiday.strftime('%Y-%m-%d'))\n",
    "    holiday_list.append(date_plus1.strftime('%Y-%m-%d'))\n",
    "    holiday_list.append(date_minus1.strftime('%Y-%m-%d'))\n",
    "    \n",
    "holiday_list[0:10]\n"
   ]
  },
  {
   "cell_type": "code",
   "execution_count": null,
   "id": "9ad54bcd-77b6-4639-a0bc-bc5facac3c48",
   "metadata": {},
   "outputs": [],
   "source": [
    "joined_df['collision_date'].sample(5)"
   ]
  },
  {
   "cell_type": "code",
   "execution_count": null,
   "id": "94d912a7-65ee-45df-b13a-57acce82883b",
   "metadata": {},
   "outputs": [],
   "source": [
    "joined_df['collision_date'] = joined_df['collision_date'].map(str)"
   ]
  },
  {
   "cell_type": "markdown",
   "id": "3ba7ba80-ed55-44d3-97ea-71790761db27",
   "metadata": {},
   "source": [
    "Create a new column called `drv_holiday_flag` which indicates if the date of collision is a holiday."
   ]
  },
  {
   "cell_type": "code",
   "execution_count": null,
   "id": "5e38a755-baf3-4db8-95c5-7cac3ff7787b",
   "metadata": {},
   "outputs": [],
   "source": [
    "joined_df['drv_holiday_flag'] = joined_df['collision_date'].isin(holiday_list)"
   ]
  },
  {
   "cell_type": "code",
   "execution_count": null,
   "id": "1e77b713-37ef-422a-a2ab-131e4785e98e",
   "metadata": {},
   "outputs": [],
   "source": [
    "joined_df['drv_holiday_flag'].value_counts()"
   ]
  },
  {
   "cell_type": "markdown",
   "id": "80027185-2f26-4ce1-9228-a8e88c1afe93",
   "metadata": {},
   "source": [
    "## 4. Reduce dataset to selected columns"
   ]
  },
  {
   "cell_type": "code",
   "execution_count": null,
   "id": "ceeacc5f-96b8-4403-b577-1f4bbd3496cd",
   "metadata": {},
   "outputs": [],
   "source": [
    "#joined_df.columns[100:150]"
   ]
  },
  {
   "cell_type": "code",
   "execution_count": null,
   "id": "2a4df697-fa49-4441-bd0e-9cbf76d3107f",
   "metadata": {},
   "outputs": [],
   "source": [
    "keep_cols_list = ['hex_id', 'collision_date', 'collision_year', 'collision_month',\n",
    "                  'collision_dayofweek', 'collision_hour', 'accident_count', 'ttv_split',\n",
    "                  'node_street_count', \n",
    "                  'node_stop', \n",
    "                  'node_traffic_signals',\n",
    "                  'CITY_NAME', \n",
    "                  'edge_speed_kph_max',\n",
    "                  'edge_speek_kph_min', \n",
    "                  'edge_lanes_max', \n",
    "                  'edge_motorway_id', \n",
    "                  'edge_motorway_link_id', \n",
    "                  'edge_living_street_id',\n",
    "                  'edge_bridge_id', \n",
    "                  'edge_oneway_id', \n",
    "                  'edge_tunnel_id',\n",
    "                  'amenities_bar_cnt',\n",
    "                  'amenities_school_cnt',\n",
    "                  'amenities_restaurant_cnt',\n",
    "                  'amenities_college_cnt',\n",
    "                  'prev1_yr_coll_cnt',\n",
    "                  'prev2_yr_coll_cnt', \n",
    "                  'prev1_yr_coll_neighbor1',\n",
    "                  'prev1_yr_coll_neighbor2',\n",
    "                  'prev2_yr_coll_neighbor1',\n",
    "                  'prev2_yr_coll_neighbor2',\n",
    "                  'awnd', 'prcp', 'tavg', 'tmax', 'tmin',\n",
    "                  'drv_collision_hour_sin','drv_collision_hour_cos', \n",
    "                  'drv_holiday_flag']"
   ]
  },
  {
   "cell_type": "code",
   "execution_count": null,
   "id": "affeaf04-c18d-4c7b-ab96-5e71935e484f",
   "metadata": {},
   "outputs": [],
   "source": [
    "print(\"The number of columns to keep are:\", len(keep_cols_list))"
   ]
  },
  {
   "cell_type": "code",
   "execution_count": null,
   "id": "777ca6d6-0ce3-47fc-bc2f-59a05df40112",
   "metadata": {},
   "outputs": [],
   "source": [
    "pd.set_option(\"display.max_columns\", None)\n",
    "joined_trimmed_df = joined_df[keep_cols_list]\n",
    "joined_trimmed_df.sample(3)"
   ]
  },
  {
   "cell_type": "markdown",
   "id": "dbcf803b-6a83-4f18-b145-489a26491cb7",
   "metadata": {},
   "source": [
    "Rename column names."
   ]
  },
  {
   "cell_type": "code",
   "execution_count": null,
   "id": "04f6b518-de88-48ff-b89d-5a8f6b8e8156",
   "metadata": {},
   "outputs": [],
   "source": [
    "joined_trimmed_df.rename(columns = {'awnd':'noaa_wind_speed' \n",
    "                                    ,'prcp':'noaa_precipitation'\n",
    "                                    ,'tavg':'noaa_temperature_average'\n",
    "                                    ,'tmax':'noaa_temperature_max'\n",
    "                                    ,'tmin':'noaa_temperature_min'\n",
    "                                    ,'wdf2':'noaa_wind_direction'\n",
    "                                    ,'CITY_NAME':'la_data_city_name'\n",
    "                                    ,'edge_motorway_id':'edge_motorway_flag' \n",
    "                                    ,'edge_motorway_link_id':'edge_motorway_link_flag'\n",
    "                                    ,'edge_living_street_id':'edge_living_street_flag'\n",
    "                                    ,'edge_bridge_id':'edge_bridge_flag' \n",
    "                                    ,'edge_oneway_id':'edge_oneway_flag'\n",
    "                                    ,'edge_tunnel_id':'edge_tunnel_flag'\n",
    "                                    ,'drv_holiday_id':'drv_holiday_flag'\n",
    "                                    ,'accident_count':'target'\n",
    "                                   }, inplace = True)"
   ]
  },
  {
   "cell_type": "code",
   "execution_count": null,
   "id": "17062e1c-0a8d-4ca4-b42d-b647b4ff66b1",
   "metadata": {},
   "outputs": [],
   "source": [
    "joined_trimmed_df.columns"
   ]
  },
  {
   "cell_type": "markdown",
   "id": "4f64f525-17ed-4add-83c7-a3fc293405fd",
   "metadata": {},
   "source": [
    "## 5. Check for missing values\n",
    "Here we check for missing values in each column and if missing values are present, we will fill them with zero."
   ]
  },
  {
   "cell_type": "code",
   "execution_count": null,
   "id": "eccd5aa9-6c4c-4d77-b0a8-f0063e99e4aa",
   "metadata": {},
   "outputs": [],
   "source": [
    "na_cnt = joined_trimmed_df.isnull().sum()\n",
    "na_cnt[na_cnt>0]"
   ]
  },
  {
   "cell_type": "code",
   "execution_count": null,
   "id": "1a9c2a88-36a5-47f1-ba6f-2dd089b55a3f",
   "metadata": {},
   "outputs": [],
   "source": [
    "joined_trimmed_df.prev1_yr_coll_cnt = joined_trimmed_df.prev1_yr_coll_cnt.fillna(0)\n",
    "joined_trimmed_df.prev2_yr_coll_cnt = joined_trimmed_df.prev2_yr_coll_cnt.fillna(0)\n",
    "joined_trimmed_df.prev1_yr_coll_neighbor1 = joined_trimmed_df.prev1_yr_coll_neighbor1.fillna(0)\n",
    "joined_trimmed_df.prev1_yr_coll_neighbor2 = joined_trimmed_df.prev1_yr_coll_neighbor2.fillna(0)\n",
    "joined_trimmed_df.prev2_yr_coll_neighbor1 = joined_trimmed_df.prev2_yr_coll_neighbor1.fillna(0)\n",
    "joined_trimmed_df.prev2_yr_coll_neighbor2 = joined_trimmed_df.prev2_yr_coll_neighbor2.fillna(0)\n",
    "joined_trimmed_df.amenities_restaurant_cnt = joined_trimmed_df.amenities_restaurant_cnt.fillna(0)\n",
    "joined_trimmed_df.amenities_bar_cnt = joined_trimmed_df.amenities_bar_cnt.fillna(0)\n",
    "joined_trimmed_df.amenities_school_cnt = joined_trimmed_df.amenities_school_cnt.fillna(0)\n",
    "joined_trimmed_df.amenities_college_cnt = joined_trimmed_df.amenities_college_cnt.fillna(0)\n"
   ]
  },
  {
   "cell_type": "markdown",
   "id": "51810e74-e528-41fa-990f-d8c02df28ec4",
   "metadata": {},
   "source": [
    "Check if any columns contain missing values."
   ]
  },
  {
   "cell_type": "code",
   "execution_count": null,
   "id": "76b8fa46-e85c-4319-9790-7e798fc47b1b",
   "metadata": {},
   "outputs": [],
   "source": [
    "na_cnt = joined_trimmed_df.isnull().sum()\n",
    "na_cnt[na_cnt>0]"
   ]
  },
  {
   "cell_type": "code",
   "execution_count": null,
   "id": "fbdf15a6-1081-4366-9422-40f291e52a5d",
   "metadata": {},
   "outputs": [],
   "source": [
    "max_edge_mode = joined_trimmed_df.edge_lanes_max.value_counts().index[0]\n",
    "max_edge_mode"
   ]
  },
  {
   "cell_type": "code",
   "execution_count": null,
   "id": "fb858d12-4ec8-41f8-925f-91dd0debe074",
   "metadata": {},
   "outputs": [],
   "source": [
    "joined_trimmed_df['drv_edge_lanes_max_imputed_flag'] = joined_trimmed_df['edge_lanes_max'].isna()"
   ]
  },
  {
   "cell_type": "code",
   "execution_count": null,
   "id": "98e324e6-4ad8-4198-9415-907fb986f4b9",
   "metadata": {},
   "outputs": [],
   "source": [
    "joined_trimmed_df['drv_edge_lanes_max_imputed_flag'].value_counts()"
   ]
  },
  {
   "cell_type": "code",
   "execution_count": null,
   "id": "228b73c0-0a76-4c88-87d8-2dd0604d38fa",
   "metadata": {},
   "outputs": [],
   "source": [
    "joined_trimmed_df.edge_lanes_max = joined_trimmed_df.edge_lanes_max.fillna(max_edge_mode)"
   ]
  },
  {
   "cell_type": "code",
   "execution_count": null,
   "id": "8b2ab58a-065d-4c53-9a2a-8909aa575987",
   "metadata": {},
   "outputs": [],
   "source": [
    "#update true false id columns\n",
    "for col in joined_trimmed_df.columns:\n",
    "    if (col.endswith('_flag')):\n",
    "        joined_trimmed_df.loc[joined_trimmed_df[col] == True, col] = 1\n",
    "        joined_trimmed_df.loc[joined_trimmed_df[col] == False, col] = 0\n",
    "        joined_trimmed_df[col] = joined_trimmed_df[col].astype('int')\n",
    "        "
   ]
  },
  {
   "cell_type": "code",
   "execution_count": null,
   "id": "9e052d3c-8959-43c1-94f5-f4429d0eed90",
   "metadata": {},
   "outputs": [],
   "source": [
    "joined_trimmed_df.sample(2)"
   ]
  },
  {
   "cell_type": "markdown",
   "id": "0a7b4b2f-cc49-4862-af19-31a02c30024e",
   "metadata": {},
   "source": [
    "## 6. Review number of records in final dataset\n",
    "Get count of records for train-test-validation"
   ]
  },
  {
   "cell_type": "code",
   "execution_count": null,
   "id": "8447d146-3543-42bc-a12b-b651c4008ef1",
   "metadata": {},
   "outputs": [],
   "source": [
    "joined_trimmed_df.ttv_split.value_counts()"
   ]
  },
  {
   "cell_type": "markdown",
   "id": "904d0b55-11fb-4e5c-8dd4-403ea48ee61b",
   "metadata": {},
   "source": [
    "Get count of records for accident_count"
   ]
  },
  {
   "cell_type": "code",
   "execution_count": null,
   "id": "cce0898a-f1e4-42fa-b29a-ebd4c7ba5b9f",
   "metadata": {},
   "outputs": [],
   "source": [
    "joined_trimmed_df.target.value_counts()"
   ]
  },
  {
   "cell_type": "code",
   "execution_count": null,
   "id": "db88091f-9b0c-4fa1-8ee7-40018eeaf9b5",
   "metadata": {},
   "outputs": [],
   "source": [
    "#variable 3\n",
    "var_numb = 7\n",
    "#print(joined_trimmed_df.columns[var_numb])\n",
    "for var_numb in range(len(joined_trimmed_df.columns)):\n",
    "    if 'top' in joined_trimmed_df[joined_trimmed_df.columns[var_numb]].describe().index:\n",
    "        print(joined_trimmed_df.columns[var_numb])\n",
    "        print(var_numb)\n",
    "        print(pd.DataFrame(joined_trimmed_df[joined_trimmed_df.columns[var_numb]].describe()))"
   ]
  },
  {
   "cell_type": "code",
   "execution_count": null,
   "id": "e1baf1bb-8675-4c90-9877-8078b83a4f84",
   "metadata": {},
   "outputs": [],
   "source": [
    "joined_trimmed_df.describe()"
   ]
  },
  {
   "cell_type": "markdown",
   "id": "e8e034fc-8f1d-410d-a1fe-b6d3ee235311",
   "metadata": {},
   "source": [
    "## 7. Save final dataset\n",
    "### 7.1 Save to parquet and upload to S3 bucket"
   ]
  },
  {
   "cell_type": "code",
   "execution_count": null,
   "id": "1fc6de19-8674-4d7d-a605-a9540517688b",
   "metadata": {},
   "outputs": [],
   "source": [
    "# awswrangler.s3.to_csv(df=joined_trimmed_df, path = 's3://traffic-data-bucket/model_data/model_data_post_transformation.csv', index=False,\n",
    "#                        boto3_session=my_session, use_threads=True\n",
    "#                        )\n",
    "\n",
    "\n",
    "awswrangler.s3.to_parquet(df=joined_trimmed_df, path = f's3://{s3_bucket}/model_data/model_data_post_transformation.parquet', index=False,\n",
    "                        boto3_session=my_session, use_threads=True\n",
    "                        )"
   ]
  },
  {
   "cell_type": "markdown",
   "id": "648e0546-25a4-4cf8-bfb7-d5ad9220458a",
   "metadata": {
    "tags": []
   },
   "source": [
    "### 7.1 Store local copy of sample dataset"
   ]
  },
  {
   "cell_type": "code",
   "execution_count": null,
   "id": "feaa6959-00bf-4484-b287-6a0a5f659819",
   "metadata": {},
   "outputs": [],
   "source": [
    "joined_trimmed_df[0:50].to_csv(root / 'X.data' / 'model_data' / 'model_data_post_transformation.csv', index = False )"
   ]
  },
  {
   "cell_type": "markdown",
   "id": "0df8a75b-155e-4ec9-bcc3-b474dd44e78c",
   "metadata": {},
   "source": [
    "### 7.2. Store local copy of full dataset"
   ]
  },
  {
   "cell_type": "code",
   "execution_count": null,
   "id": "589c3282-fa61-4c93-be80-0b21d9592105",
   "metadata": {},
   "outputs": [],
   "source": [
    "#create a local copy\n",
    "joined_trimmed_df.to_csv(root / 'X.data' / 'model_data' / 'model_data_post_transformation.csv', index = False )"
   ]
  },
  {
   "cell_type": "code",
   "execution_count": null,
   "id": "e50d7709-a877-4e50-8815-21579f18172d",
   "metadata": {},
   "outputs": [],
   "source": []
  }
 ],
 "metadata": {
  "kernelspec": {
   "display_name": "Python 3 (ipykernel)",
   "language": "python",
   "name": "python3"
  },
  "language_info": {
   "codemirror_mode": {
    "name": "ipython",
    "version": 3
   },
   "file_extension": ".py",
   "mimetype": "text/x-python",
   "name": "python",
   "nbconvert_exporter": "python",
   "pygments_lexer": "ipython3",
   "version": "3.9.12"
  }
 },
 "nbformat": 4,
 "nbformat_minor": 5
}
