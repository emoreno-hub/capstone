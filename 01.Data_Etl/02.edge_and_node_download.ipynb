{
 "cells": [
  {
   "cell_type": "markdown",
   "id": "0c29158d-1465-4d53-9ff2-602f51c943f4",
   "metadata": {},
   "source": [
    "# Construct Street Network: EC2 Instance Notebook\n",
    "OSMnx is a Python package to retrieve, model, analyze, and visualize street networks from OpenStreetMap.  This notebook uses the OSMnx library to consruct a nework of nodes and edges for Los Angeles County and is meant to run on an EC2 instance due to it being computationally expensive.  There are a few linux commands that are used to transfer data from the EC2 instance to the S3 bucket."
   ]
  },
  {
   "cell_type": "code",
   "execution_count": null,
   "id": "c06db4e9",
   "metadata": {},
   "outputs": [],
   "source": [
    "%matplotlib inline\n",
    "\n",
    "import osmnx as ox\n",
    "import matplotlib.pyplot as plt\n",
    "import numpy as np\n",
    "import geopandas  as gpd\n",
    "import pandas as pd\n",
    "ox.config(use_cache=True, log_console=False)\n",
    "%matplotlib inline\n",
    "import h3 as h3\n",
    "\n",
    "# import aws libraries\n",
    "import boto3\n",
    "# set name of S3 bucket\n",
    "s3_bucket = 'traffic-data-bucket'\n",
    "\n",
    "import warnings\n",
    "with warnings.catch_warnings():\n",
    "    warnings.simplefilter('ignore')\n",
    "\n",
    "import os\n",
    "from os.path import isfile, join\n",
    "from pathlib import Path\n",
    "from os import listdir\n",
    "import os\n",
    "os.getcwd()\n",
    "\n",
    "path =  Path(os.getcwd())\n",
    "root = path.parent.absolute()\n",
    "\n",
    "h3_level = 8\n",
    "root"
   ]
  },
  {
   "cell_type": "markdown",
   "id": "bdfd9eaf-c225-4e95-ad70-4a0e14a6fd67",
   "metadata": {},
   "source": [
    "## 1. Generate network nodes\n",
    "We start by creating the driving network within the city of Los Angeles and it will construct the street network.\n",
    "\n",
    "### 1.1 Construct graph of Los Angeles County"
   ]
  },
  {
   "cell_type": "code",
   "execution_count": null,
   "id": "f28a992b",
   "metadata": {},
   "outputs": [],
   "source": [
    "# Downlaod the street network of Los Angeles County\n",
    "G = ox.graph_from_place('Los Angeles County, CA, USA', network_type='drive')"
   ]
  },
  {
   "cell_type": "markdown",
   "id": "b2c07bbb-e2ea-43bc-b2d3-ceb5e8a8c1ea",
   "metadata": {},
   "source": [
    "Next, we consolidate intersections and rebuild graph topology which reconnects edge geometries to the new consolidated nodes"
   ]
  },
  {
   "cell_type": "code",
   "execution_count": null,
   "id": "ad598db0-58ac-4339-a7bc-28e01032b733",
   "metadata": {},
   "outputs": [],
   "source": [
    "# get a GeoSeries of consolidated intersections\n",
    "Gc = ox.consolidate_intersections(ox.project_graph(G))"
   ]
  },
  {
   "cell_type": "markdown",
   "id": "ca121305-a8fa-4720-b036-173ab4a4adb5",
   "metadata": {},
   "source": [
    "Next, convert the MultiDiGraph to a GeoPandas dataframe."
   ]
  },
  {
   "cell_type": "code",
   "execution_count": null,
   "id": "e99c02cc-93ba-4b88-8f22-2cfdfa32b6ca",
   "metadata": {},
   "outputs": [],
   "source": [
    "nodes = ox.graph_to_gdfs(Gc, edges=False)\n",
    "nodes[['x', 'y', 'lat', 'lon']]"
   ]
  },
  {
   "cell_type": "markdown",
   "id": "b2b5d86f-ef3a-4aff-a048-e98c7ccade40",
   "metadata": {},
   "source": [
    "Let's view some of the nodes and the unique highways."
   ]
  },
  {
   "cell_type": "code",
   "execution_count": null,
   "id": "c26d0f47",
   "metadata": {},
   "outputs": [],
   "source": [
    "display(nodes.head())"
   ]
  },
  {
   "cell_type": "code",
   "execution_count": null,
   "id": "0242d5ec",
   "metadata": {},
   "outputs": [],
   "source": [
    "nodes.shape"
   ]
  },
  {
   "cell_type": "markdown",
   "id": "2d6411b3-c2b4-4fd9-a875-05c131299c34",
   "metadata": {},
   "source": [
    "### 1.2 Create shapefile from network of nodes"
   ]
  },
  {
   "cell_type": "code",
   "execution_count": null,
   "id": "b173a922",
   "metadata": {},
   "outputs": [],
   "source": [
    "nodes.to_file(root / 'X.data' / 'nodes_and_edges' / 'la_county_nodes' / 'la_county_nodes.shp')"
   ]
  },
  {
   "cell_type": "markdown",
   "id": "dbcf15fa",
   "metadata": {},
   "source": [
    "### 1.3 Upload all node shapefiles from EC2 to S3 bucket\n",
    "AWS CLI has to be installed on Ubuntu in order for this to work and can be installed via `sudo apt-get install awscli` in the terminal."
   ]
  },
  {
   "cell_type": "code",
   "execution_count": null,
   "id": "d3c7acd7",
   "metadata": {},
   "outputs": [],
   "source": [
    "!aws s3 sync /home/ubuntu/X.data/nodes_and_edges/la_county_nodes s3://traffic-data-bucket/nodes_and_edges/la_county_nodes"
   ]
  },
  {
   "cell_type": "markdown",
   "id": "9537a697-d8b3-40c7-b6c0-74b30e2a4600",
   "metadata": {},
   "source": [
    "### 1.4 Apply the hexagon id based on the latitude and longitude for each point"
   ]
  },
  {
   "cell_type": "code",
   "execution_count": null,
   "id": "796b294d",
   "metadata": {},
   "outputs": [],
   "source": [
    "def lat_lng_to_h3(row):\n",
    "    return h3.geo_to_h3(row.lat, row.lon, h3_level)\n",
    "\n",
    "\n",
    "nodes['hex_id'] = nodes.apply(lat_lng_to_h3, axis=1)"
   ]
  },
  {
   "cell_type": "code",
   "execution_count": null,
   "id": "6104858d",
   "metadata": {},
   "outputs": [],
   "source": [
    "nodes.sample(2)"
   ]
  },
  {
   "cell_type": "code",
   "execution_count": null,
   "id": "504b1042",
   "metadata": {},
   "outputs": [],
   "source": [
    "nodes.highway.value_counts()"
   ]
  },
  {
   "cell_type": "markdown",
   "id": "36a34c95-5c54-42c7-9392-0087d287eca0",
   "metadata": {},
   "source": [
    "### 1.5 Get counts of the number of highways and streets within each hex id"
   ]
  },
  {
   "cell_type": "code",
   "execution_count": null,
   "id": "372f021d",
   "metadata": {},
   "outputs": [],
   "source": [
    "highway_cnts = nodes.groupby(['hex_id', 'highway']).hex_id.agg('count').to_frame('count').reset_index()\n",
    "highway_cnts.sample(3)"
   ]
  },
  {
   "cell_type": "code",
   "execution_count": null,
   "id": "25b1f169",
   "metadata": {},
   "outputs": [],
   "source": [
    "street_count_cnts = nodes.groupby(['hex_id', 'street_count']).hex_id.agg('count').to_frame('count').reset_index()\n",
    "street_count_cnts.sample(3)"
   ]
  },
  {
   "cell_type": "markdown",
   "id": "d094750d-b1fc-4030-acc2-a1c6e0d086fd",
   "metadata": {},
   "source": [
    "### 1.6 Write highway and street counts data to CSV and upload to S3 bucket"
   ]
  },
  {
   "cell_type": "code",
   "execution_count": null,
   "id": "375dbf0d",
   "metadata": {},
   "outputs": [],
   "source": [
    "highway_cnts.to_csv(f\"s3://{s3_bucket}/nodes_and_edges/nodes_highway_cnts.csv\")"
   ]
  },
  {
   "cell_type": "code",
   "execution_count": null,
   "id": "356ad46b",
   "metadata": {},
   "outputs": [],
   "source": [
    "street_count_cnts.to_csv(f\"s3://{s3_bucket}/nodes_and_edges/nodes_street_count_cnts.csv\")"
   ]
  },
  {
   "cell_type": "code",
   "execution_count": null,
   "id": "435512de",
   "metadata": {},
   "outputs": [],
   "source": [
    "del nodes"
   ]
  },
  {
   "cell_type": "markdown",
   "id": "861e8359",
   "metadata": {},
   "source": [
    "## 2. Generate network edges\n",
    "### 2.1 Construct graph of Los Angeles County and add edge speeds"
   ]
  },
  {
   "cell_type": "code",
   "execution_count": null,
   "id": "89f06ce4",
   "metadata": {},
   "outputs": [],
   "source": [
    "#G = ox.graph_from_place('Long Beach, CA, USA', network_type='drive')\n",
    "G = ox.graph_from_place('Los Angeles County, CA, USA', network_type='drive')\n",
    "G = ox.add_edge_speeds(G)"
   ]
  },
  {
   "cell_type": "code",
   "execution_count": null,
   "id": "d933dee4",
   "metadata": {},
   "outputs": [],
   "source": [
    "import warnings\n",
    "warnings.filterwarnings('ignore')\n",
    "Gc = ox.consolidate_intersections(ox.project_graph(G))"
   ]
  },
  {
   "cell_type": "markdown",
   "id": "79325ab8",
   "metadata": {},
   "source": [
    "### 2.2 Convert MultiDiGraph to a GeoDataframe of nodes"
   ]
  },
  {
   "cell_type": "code",
   "execution_count": null,
   "id": "f3ff3ade",
   "metadata": {},
   "outputs": [],
   "source": [
    "df_nodes = ox.graph_to_gdfs(Gc, edges=False)"
   ]
  },
  {
   "cell_type": "code",
   "execution_count": null,
   "id": "eee4063e",
   "metadata": {},
   "outputs": [],
   "source": [
    "print(df_nodes.shape)\n",
    "len(df_nodes.osmid_original.unique())"
   ]
  },
  {
   "cell_type": "markdown",
   "id": "b745d615",
   "metadata": {},
   "source": [
    "### 2.3 Convert MultiDiGraph to a GeoDataframe of edges"
   ]
  },
  {
   "cell_type": "code",
   "execution_count": null,
   "id": "b12faf68",
   "metadata": {},
   "outputs": [],
   "source": [
    "df_edges = ox.graph_to_gdfs(Gc, nodes=False)"
   ]
  },
  {
   "cell_type": "markdown",
   "id": "c958e965",
   "metadata": {},
   "source": [
    "### 2.4 Get counts for highways and bridges"
   ]
  },
  {
   "cell_type": "code",
   "execution_count": null,
   "id": "7bdfd181",
   "metadata": {},
   "outputs": [],
   "source": [
    "df_nodes.highway.value_counts()"
   ]
  },
  {
   "cell_type": "code",
   "execution_count": null,
   "id": "c5b1536b-8ca2-4b72-88fb-0c2c244f0265",
   "metadata": {},
   "outputs": [],
   "source": [
    "df_edges.bridge.value_counts()"
   ]
  },
  {
   "cell_type": "code",
   "execution_count": null,
   "id": "515a2781-e5dc-483c-aa27-c836806fa889",
   "metadata": {},
   "outputs": [],
   "source": [
    "df_edges.shape"
   ]
  },
  {
   "cell_type": "markdown",
   "id": "1f42eb48",
   "metadata": {},
   "source": [
    "## 3. Feature engineering\n",
    "### 3.1 Create functions to get maximum and first values for features"
   ]
  },
  {
   "cell_type": "code",
   "execution_count": null,
   "id": "e0972d04",
   "metadata": {},
   "outputs": [],
   "source": [
    "import re\n",
    "\n",
    "def get_max(var):\n",
    "    max_var = int(0)\n",
    "    if var is np.nan:\n",
    "        max_var = var\n",
    "    \n",
    "    elif isinstance(var, list):\n",
    "        for a_string in var:\n",
    "            a_string = str(a_string)\n",
    "            numbers = [int(word) for word in a_string.split() if word.isdigit()]\n",
    "            var_int = int(numbers[0])\n",
    "            if var_int > max_var:\n",
    "                max_var = var_int       \n",
    "\n",
    "    else:\n",
    "        var = str(var)\n",
    "        numbers = [int(word) for word in var.split() if word.isdigit()]\n",
    "        max_var = int(numbers[0])\n",
    "\n",
    "    return(max_var)\n",
    "\n",
    "def get_max_float(var):\n",
    "    max_var = float(0)\n",
    "    if var is np.nan:\n",
    "        max_var = var\n",
    "    \n",
    "    elif isinstance(var, list):\n",
    "        for a_string in var:\n",
    "            a_string = str(a_string)\n",
    "            a_string = re.findall(r'\\d*\\.?\\d+', a_string)\n",
    "            var_float = float(a_string[0])\n",
    "            if var_float > max_var:\n",
    "                max_var = var_float       \n",
    "    else:\n",
    "        var = re.findall(r'\\d*\\.?\\d+', var)\n",
    "        max_var = float(var[0])\n",
    "    return(max_var)\n",
    "\n",
    "\n",
    "def get_first(var):\n",
    "    \n",
    "    if var is np.nan:\n",
    "        first_var = var\n",
    "    \n",
    "    elif isinstance(var, list):\n",
    "        first_var = str(var[0])\n",
    "    else:\n",
    "        first_var = str(var)\n",
    "    return(first_var)\n"
   ]
  },
  {
   "cell_type": "code",
   "execution_count": null,
   "id": "3f20111e",
   "metadata": {},
   "outputs": [],
   "source": [
    "df_edges.sample(3)"
   ]
  },
  {
   "cell_type": "code",
   "execution_count": null,
   "id": "1944e0ba",
   "metadata": {},
   "outputs": [],
   "source": [
    "cols_to_keep = ['osmid', 'speed_kph', 'ref', 'name', 'highway','oneway','length','lanes','maxspeed','bridge','access','junction','tunnel', 'geometry', ]\n",
    "\n",
    "df_edges.reset_index(inplace = True, drop = True)\n",
    "df_edges = df_edges[cols_to_keep]\n",
    "\n",
    "display(df_edges.sample(2))"
   ]
  },
  {
   "cell_type": "code",
   "execution_count": null,
   "id": "29265ba3",
   "metadata": {},
   "outputs": [],
   "source": [
    "df_edges.dtypes"
   ]
  },
  {
   "cell_type": "markdown",
   "id": "a3e2bc54",
   "metadata": {},
   "source": [
    "### 3.2 Add traffic and road features to edges dataset\n",
    "Generate new features for each fo the edges such as maximum speed, number of lanes, highway type, etc."
   ]
  },
  {
   "cell_type": "code",
   "execution_count": null,
   "id": "c48645c5",
   "metadata": {},
   "outputs": [],
   "source": [
    "df_edges['maxspeed'] = df_edges.apply(lambda x: get_max(x.maxspeed), axis=1)"
   ]
  },
  {
   "cell_type": "code",
   "execution_count": null,
   "id": "164987ed-4217-4bd8-a1ed-35acff9d40c6",
   "metadata": {},
   "outputs": [],
   "source": [
    "#df_edges['width'] = df_edges.apply(lambda x: get_max(x.width), axis=1)"
   ]
  },
  {
   "cell_type": "code",
   "execution_count": null,
   "id": "c9ad5486-b019-40cd-8261-9cab75d52123",
   "metadata": {},
   "outputs": [],
   "source": [
    "df_edges['lanes'] = df_edges.apply(lambda x: get_max(x.lanes), axis=1)"
   ]
  },
  {
   "cell_type": "code",
   "execution_count": null,
   "id": "40a96e14-d411-4416-9242-f327b9439ddf",
   "metadata": {},
   "outputs": [],
   "source": [
    "df_edges['bridge'] = df_edges.apply(lambda x: get_first(x.bridge), axis=1)"
   ]
  },
  {
   "cell_type": "code",
   "execution_count": null,
   "id": "76a30952",
   "metadata": {},
   "outputs": [],
   "source": [
    "df_edges['speed_kph'] = df_edges.apply(lambda x: get_first(x.speed_kph), axis=1)"
   ]
  },
  {
   "cell_type": "code",
   "execution_count": null,
   "id": "54ba23e8",
   "metadata": {},
   "outputs": [],
   "source": [
    "df_edges['name'] = df_edges.apply(lambda x: get_first(x['name']), axis=1)"
   ]
  },
  {
   "cell_type": "code",
   "execution_count": null,
   "id": "a01aa982",
   "metadata": {},
   "outputs": [],
   "source": [
    "df_edges['osmid'] = df_edges.apply(lambda x: get_first(x.osmid), axis=1)"
   ]
  },
  {
   "cell_type": "code",
   "execution_count": null,
   "id": "978b11e6",
   "metadata": {},
   "outputs": [],
   "source": [
    "df_edges['ref'] = df_edges.apply(lambda x: get_first(x.ref), axis=1)"
   ]
  },
  {
   "cell_type": "code",
   "execution_count": null,
   "id": "4b30a86e",
   "metadata": {},
   "outputs": [],
   "source": [
    "df_edges['highway'] = df_edges.apply(lambda x: get_first(x.highway), axis=1)"
   ]
  },
  {
   "cell_type": "code",
   "execution_count": null,
   "id": "aac57563-913a-4464-ac5b-e712bde7b63a",
   "metadata": {},
   "outputs": [],
   "source": [
    "df_edges['oneway'] = df_edges.apply(lambda x: get_first(x.oneway), axis=1)"
   ]
  },
  {
   "cell_type": "code",
   "execution_count": null,
   "id": "33fafccc-3de5-404b-992c-5dfc7163cbe0",
   "metadata": {},
   "outputs": [],
   "source": [
    "df_edges['access'] = df_edges.apply(lambda x: get_first(x.access), axis=1)"
   ]
  },
  {
   "cell_type": "code",
   "execution_count": null,
   "id": "c7dccce5-99af-4784-99ef-b052725d69b3",
   "metadata": {},
   "outputs": [],
   "source": [
    "df_edges['junction'] = df_edges.apply(lambda x: get_first(x.junction), axis=1)"
   ]
  },
  {
   "cell_type": "code",
   "execution_count": null,
   "id": "d4a0a0af-0fdd-4125-b61b-4d38fda42b87",
   "metadata": {},
   "outputs": [],
   "source": [
    "df_edges['tunnel'] = df_edges.apply(lambda x: get_first(x.tunnel), axis=1)"
   ]
  },
  {
   "cell_type": "code",
   "execution_count": null,
   "id": "eebced17",
   "metadata": {},
   "outputs": [],
   "source": [
    "df_edges.sample(3)"
   ]
  },
  {
   "cell_type": "markdown",
   "id": "7a5edb6a",
   "metadata": {},
   "source": [
    "### 3.3 Create shapefile from network of edges"
   ]
  },
  {
   "cell_type": "code",
   "execution_count": null,
   "id": "f358b997",
   "metadata": {},
   "outputs": [],
   "source": [
    "df_edges.to_file(root / 'X.data' /  'nodes_and_edges' / 'la_county_edges' / 'la_county_edges.shp', index=False)"
   ]
  },
  {
   "cell_type": "markdown",
   "id": "d8a4aa00",
   "metadata": {},
   "source": [
    "### 3.4 Upload all edge shapefiles from EC2 Instance to S3 bucket"
   ]
  },
  {
   "cell_type": "code",
   "execution_count": null,
   "id": "9e220d62",
   "metadata": {},
   "outputs": [],
   "source": [
    "!aws s3 sync /home/ubuntu/X.data/nodes_and_edges/la_county_edges s3://traffic-data-bucket/nodes_and_edges/la_county_edges"
   ]
  },
  {
   "cell_type": "code",
   "execution_count": null,
   "id": "a9b6a0d4-577f-442d-a1dd-b79864040f24",
   "metadata": {},
   "outputs": [],
   "source": [
    "df_edges.shape"
   ]
  },
  {
   "cell_type": "code",
   "execution_count": null,
   "id": "0e015f9a-d480-4853-9841-7099d0decb7d",
   "metadata": {},
   "outputs": [],
   "source": []
  }
 ],
 "metadata": {
  "kernelspec": {
   "display_name": "Python [conda env:Hexagon]",
   "language": "python",
   "name": "conda-env-Hexagon-py"
  },
  "language_info": {
   "codemirror_mode": {
    "name": "ipython",
    "version": 3
   },
   "file_extension": ".py",
   "mimetype": "text/x-python",
   "name": "python",
   "nbconvert_exporter": "python",
   "pygments_lexer": "ipython3",
   "version": "3.7.13"
  }
 },
 "nbformat": 4,
 "nbformat_minor": 5
}
