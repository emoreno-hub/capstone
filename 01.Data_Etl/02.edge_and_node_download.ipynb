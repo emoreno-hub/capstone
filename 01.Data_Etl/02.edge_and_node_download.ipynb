{
 "cells": [
  {
   "cell_type": "code",
   "execution_count": null,
   "id": "c06db4e9",
   "metadata": {},
   "outputs": [],
   "source": [
    "%matplotlib inline\n",
    "\n",
    "import osmnx as ox\n",
    "import matplotlib.pyplot as plt\n",
    "import numpy as np\n",
    "import geopandas  as gpd\n",
    "import pandas as pd\n",
    "ox.config(use_cache=True, log_console=False)\n",
    "%matplotlib inline\n",
    "import h3 as h3\n",
    "\n",
    "import warnings\n",
    "with warnings.catch_warnings():\n",
    "    warnings.simplefilter('ignore')\n",
    "\n",
    "import os\n",
    "from os.path import isfile, join\n",
    "from pathlib import Path\n",
    "from os import listdir\n",
    "import os\n",
    "os.getcwd()\n",
    "\n",
    "path =  Path(os.getcwd())\n",
    "root = path.parent.absolute()\n",
    "\n",
    "h3_level = 10\n",
    "root"
   ]
  },
  {
   "cell_type": "code",
   "execution_count": null,
   "id": "f28a992b",
   "metadata": {},
   "outputs": [],
   "source": [
    "G = ox.graph_from_place('Los Angeles County, CA, USA', network_type='drive')\n",
    "#G = ox.graph_from_place('Long Beach, CA, USA', network_type='drive')\n",
    "Gc = ox.consolidate_intersections(ox.project_graph(G))\n",
    "nodes = ox.graph_to_gdfs(Gc, edges=False)\n",
    "nodes[['x', 'y', 'lat', 'lon']]"
   ]
  },
  {
   "cell_type": "code",
   "execution_count": null,
   "id": "c26d0f47",
   "metadata": {},
   "outputs": [],
   "source": [
    "display(nodes.head())"
   ]
  },
  {
   "cell_type": "code",
   "execution_count": null,
   "id": "49732b41",
   "metadata": {},
   "outputs": [],
   "source": [
    "nodes.highway.unique()"
   ]
  },
  {
   "cell_type": "code",
   "execution_count": null,
   "id": "0242d5ec",
   "metadata": {},
   "outputs": [],
   "source": [
    "nodes.shape"
   ]
  },
  {
   "cell_type": "code",
   "execution_count": null,
   "id": "b173a922",
   "metadata": {},
   "outputs": [],
   "source": [
    "nodes.to_file(root / 'X.data' / 'nodes_and_edges' / 'la_county_nodes' / 'la_county_nodes.shp')"
   ]
  },
  {
   "cell_type": "code",
   "execution_count": null,
   "id": "796b294d",
   "metadata": {},
   "outputs": [],
   "source": [
    "def lat_lng_to_h3(row):\n",
    "    return h3.geo_to_h3(row.lat, row.lon, h3_level)\n",
    "\n",
    "\n",
    "nodes['hex_id'] = nodes.apply(lat_lng_to_h3, axis=1)"
   ]
  },
  {
   "cell_type": "code",
   "execution_count": null,
   "id": "6104858d",
   "metadata": {},
   "outputs": [],
   "source": [
    "nodes.sample(2)"
   ]
  },
  {
   "cell_type": "code",
   "execution_count": null,
   "id": "504b1042",
   "metadata": {},
   "outputs": [],
   "source": [
    "nodes.highway.value_counts()"
   ]
  },
  {
   "cell_type": "code",
   "execution_count": null,
   "id": "372f021d",
   "metadata": {},
   "outputs": [],
   "source": [
    "highway_cnts = nodes.groupby(['hex_id', 'highway']).hex_id.agg('count').to_frame('count').reset_index()\n",
    "highway_cnts.sample(3)"
   ]
  },
  {
   "cell_type": "code",
   "execution_count": null,
   "id": "25b1f169",
   "metadata": {},
   "outputs": [],
   "source": [
    "street_count_cnts = nodes.groupby(['hex_id', 'street_count']).hex_id.agg('count').to_frame('count').reset_index()\n",
    "street_count_cnts.sample(3)"
   ]
  },
  {
   "cell_type": "code",
   "execution_count": null,
   "id": "b0778dec",
   "metadata": {},
   "outputs": [],
   "source": [
    "highway_cnts.to_csv(root / 'X.data' / 'nodes_and_edges' / 'nodes_highway_cnts.csv', index = False )"
   ]
  },
  {
   "cell_type": "code",
   "execution_count": null,
   "id": "2f54cd02",
   "metadata": {},
   "outputs": [],
   "source": [
    "street_count_cnts.to_csv(root / 'X.data' / 'nodes_and_edges' / 'nodes_street_count_cnts.csv', index = False )"
   ]
  },
  {
   "cell_type": "code",
   "execution_count": null,
   "id": "435512de",
   "metadata": {},
   "outputs": [],
   "source": [
    "del nodes"
   ]
  },
  {
   "cell_type": "code",
   "execution_count": null,
   "id": "89f06ce4",
   "metadata": {},
   "outputs": [],
   "source": [
    "#G = ox.graph_from_place('Long Beach, CA, USA', network_type='drive')\n",
    "#G = ox.graph_from_place('Los Angeles County, CA, USA', network_type='drive')\n",
    "G = ox.add_edge_speeds(G)"
   ]
  },
  {
   "cell_type": "code",
   "execution_count": null,
   "id": "d933dee4",
   "metadata": {},
   "outputs": [],
   "source": [
    "import warnings\n",
    "warnings.filterwarnings('ignore')\n",
    "Gc = ox.consolidate_intersections(ox.project_graph(G))"
   ]
  },
  {
   "cell_type": "code",
   "execution_count": null,
   "id": "f3ff3ade",
   "metadata": {},
   "outputs": [],
   "source": [
    "df_nodes = ox.graph_to_gdfs(Gc, edges=False)"
   ]
  },
  {
   "cell_type": "code",
   "execution_count": null,
   "id": "eee4063e",
   "metadata": {},
   "outputs": [],
   "source": [
    "print(df_nodes.shape)\n",
    "len(df_nodes.osmid_original.unique())"
   ]
  },
  {
   "cell_type": "code",
   "execution_count": null,
   "id": "b12faf68",
   "metadata": {},
   "outputs": [],
   "source": [
    "df_edges = ox.graph_to_gdfs(Gc, nodes=False)"
   ]
  },
  {
   "cell_type": "code",
   "execution_count": null,
   "id": "7bdfd181",
   "metadata": {},
   "outputs": [],
   "source": [
    "df_nodes.highway.value_counts()"
   ]
  },
  {
   "cell_type": "code",
   "execution_count": null,
   "id": "c5b1536b-8ca2-4b72-88fb-0c2c244f0265",
   "metadata": {},
   "outputs": [],
   "source": [
    "df_edges.bridge.value_counts()"
   ]
  },
  {
   "cell_type": "code",
   "execution_count": null,
   "id": "515a2781-e5dc-483c-aa27-c836806fa889",
   "metadata": {},
   "outputs": [],
   "source": [
    "df_edges.shape"
   ]
  },
  {
   "cell_type": "code",
   "execution_count": null,
   "id": "f83368e4-383b-46ab-a9b9-641ee6ef68fb",
   "metadata": {},
   "outputs": [],
   "source": [
    "len(df_edges['osmid'].unique())"
   ]
  },
  {
   "cell_type": "code",
   "execution_count": null,
   "id": "e0972d04",
   "metadata": {},
   "outputs": [],
   "source": [
    "import re\n",
    "\n",
    "def get_max(var):\n",
    "    max_var = int(0)\n",
    "    if var is np.nan:\n",
    "        max_var = var\n",
    "    \n",
    "    elif isinstance(var, list):\n",
    "        for a_string in var:\n",
    "            a_string = str(a_string)\n",
    "            numbers = [int(word) for word in a_string.split() if word.isdigit()]\n",
    "            var_int = int(numbers[0])\n",
    "            if var_int > max_var:\n",
    "                max_var = var_int       \n",
    "\n",
    "    else:\n",
    "        var = str(var)\n",
    "        numbers = [int(word) for word in var.split() if word.isdigit()]\n",
    "        max_var = int(numbers[0])\n",
    "\n",
    "    return(max_var)\n",
    "\n",
    "def get_max_float(var):\n",
    "    max_var = float(0)\n",
    "    if var is np.nan:\n",
    "        max_var = var\n",
    "    \n",
    "    elif isinstance(var, list):\n",
    "        for a_string in var:\n",
    "            a_string = str(a_string)\n",
    "            a_string = re.findall(r'\\d*\\.?\\d+', a_string)\n",
    "            var_float = float(a_string[0])\n",
    "            if var_float > max_var:\n",
    "                max_var = var_float       \n",
    "    else:\n",
    "        var = re.findall(r'\\d*\\.?\\d+', var)\n",
    "        max_var = float(var[0])\n",
    "    return(max_var)\n",
    "\n",
    "\n",
    "def get_first(var):\n",
    "    \n",
    "    if var is np.nan:\n",
    "        first_var = var\n",
    "    \n",
    "    elif isinstance(var, list):\n",
    "        first_var = str(var[0])\n",
    "    else:\n",
    "        first_var = str(var)\n",
    "    return(first_var)\n"
   ]
  },
  {
   "cell_type": "code",
   "execution_count": null,
   "id": "3f20111e",
   "metadata": {},
   "outputs": [],
   "source": [
    "df_edges.sample(3)"
   ]
  },
  {
   "cell_type": "code",
   "execution_count": null,
   "id": "1944e0ba",
   "metadata": {},
   "outputs": [],
   "source": [
    "cols_to_keep = ['osmid', 'speed_kph', 'ref', 'name', 'highway','oneway','length','lanes','maxspeed','bridge','access','junction','tunnel', 'geometry']\n",
    "\n",
    "df_edges.reset_index(inplace = True, drop = True)\n",
    "df_edges = df_edges[cols_to_keep]\n",
    "\n",
    "display(df_edges.sample(2))"
   ]
  },
  {
   "cell_type": "code",
   "execution_count": null,
   "id": "29265ba3",
   "metadata": {},
   "outputs": [],
   "source": [
    "df_edges.dtypes"
   ]
  },
  {
   "cell_type": "code",
   "execution_count": null,
   "id": "c48645c5",
   "metadata": {},
   "outputs": [],
   "source": [
    "df_edges['maxspeed'] = df_edges.apply(lambda x: get_max(x.maxspeed), axis=1)\n",
    "df_edges['lanes'] = df_edges.apply(lambda x: get_max(x.lanes), axis=1)\n",
    "df_edges['bridge'] = df_edges.apply(lambda x: get_first(x.bridge), axis=1)"
   ]
  },
  {
   "cell_type": "code",
   "execution_count": null,
   "id": "76a30952",
   "metadata": {},
   "outputs": [],
   "source": [
    "df_edges['speed_kph'] = df_edges.apply(lambda x: get_first(x.speed_kph), axis=1)"
   ]
  },
  {
   "cell_type": "code",
   "execution_count": null,
   "id": "54ba23e8",
   "metadata": {},
   "outputs": [],
   "source": [
    "df_edges['name'] = df_edges.apply(lambda x: get_first(x['name']), axis=1)"
   ]
  },
  {
   "cell_type": "code",
   "execution_count": null,
   "id": "a01aa982",
   "metadata": {},
   "outputs": [],
   "source": [
    "df_edges['osmid'] = df_edges.apply(lambda x: get_first(x.osmid), axis=1)"
   ]
  },
  {
   "cell_type": "code",
   "execution_count": null,
   "id": "978b11e6",
   "metadata": {},
   "outputs": [],
   "source": [
    "df_edges['ref'] = df_edges.apply(lambda x: get_first(x.ref), axis=1)"
   ]
  },
  {
   "cell_type": "code",
   "execution_count": null,
   "id": "4b30a86e",
   "metadata": {},
   "outputs": [],
   "source": [
    "df_edges['highway'] = df_edges.apply(lambda x: get_first(x.highway), axis=1)"
   ]
  },
  {
   "cell_type": "code",
   "execution_count": null,
   "id": "eebced17",
   "metadata": {},
   "outputs": [],
   "source": [
    "df_edges.sample(3)"
   ]
  },
  {
   "cell_type": "code",
   "execution_count": null,
   "id": "f358b997",
   "metadata": {},
   "outputs": [],
   "source": [
    "df_edges.to_file(root / 'X.data' / 'semi_processed' / 'nodes_and_edges' / 'la_county_edges' / 'la_county_edges.shp', index=False)"
   ]
  },
  {
   "cell_type": "code",
   "execution_count": null,
   "id": "893d97bf",
   "metadata": {},
   "outputs": [],
   "source": []
  }
 ],
 "metadata": {
  "kernelspec": {
   "display_name": "Python 3 (ipykernel)",
   "language": "python",
   "name": "python3"
  },
  "language_info": {
   "codemirror_mode": {
    "name": "ipython",
    "version": 3
   },
   "file_extension": ".py",
   "mimetype": "text/x-python",
   "name": "python",
   "nbconvert_exporter": "python",
   "pygments_lexer": "ipython3",
   "version": "3.9.12"
  }
 },
 "nbformat": 4,
 "nbformat_minor": 5
}
