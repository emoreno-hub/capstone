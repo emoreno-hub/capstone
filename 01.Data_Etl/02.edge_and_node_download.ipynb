{
 "cells": [
  {
   "cell_type": "markdown",
   "id": "0c29158d-1465-4d53-9ff2-602f51c943f4",
   "metadata": {},
   "source": [
    "# Construct Street Network"
   ]
  },
  {
   "cell_type": "code",
   "execution_count": 1,
   "id": "c06db4e9",
   "metadata": {},
   "outputs": [
    {
     "name": "stderr",
     "output_type": "stream",
     "text": [
      "/home/ubuntu/.local/lib/python3.10/site-packages/osmnx/utils.py:192: UserWarning: The `utils.config` function is deprecated and will be removed in a future release. Instead, use the `settings` module directly to configure a global setting's value. For example, `ox.settings.log_console=True`.\n",
      "  warnings.warn(\n"
     ]
    },
    {
     "data": {
      "text/plain": [
       "PosixPath('/home/ubuntu')"
      ]
     },
     "execution_count": 1,
     "metadata": {},
     "output_type": "execute_result"
    }
   ],
   "source": [
    "%matplotlib inline\n",
    "\n",
    "import osmnx as ox\n",
    "import matplotlib.pyplot as plt\n",
    "import numpy as np\n",
    "import geopandas  as gpd\n",
    "import pandas as pd\n",
    "ox.config(use_cache=True, log_console=False)\n",
    "%matplotlib inline\n",
    "import h3 as h3\n",
    "\n",
    "# import aws libraries\n",
    "import boto3\n",
    "# import awswrangler\n",
    "\n",
    "import warnings\n",
    "with warnings.catch_warnings():\n",
    "    warnings.simplefilter('ignore')\n",
    "\n",
    "import os\n",
    "from os.path import isfile, join\n",
    "from pathlib import Path\n",
    "from os import listdir\n",
    "import os\n",
    "os.getcwd()\n",
    "\n",
    "path =  Path(os.getcwd())\n",
    "root = path.parent.absolute()\n",
    "\n",
    "h3_level = 8\n",
    "root"
   ]
  },
  {
   "cell_type": "markdown",
   "id": "ab7fba79-8fbc-47ea-8287-2cbb21aaba84",
   "metadata": {},
   "source": [
    "If you cannot import AWS Wrangler due to the error `AttributeError: module 'multiprocessing' has no attribute 'connection'` then try downgrading some of the dependencies by using: `pip install fsspec==0.6.3 PyAthena==1.10.2 s3fs==0.4.0`"
   ]
  },
  {
   "cell_type": "code",
   "execution_count": 2,
   "id": "02646440-29b1-41d0-803e-ce62e35eb113",
   "metadata": {},
   "outputs": [],
   "source": [
    "# pip install fsspec==0.6.3 PyAthena==1.10.2 s3fs==0.4.0"
   ]
  },
  {
   "cell_type": "markdown",
   "id": "0b38be24-8ac9-4364-9565-9a1ba56a3261",
   "metadata": {},
   "source": [
    "## Overview\n",
    "This notebook is computationally expensive because a street network of edges and nodes is being constructed and is meant to be ran on an EC2 Instance. Most cells can be ran on a local machine but the linux commands for writing from EC2 to S3 will only work when connected to EC2."
   ]
  },
  {
   "cell_type": "markdown",
   "id": "bdfd9eaf-c225-4e95-ad70-4a0e14a6fd67",
   "metadata": {},
   "source": [
    "## 1. Generate network nodes\n",
    "Here we create the driving network within the city of Los Angeles and it will construct the street network.\n",
    "\n",
    "### 1.1 Construct graph of Los Angeles County"
   ]
  },
  {
   "cell_type": "code",
   "execution_count": 3,
   "id": "f28a992b",
   "metadata": {},
   "outputs": [],
   "source": [
    "# Downlaod the street network of Los Angeles County\n",
    "G = ox.graph_from_place('Los Angeles County, CA, USA', network_type='drive')"
   ]
  },
  {
   "cell_type": "markdown",
   "id": "b2c07bbb-e2ea-43bc-b2d3-ceb5e8a8c1ea",
   "metadata": {},
   "source": [
    "Next, we consolidate intersections and rebuild graph topology which reconnects edge geometries to the new consolidated nodes"
   ]
  },
  {
   "cell_type": "code",
   "execution_count": 4,
   "id": "ad598db0-58ac-4339-a7bc-28e01032b733",
   "metadata": {},
   "outputs": [],
   "source": [
    "# get a GeoSeries of consolidated intersections\n",
    "Gc = ox.consolidate_intersections(ox.project_graph(G))"
   ]
  },
  {
   "cell_type": "markdown",
   "id": "ca121305-a8fa-4720-b036-173ab4a4adb5",
   "metadata": {},
   "source": [
    "Next, convert the MultiDiGraph to a GeoPandas dataframe."
   ]
  },
  {
   "cell_type": "code",
   "execution_count": 5,
   "id": "e99c02cc-93ba-4b88-8f22-2cfdfa32b6ca",
   "metadata": {},
   "outputs": [
    {
     "data": {
      "text/html": [
       "<div>\n",
       "<style scoped>\n",
       "    .dataframe tbody tr th:only-of-type {\n",
       "        vertical-align: middle;\n",
       "    }\n",
       "\n",
       "    .dataframe tbody tr th {\n",
       "        vertical-align: top;\n",
       "    }\n",
       "\n",
       "    .dataframe thead th {\n",
       "        text-align: right;\n",
       "    }\n",
       "</style>\n",
       "<table border=\"1\" class=\"dataframe\">\n",
       "  <thead>\n",
       "    <tr style=\"text-align: right;\">\n",
       "      <th></th>\n",
       "      <th>x</th>\n",
       "      <th>y</th>\n",
       "      <th>lat</th>\n",
       "      <th>lon</th>\n",
       "    </tr>\n",
       "    <tr>\n",
       "      <th>osmid</th>\n",
       "      <th></th>\n",
       "      <th></th>\n",
       "      <th></th>\n",
       "      <th></th>\n",
       "    </tr>\n",
       "  </thead>\n",
       "  <tbody>\n",
       "    <tr>\n",
       "      <th>0</th>\n",
       "      <td>372767.760379</td>\n",
       "      <td>3.758563e+06</td>\n",
       "      <td>NaN</td>\n",
       "      <td>NaN</td>\n",
       "    </tr>\n",
       "    <tr>\n",
       "      <th>1</th>\n",
       "      <td>372927.760839</td>\n",
       "      <td>3.758561e+06</td>\n",
       "      <td>NaN</td>\n",
       "      <td>NaN</td>\n",
       "    </tr>\n",
       "    <tr>\n",
       "      <th>2</th>\n",
       "      <td>372762.708764</td>\n",
       "      <td>3.758162e+06</td>\n",
       "      <td>33.956275</td>\n",
       "      <td>-118.377049</td>\n",
       "    </tr>\n",
       "    <tr>\n",
       "      <th>3</th>\n",
       "      <td>370663.102590</td>\n",
       "      <td>3.761865e+06</td>\n",
       "      <td>33.989402</td>\n",
       "      <td>-118.400314</td>\n",
       "    </tr>\n",
       "    <tr>\n",
       "      <th>4</th>\n",
       "      <td>370529.299423</td>\n",
       "      <td>3.762078e+06</td>\n",
       "      <td>33.991310</td>\n",
       "      <td>-118.401794</td>\n",
       "    </tr>\n",
       "    <tr>\n",
       "      <th>...</th>\n",
       "      <td>...</td>\n",
       "      <td>...</td>\n",
       "      <td>...</td>\n",
       "      <td>...</td>\n",
       "    </tr>\n",
       "    <tr>\n",
       "      <th>128559</th>\n",
       "      <td>352199.027842</td>\n",
       "      <td>3.810134e+06</td>\n",
       "      <td>34.422121</td>\n",
       "      <td>-118.608404</td>\n",
       "    </tr>\n",
       "    <tr>\n",
       "      <th>128560</th>\n",
       "      <td>352169.884566</td>\n",
       "      <td>3.810068e+06</td>\n",
       "      <td>34.421515</td>\n",
       "      <td>-118.608710</td>\n",
       "    </tr>\n",
       "    <tr>\n",
       "      <th>128561</th>\n",
       "      <td>352185.418027</td>\n",
       "      <td>3.810103e+06</td>\n",
       "      <td>NaN</td>\n",
       "      <td>NaN</td>\n",
       "    </tr>\n",
       "    <tr>\n",
       "      <th>128562</th>\n",
       "      <td>357448.978488</td>\n",
       "      <td>3.809165e+06</td>\n",
       "      <td>34.414119</td>\n",
       "      <td>-118.551130</td>\n",
       "    </tr>\n",
       "    <tr>\n",
       "      <th>128563</th>\n",
       "      <td>357424.861843</td>\n",
       "      <td>3.809122e+06</td>\n",
       "      <td>34.413724</td>\n",
       "      <td>-118.551386</td>\n",
       "    </tr>\n",
       "  </tbody>\n",
       "</table>\n",
       "<p>128564 rows × 4 columns</p>\n",
       "</div>"
      ],
      "text/plain": [
       "                    x             y        lat         lon\n",
       "osmid                                                     \n",
       "0       372767.760379  3.758563e+06        NaN         NaN\n",
       "1       372927.760839  3.758561e+06        NaN         NaN\n",
       "2       372762.708764  3.758162e+06  33.956275 -118.377049\n",
       "3       370663.102590  3.761865e+06  33.989402 -118.400314\n",
       "4       370529.299423  3.762078e+06  33.991310 -118.401794\n",
       "...               ...           ...        ...         ...\n",
       "128559  352199.027842  3.810134e+06  34.422121 -118.608404\n",
       "128560  352169.884566  3.810068e+06  34.421515 -118.608710\n",
       "128561  352185.418027  3.810103e+06        NaN         NaN\n",
       "128562  357448.978488  3.809165e+06  34.414119 -118.551130\n",
       "128563  357424.861843  3.809122e+06  34.413724 -118.551386\n",
       "\n",
       "[128564 rows x 4 columns]"
      ]
     },
     "execution_count": 5,
     "metadata": {},
     "output_type": "execute_result"
    }
   ],
   "source": [
    "nodes = ox.graph_to_gdfs(Gc, edges=False)\n",
    "nodes[['x', 'y', 'lat', 'lon']]"
   ]
  },
  {
   "cell_type": "markdown",
   "id": "b2b5d86f-ef3a-4aff-a048-e98c7ccade40",
   "metadata": {},
   "source": [
    "Let's view some of the nodes and the unique highways."
   ]
  },
  {
   "cell_type": "code",
   "execution_count": 6,
   "id": "c26d0f47",
   "metadata": {},
   "outputs": [
    {
     "data": {
      "text/html": [
       "<div>\n",
       "<style scoped>\n",
       "    .dataframe tbody tr th:only-of-type {\n",
       "        vertical-align: middle;\n",
       "    }\n",
       "\n",
       "    .dataframe tbody tr th {\n",
       "        vertical-align: top;\n",
       "    }\n",
       "\n",
       "    .dataframe thead th {\n",
       "        text-align: right;\n",
       "    }\n",
       "</style>\n",
       "<table border=\"1\" class=\"dataframe\">\n",
       "  <thead>\n",
       "    <tr style=\"text-align: right;\">\n",
       "      <th></th>\n",
       "      <th>osmid_original</th>\n",
       "      <th>x</th>\n",
       "      <th>y</th>\n",
       "      <th>street_count</th>\n",
       "      <th>highway</th>\n",
       "      <th>lon</th>\n",
       "      <th>lat</th>\n",
       "      <th>ref</th>\n",
       "      <th>geometry</th>\n",
       "    </tr>\n",
       "    <tr>\n",
       "      <th>osmid</th>\n",
       "      <th></th>\n",
       "      <th></th>\n",
       "      <th></th>\n",
       "      <th></th>\n",
       "      <th></th>\n",
       "      <th></th>\n",
       "      <th></th>\n",
       "      <th></th>\n",
       "      <th></th>\n",
       "    </tr>\n",
       "  </thead>\n",
       "  <tbody>\n",
       "    <tr>\n",
       "      <th>0</th>\n",
       "      <td>[653656, 581237354]</td>\n",
       "      <td>372767.760379</td>\n",
       "      <td>3.758563e+06</td>\n",
       "      <td>0</td>\n",
       "      <td>NaN</td>\n",
       "      <td>NaN</td>\n",
       "      <td>NaN</td>\n",
       "      <td>NaN</td>\n",
       "      <td>POINT (372767.760 3758563.017)</td>\n",
       "    </tr>\n",
       "    <tr>\n",
       "      <th>1</th>\n",
       "      <td>[123189012, 581239002]</td>\n",
       "      <td>372927.760839</td>\n",
       "      <td>3.758561e+06</td>\n",
       "      <td>0</td>\n",
       "      <td>NaN</td>\n",
       "      <td>NaN</td>\n",
       "      <td>NaN</td>\n",
       "      <td>NaN</td>\n",
       "      <td>POINT (372927.761 3758561.436)</td>\n",
       "    </tr>\n",
       "    <tr>\n",
       "      <th>2</th>\n",
       "      <td>1718756337</td>\n",
       "      <td>372762.708764</td>\n",
       "      <td>3.758162e+06</td>\n",
       "      <td>3</td>\n",
       "      <td>traffic_signals</td>\n",
       "      <td>-118.377049</td>\n",
       "      <td>33.956275</td>\n",
       "      <td>NaN</td>\n",
       "      <td>POINT (372762.709 3758162.031)</td>\n",
       "    </tr>\n",
       "    <tr>\n",
       "      <th>3</th>\n",
       "      <td>653681</td>\n",
       "      <td>370663.102590</td>\n",
       "      <td>3.761865e+06</td>\n",
       "      <td>3</td>\n",
       "      <td>NaN</td>\n",
       "      <td>-118.400314</td>\n",
       "      <td>33.989402</td>\n",
       "      <td>NaN</td>\n",
       "      <td>POINT (370663.103 3761864.529)</td>\n",
       "    </tr>\n",
       "    <tr>\n",
       "      <th>4</th>\n",
       "      <td>26427612</td>\n",
       "      <td>370529.299423</td>\n",
       "      <td>3.762078e+06</td>\n",
       "      <td>3</td>\n",
       "      <td>NaN</td>\n",
       "      <td>-118.401794</td>\n",
       "      <td>33.991310</td>\n",
       "      <td>NaN</td>\n",
       "      <td>POINT (370529.299 3762077.999)</td>\n",
       "    </tr>\n",
       "  </tbody>\n",
       "</table>\n",
       "</div>"
      ],
      "text/plain": [
       "               osmid_original              x             y  street_count  \\\n",
       "osmid                                                                      \n",
       "0         [653656, 581237354]  372767.760379  3.758563e+06             0   \n",
       "1      [123189012, 581239002]  372927.760839  3.758561e+06             0   \n",
       "2                  1718756337  372762.708764  3.758162e+06             3   \n",
       "3                      653681  370663.102590  3.761865e+06             3   \n",
       "4                    26427612  370529.299423  3.762078e+06             3   \n",
       "\n",
       "               highway         lon        lat  ref  \\\n",
       "osmid                                                \n",
       "0                  NaN         NaN        NaN  NaN   \n",
       "1                  NaN         NaN        NaN  NaN   \n",
       "2      traffic_signals -118.377049  33.956275  NaN   \n",
       "3                  NaN -118.400314  33.989402  NaN   \n",
       "4                  NaN -118.401794  33.991310  NaN   \n",
       "\n",
       "                             geometry  \n",
       "osmid                                  \n",
       "0      POINT (372767.760 3758563.017)  \n",
       "1      POINT (372927.761 3758561.436)  \n",
       "2      POINT (372762.709 3758162.031)  \n",
       "3      POINT (370663.103 3761864.529)  \n",
       "4      POINT (370529.299 3762077.999)  "
      ]
     },
     "metadata": {},
     "output_type": "display_data"
    }
   ],
   "source": [
    "display(nodes.head())"
   ]
  },
  {
   "cell_type": "code",
   "execution_count": 7,
   "id": "0242d5ec",
   "metadata": {},
   "outputs": [
    {
     "data": {
      "text/plain": [
       "(128564, 9)"
      ]
     },
     "execution_count": 7,
     "metadata": {},
     "output_type": "execute_result"
    }
   ],
   "source": [
    "nodes.shape"
   ]
  },
  {
   "cell_type": "markdown",
   "id": "2d6411b3-c2b4-4fd9-a875-05c131299c34",
   "metadata": {},
   "source": [
    "### 1.2 Create shapefile from network of nodes"
   ]
  },
  {
   "cell_type": "code",
   "execution_count": 11,
   "id": "b173a922",
   "metadata": {},
   "outputs": [
    {
     "name": "stderr",
     "output_type": "stream",
     "text": [
      "/tmp/ipykernel_1121/2608527228.py:1: UserWarning: Column names longer than 10 characters will be truncated when saved to ESRI Shapefile.\n",
      "  nodes.to_file(root / 'X.data' / 'nodes_and_edges' / 'la_county_nodes' / 'la_county_nodes.shp')\n"
     ]
    }
   ],
   "source": [
    "nodes.to_file(root / 'X.data' / 'nodes_and_edges' / 'la_county_nodes' / 'la_county_nodes.shp')"
   ]
  },
  {
   "cell_type": "markdown",
   "id": "dbcf15fa",
   "metadata": {},
   "source": [
    "### 1.3 Copy all node shapefiles from EC2 to S3 bucket\n",
    "AWS CLI has to be installed on Ubuntu in order for this to work and can be installed via `sudo apt-get install awscli` in the terminal."
   ]
  },
  {
   "cell_type": "code",
   "execution_count": 14,
   "id": "d3c7acd7",
   "metadata": {},
   "outputs": [
    {
     "name": "stdout",
     "output_type": "stream",
     "text": [
      "upload: ../X.data/nodes_and_edges/la_county_nodes/la_county_nodes.cpg to s3://traffic-data-bucket/nodes_and_edges/la_county_nodes/la_county_nodes.cpg\n",
      "upload: ../X.data/nodes_and_edges/la_county_nodes/la_county_nodes.prj to s3://traffic-data-bucket/nodes_and_edges/la_county_nodes/la_county_nodes.prj\n",
      "upload: ../X.data/nodes_and_edges/la_county_nodes/la_county_nodes.shx to s3://traffic-data-bucket/nodes_and_edges/la_county_nodes/la_county_nodes.shx\n",
      "upload: ../X.data/nodes_and_edges/la_county_nodes/la_county_nodes.shp to s3://traffic-data-bucket/nodes_and_edges/la_county_nodes/la_county_nodes.shp\n",
      "upload: ../X.data/nodes_and_edges/la_county_nodes/la_county_nodes.dbf to s3://traffic-data-bucket/nodes_and_edges/la_county_nodes/la_county_nodes.dbf\n"
     ]
    }
   ],
   "source": [
    "!aws s3 sync /home/ubuntu/X.data/nodes_and_edges/la_county_nodes s3://traffic-data-bucket/nodes_and_edges/la_county_nodes"
   ]
  },
  {
   "cell_type": "markdown",
   "id": "9537a697-d8b3-40c7-b6c0-74b30e2a4600",
   "metadata": {},
   "source": [
    "### 1.4 Apply the hexagon id based on the latitude and longitude for each point"
   ]
  },
  {
   "cell_type": "code",
   "execution_count": 15,
   "id": "796b294d",
   "metadata": {},
   "outputs": [],
   "source": [
    "def lat_lng_to_h3(row):\n",
    "    return h3.geo_to_h3(row.lat, row.lon, h3_level)\n",
    "\n",
    "\n",
    "nodes['hex_id'] = nodes.apply(lat_lng_to_h3, axis=1)"
   ]
  },
  {
   "cell_type": "code",
   "execution_count": 16,
   "id": "6104858d",
   "metadata": {},
   "outputs": [
    {
     "data": {
      "text/html": [
       "<div>\n",
       "<style scoped>\n",
       "    .dataframe tbody tr th:only-of-type {\n",
       "        vertical-align: middle;\n",
       "    }\n",
       "\n",
       "    .dataframe tbody tr th {\n",
       "        vertical-align: top;\n",
       "    }\n",
       "\n",
       "    .dataframe thead th {\n",
       "        text-align: right;\n",
       "    }\n",
       "</style>\n",
       "<table border=\"1\" class=\"dataframe\">\n",
       "  <thead>\n",
       "    <tr style=\"text-align: right;\">\n",
       "      <th></th>\n",
       "      <th>osmid_original</th>\n",
       "      <th>x</th>\n",
       "      <th>y</th>\n",
       "      <th>street_count</th>\n",
       "      <th>highway</th>\n",
       "      <th>lon</th>\n",
       "      <th>lat</th>\n",
       "      <th>ref</th>\n",
       "      <th>geometry</th>\n",
       "      <th>hex_id</th>\n",
       "    </tr>\n",
       "    <tr>\n",
       "      <th>osmid</th>\n",
       "      <th></th>\n",
       "      <th></th>\n",
       "      <th></th>\n",
       "      <th></th>\n",
       "      <th></th>\n",
       "      <th></th>\n",
       "      <th></th>\n",
       "      <th></th>\n",
       "      <th></th>\n",
       "      <th></th>\n",
       "    </tr>\n",
       "  </thead>\n",
       "  <tbody>\n",
       "    <tr>\n",
       "      <th>45779</th>\n",
       "      <td>122893558</td>\n",
       "      <td>365437.239771</td>\n",
       "      <td>3.788949e+06</td>\n",
       "      <td>3</td>\n",
       "      <td>NaN</td>\n",
       "      <td>-118.461071</td>\n",
       "      <td>34.232934</td>\n",
       "      <td>NaN</td>\n",
       "      <td>POINT (365437.240 3788949.051)</td>\n",
       "      <td>8829a188a1fffff</td>\n",
       "    </tr>\n",
       "    <tr>\n",
       "      <th>110958</th>\n",
       "      <td>1109831795</td>\n",
       "      <td>415921.290271</td>\n",
       "      <td>3.776085e+06</td>\n",
       "      <td>3</td>\n",
       "      <td>NaN</td>\n",
       "      <td>-117.911750</td>\n",
       "      <td>34.122240</td>\n",
       "      <td>NaN</td>\n",
       "      <td>POINT (415921.290 3776085.084)</td>\n",
       "      <td>8829a1d82bfffff</td>\n",
       "    </tr>\n",
       "  </tbody>\n",
       "</table>\n",
       "</div>"
      ],
      "text/plain": [
       "       osmid_original              x             y  street_count highway  \\\n",
       "osmid                                                                      \n",
       "45779       122893558  365437.239771  3.788949e+06             3     NaN   \n",
       "110958     1109831795  415921.290271  3.776085e+06             3     NaN   \n",
       "\n",
       "               lon        lat  ref                        geometry  \\\n",
       "osmid                                                                \n",
       "45779  -118.461071  34.232934  NaN  POINT (365437.240 3788949.051)   \n",
       "110958 -117.911750  34.122240  NaN  POINT (415921.290 3776085.084)   \n",
       "\n",
       "                 hex_id  \n",
       "osmid                    \n",
       "45779   8829a188a1fffff  \n",
       "110958  8829a1d82bfffff  "
      ]
     },
     "execution_count": 16,
     "metadata": {},
     "output_type": "execute_result"
    }
   ],
   "source": [
    "nodes.sample(2)"
   ]
  },
  {
   "cell_type": "code",
   "execution_count": 17,
   "id": "504b1042",
   "metadata": {},
   "outputs": [
    {
     "data": {
      "text/plain": [
       "traffic_signals             6967\n",
       "stop                        5037\n",
       "motorway_junction           1513\n",
       "turning_circle                51\n",
       "mini_roundabout               22\n",
       "crossing                      13\n",
       "turning_loop                   5\n",
       "give_way                       3\n",
       "traffic_signals;crossing       2\n",
       "milestone                      1\n",
       "trailhead                      1\n",
       "Name: highway, dtype: int64"
      ]
     },
     "execution_count": 17,
     "metadata": {},
     "output_type": "execute_result"
    }
   ],
   "source": [
    "nodes.highway.value_counts()"
   ]
  },
  {
   "cell_type": "markdown",
   "id": "36a34c95-5c54-42c7-9392-0087d287eca0",
   "metadata": {},
   "source": [
    "### 1.5 Get counts of the number of highways and streets within the network"
   ]
  },
  {
   "cell_type": "code",
   "execution_count": 18,
   "id": "372f021d",
   "metadata": {},
   "outputs": [
    {
     "data": {
      "text/html": [
       "<div>\n",
       "<style scoped>\n",
       "    .dataframe tbody tr th:only-of-type {\n",
       "        vertical-align: middle;\n",
       "    }\n",
       "\n",
       "    .dataframe tbody tr th {\n",
       "        vertical-align: top;\n",
       "    }\n",
       "\n",
       "    .dataframe thead th {\n",
       "        text-align: right;\n",
       "    }\n",
       "</style>\n",
       "<table border=\"1\" class=\"dataframe\">\n",
       "  <thead>\n",
       "    <tr style=\"text-align: right;\">\n",
       "      <th></th>\n",
       "      <th>hex_id</th>\n",
       "      <th>highway</th>\n",
       "      <th>count</th>\n",
       "    </tr>\n",
       "  </thead>\n",
       "  <tbody>\n",
       "    <tr>\n",
       "      <th>2569</th>\n",
       "      <td>8829a1d1b9fffff</td>\n",
       "      <td>stop</td>\n",
       "      <td>1</td>\n",
       "    </tr>\n",
       "    <tr>\n",
       "      <th>2080</th>\n",
       "      <td>8829a1c207fffff</td>\n",
       "      <td>traffic_signals</td>\n",
       "      <td>4</td>\n",
       "    </tr>\n",
       "    <tr>\n",
       "      <th>330</th>\n",
       "      <td>8829a1120dfffff</td>\n",
       "      <td>stop</td>\n",
       "      <td>2</td>\n",
       "    </tr>\n",
       "  </tbody>\n",
       "</table>\n",
       "</div>"
      ],
      "text/plain": [
       "               hex_id          highway  count\n",
       "2569  8829a1d1b9fffff             stop      1\n",
       "2080  8829a1c207fffff  traffic_signals      4\n",
       "330   8829a1120dfffff             stop      2"
      ]
     },
     "execution_count": 18,
     "metadata": {},
     "output_type": "execute_result"
    }
   ],
   "source": [
    "highway_cnts = nodes.groupby(['hex_id', 'highway']).hex_id.agg('count').to_frame('count').reset_index()\n",
    "highway_cnts.sample(3)"
   ]
  },
  {
   "cell_type": "code",
   "execution_count": 19,
   "id": "25b1f169",
   "metadata": {},
   "outputs": [
    {
     "data": {
      "text/html": [
       "<div>\n",
       "<style scoped>\n",
       "    .dataframe tbody tr th:only-of-type {\n",
       "        vertical-align: middle;\n",
       "    }\n",
       "\n",
       "    .dataframe tbody tr th {\n",
       "        vertical-align: top;\n",
       "    }\n",
       "\n",
       "    .dataframe thead th {\n",
       "        text-align: right;\n",
       "    }\n",
       "</style>\n",
       "<table border=\"1\" class=\"dataframe\">\n",
       "  <thead>\n",
       "    <tr style=\"text-align: right;\">\n",
       "      <th></th>\n",
       "      <th>hex_id</th>\n",
       "      <th>street_count</th>\n",
       "      <th>count</th>\n",
       "    </tr>\n",
       "  </thead>\n",
       "  <tbody>\n",
       "    <tr>\n",
       "      <th>1781</th>\n",
       "      <td>8829a11547fffff</td>\n",
       "      <td>4</td>\n",
       "      <td>2</td>\n",
       "    </tr>\n",
       "    <tr>\n",
       "      <th>74</th>\n",
       "      <td>8829a03605fffff</td>\n",
       "      <td>3</td>\n",
       "      <td>13</td>\n",
       "    </tr>\n",
       "    <tr>\n",
       "      <th>34</th>\n",
       "      <td>8829a02593fffff</td>\n",
       "      <td>3</td>\n",
       "      <td>1</td>\n",
       "    </tr>\n",
       "  </tbody>\n",
       "</table>\n",
       "</div>"
      ],
      "text/plain": [
       "               hex_id  street_count  count\n",
       "1781  8829a11547fffff             4      2\n",
       "74    8829a03605fffff             3     13\n",
       "34    8829a02593fffff             3      1"
      ]
     },
     "execution_count": 19,
     "metadata": {},
     "output_type": "execute_result"
    }
   ],
   "source": [
    "street_count_cnts = nodes.groupby(['hex_id', 'street_count']).hex_id.agg('count').to_frame('count').reset_index()\n",
    "street_count_cnts.sample(3)"
   ]
  },
  {
   "cell_type": "markdown",
   "id": "d094750d-b1fc-4030-acc2-a1c6e0d086fd",
   "metadata": {},
   "source": [
    "### 1.6 Write highway and street counts data to CSV and upload to S3 bucket"
   ]
  },
  {
   "cell_type": "code",
   "execution_count": 28,
   "id": "375dbf0d",
   "metadata": {},
   "outputs": [],
   "source": [
    "highway_cnts.to_csv('s3://traffic-data-bucket/nodes_and_edges/nodes_highway_cnts.csv')"
   ]
  },
  {
   "cell_type": "code",
   "execution_count": 30,
   "id": "356ad46b",
   "metadata": {},
   "outputs": [],
   "source": [
    "street_count_cnts.to_csv('s3://traffic-data-bucket/nodes_and_edges/nodes_street_count_cnts.csv')"
   ]
  },
  {
   "cell_type": "code",
   "execution_count": 31,
   "id": "435512de",
   "metadata": {},
   "outputs": [],
   "source": [
    "del nodes"
   ]
  },
  {
   "cell_type": "markdown",
   "id": "861e8359",
   "metadata": {},
   "source": [
    "## 2. Generate network edges\n",
    "### 2.1 Construct graph of Los Angeles County and add edge speeds"
   ]
  },
  {
   "cell_type": "code",
   "execution_count": 2,
   "id": "89f06ce4",
   "metadata": {},
   "outputs": [],
   "source": [
    "#G = ox.graph_from_place('Long Beach, CA, USA', network_type='drive')\n",
    "G = ox.graph_from_place('Los Angeles County, CA, USA', network_type='drive')\n",
    "G = ox.add_edge_speeds(G)"
   ]
  },
  {
   "cell_type": "code",
   "execution_count": 3,
   "id": "d933dee4",
   "metadata": {},
   "outputs": [],
   "source": [
    "import warnings\n",
    "warnings.filterwarnings('ignore')\n",
    "Gc = ox.consolidate_intersections(ox.project_graph(G))"
   ]
  },
  {
   "cell_type": "markdown",
   "id": "79325ab8",
   "metadata": {},
   "source": [
    "### 2.2 Convert MultiDiGraph to a GeoDataframe of nodes"
   ]
  },
  {
   "cell_type": "code",
   "execution_count": 4,
   "id": "f3ff3ade",
   "metadata": {},
   "outputs": [],
   "source": [
    "df_nodes = ox.graph_to_gdfs(Gc, edges=False)"
   ]
  },
  {
   "cell_type": "code",
   "execution_count": 5,
   "id": "eee4063e",
   "metadata": {},
   "outputs": [
    {
     "name": "stdout",
     "output_type": "stream",
     "text": [
      "(128563, 9)\n"
     ]
    },
    {
     "data": {
      "text/plain": [
       "128563"
      ]
     },
     "execution_count": 5,
     "metadata": {},
     "output_type": "execute_result"
    }
   ],
   "source": [
    "print(df_nodes.shape)\n",
    "len(df_nodes.osmid_original.unique())"
   ]
  },
  {
   "cell_type": "markdown",
   "id": "b745d615",
   "metadata": {},
   "source": [
    "### 2.3 Convert MultiDiGraph to a GeoDataframe of edges"
   ]
  },
  {
   "cell_type": "code",
   "execution_count": 6,
   "id": "b12faf68",
   "metadata": {},
   "outputs": [],
   "source": [
    "df_edges = ox.graph_to_gdfs(Gc, nodes=False)"
   ]
  },
  {
   "cell_type": "markdown",
   "id": "c958e965",
   "metadata": {},
   "source": [
    "### 2.4 Get counts for highways and bridges"
   ]
  },
  {
   "cell_type": "code",
   "execution_count": 7,
   "id": "7bdfd181",
   "metadata": {},
   "outputs": [
    {
     "data": {
      "text/plain": [
       "traffic_signals             6966\n",
       "stop                        5037\n",
       "motorway_junction           1513\n",
       "turning_circle                51\n",
       "mini_roundabout               22\n",
       "crossing                      13\n",
       "turning_loop                   5\n",
       "give_way                       3\n",
       "traffic_signals;crossing       2\n",
       "milestone                      1\n",
       "trailhead                      1\n",
       "Name: highway, dtype: int64"
      ]
     },
     "execution_count": 7,
     "metadata": {},
     "output_type": "execute_result"
    }
   ],
   "source": [
    "df_nodes.highway.value_counts()"
   ]
  },
  {
   "cell_type": "code",
   "execution_count": 8,
   "id": "c5b1536b-8ca2-4b72-88fb-0c2c244f0265",
   "metadata": {},
   "outputs": [
    {
     "data": {
      "text/plain": [
       "yes               5215\n",
       "viaduct             12\n",
       "[yes, viaduct]       9\n",
       "aqueduct             2\n",
       "Name: bridge, dtype: int64"
      ]
     },
     "execution_count": 8,
     "metadata": {},
     "output_type": "execute_result"
    }
   ],
   "source": [
    "df_edges.bridge.value_counts()"
   ]
  },
  {
   "cell_type": "code",
   "execution_count": 9,
   "id": "515a2781-e5dc-483c-aa27-c836806fa889",
   "metadata": {},
   "outputs": [
    {
     "data": {
      "text/plain": [
       "(372407, 19)"
      ]
     },
     "execution_count": 9,
     "metadata": {},
     "output_type": "execute_result"
    }
   ],
   "source": [
    "df_edges.shape"
   ]
  },
  {
   "cell_type": "code",
   "execution_count": 10,
   "id": "f83368e4-383b-46ab-a9b9-641ee6ef68fb",
   "metadata": {},
   "outputs": [],
   "source": [
    "#len(df_edges['osmid'].unique())"
   ]
  },
  {
   "cell_type": "markdown",
   "id": "1f42eb48",
   "metadata": {},
   "source": [
    "## 3. Feature engineering\n",
    "### 3.1 Create functions to create...?"
   ]
  },
  {
   "cell_type": "code",
   "execution_count": 11,
   "id": "e0972d04",
   "metadata": {},
   "outputs": [],
   "source": [
    "import re\n",
    "\n",
    "def get_max(var):\n",
    "    max_var = int(0)\n",
    "    if var is np.nan:\n",
    "        max_var = var\n",
    "    \n",
    "    elif isinstance(var, list):\n",
    "        for a_string in var:\n",
    "            a_string = str(a_string)\n",
    "            numbers = [int(word) for word in a_string.split() if word.isdigit()]\n",
    "            var_int = int(numbers[0])\n",
    "            if var_int > max_var:\n",
    "                max_var = var_int       \n",
    "\n",
    "    else:\n",
    "        var = str(var)\n",
    "        numbers = [int(word) for word in var.split() if word.isdigit()]\n",
    "        max_var = int(numbers[0])\n",
    "\n",
    "    return(max_var)\n",
    "\n",
    "def get_max_float(var):\n",
    "    max_var = float(0)\n",
    "    if var is np.nan:\n",
    "        max_var = var\n",
    "    \n",
    "    elif isinstance(var, list):\n",
    "        for a_string in var:\n",
    "            a_string = str(a_string)\n",
    "            a_string = re.findall(r'\\d*\\.?\\d+', a_string)\n",
    "            var_float = float(a_string[0])\n",
    "            if var_float > max_var:\n",
    "                max_var = var_float       \n",
    "    else:\n",
    "        var = re.findall(r'\\d*\\.?\\d+', var)\n",
    "        max_var = float(var[0])\n",
    "    return(max_var)\n",
    "\n",
    "\n",
    "def get_first(var):\n",
    "    \n",
    "    if var is np.nan:\n",
    "        first_var = var\n",
    "    \n",
    "    elif isinstance(var, list):\n",
    "        first_var = str(var[0])\n",
    "    else:\n",
    "        first_var = str(var)\n",
    "    return(first_var)\n"
   ]
  },
  {
   "cell_type": "code",
   "execution_count": 12,
   "id": "3f20111e",
   "metadata": {},
   "outputs": [
    {
     "data": {
      "text/html": [
       "<div>\n",
       "<style scoped>\n",
       "    .dataframe tbody tr th:only-of-type {\n",
       "        vertical-align: middle;\n",
       "    }\n",
       "\n",
       "    .dataframe tbody tr th {\n",
       "        vertical-align: top;\n",
       "    }\n",
       "\n",
       "    .dataframe thead th {\n",
       "        text-align: right;\n",
       "    }\n",
       "</style>\n",
       "<table border=\"1\" class=\"dataframe\">\n",
       "  <thead>\n",
       "    <tr style=\"text-align: right;\">\n",
       "      <th></th>\n",
       "      <th></th>\n",
       "      <th></th>\n",
       "      <th>osmid</th>\n",
       "      <th>name</th>\n",
       "      <th>highway</th>\n",
       "      <th>oneway</th>\n",
       "      <th>reversed</th>\n",
       "      <th>length</th>\n",
       "      <th>speed_kph</th>\n",
       "      <th>lanes</th>\n",
       "      <th>geometry</th>\n",
       "      <th>u_original</th>\n",
       "      <th>v_original</th>\n",
       "      <th>ref</th>\n",
       "      <th>maxspeed</th>\n",
       "      <th>bridge</th>\n",
       "      <th>access</th>\n",
       "      <th>junction</th>\n",
       "      <th>tunnel</th>\n",
       "      <th>service</th>\n",
       "      <th>width</th>\n",
       "    </tr>\n",
       "    <tr>\n",
       "      <th>u</th>\n",
       "      <th>v</th>\n",
       "      <th>key</th>\n",
       "      <th></th>\n",
       "      <th></th>\n",
       "      <th></th>\n",
       "      <th></th>\n",
       "      <th></th>\n",
       "      <th></th>\n",
       "      <th></th>\n",
       "      <th></th>\n",
       "      <th></th>\n",
       "      <th></th>\n",
       "      <th></th>\n",
       "      <th></th>\n",
       "      <th></th>\n",
       "      <th></th>\n",
       "      <th></th>\n",
       "      <th></th>\n",
       "      <th></th>\n",
       "      <th></th>\n",
       "      <th></th>\n",
       "    </tr>\n",
       "  </thead>\n",
       "  <tbody>\n",
       "    <tr>\n",
       "      <th>93219</th>\n",
       "      <th>93272</th>\n",
       "      <th>0</th>\n",
       "      <td>884834591</td>\n",
       "      <td>95th Street E</td>\n",
       "      <td>residential</td>\n",
       "      <td>False</td>\n",
       "      <td>False</td>\n",
       "      <td>115.499</td>\n",
       "      <td>40.6</td>\n",
       "      <td>NaN</td>\n",
       "      <td>LINESTRING (411931.463 3831666.645, 411930.833...</td>\n",
       "      <td>8228398803</td>\n",
       "      <td>123321056</td>\n",
       "      <td>NaN</td>\n",
       "      <td>NaN</td>\n",
       "      <td>NaN</td>\n",
       "      <td>NaN</td>\n",
       "      <td>NaN</td>\n",
       "      <td>NaN</td>\n",
       "      <td>NaN</td>\n",
       "      <td>NaN</td>\n",
       "    </tr>\n",
       "    <tr>\n",
       "      <th>128036</th>\n",
       "      <th>127296</th>\n",
       "      <th>0</th>\n",
       "      <td>13306303</td>\n",
       "      <td>Big Horn Walk</td>\n",
       "      <td>residential</td>\n",
       "      <td>False</td>\n",
       "      <td>False</td>\n",
       "      <td>38.156</td>\n",
       "      <td>40.6</td>\n",
       "      <td>NaN</td>\n",
       "      <td>LINESTRING (357623.994 3810795.256, 357662.228...</td>\n",
       "      <td>2452005151</td>\n",
       "      <td>2452005154</td>\n",
       "      <td>NaN</td>\n",
       "      <td>NaN</td>\n",
       "      <td>NaN</td>\n",
       "      <td>NaN</td>\n",
       "      <td>NaN</td>\n",
       "      <td>NaN</td>\n",
       "      <td>NaN</td>\n",
       "      <td>NaN</td>\n",
       "    </tr>\n",
       "    <tr>\n",
       "      <th>32568</th>\n",
       "      <th>2949</th>\n",
       "      <th>0</th>\n",
       "      <td>159001982</td>\n",
       "      <td>Cedartree Road</td>\n",
       "      <td>residential</td>\n",
       "      <td>False</td>\n",
       "      <td>False</td>\n",
       "      <td>108.781</td>\n",
       "      <td>40.6</td>\n",
       "      <td>NaN</td>\n",
       "      <td>LINESTRING (397878.493 3757859.168, 397910.886...</td>\n",
       "      <td>2273989628</td>\n",
       "      <td>1711114262</td>\n",
       "      <td>NaN</td>\n",
       "      <td>NaN</td>\n",
       "      <td>NaN</td>\n",
       "      <td>NaN</td>\n",
       "      <td>NaN</td>\n",
       "      <td>NaN</td>\n",
       "      <td>NaN</td>\n",
       "      <td>NaN</td>\n",
       "    </tr>\n",
       "  </tbody>\n",
       "</table>\n",
       "</div>"
      ],
      "text/plain": [
       "                       osmid            name      highway  oneway reversed  \\\n",
       "u      v      key                                                            \n",
       "93219  93272  0    884834591   95th Street E  residential   False    False   \n",
       "128036 127296 0     13306303   Big Horn Walk  residential   False    False   \n",
       "32568  2949   0    159001982  Cedartree Road  residential   False    False   \n",
       "\n",
       "                    length  speed_kph lanes  \\\n",
       "u      v      key                             \n",
       "93219  93272  0    115.499       40.6   NaN   \n",
       "128036 127296 0     38.156       40.6   NaN   \n",
       "32568  2949   0    108.781       40.6   NaN   \n",
       "\n",
       "                                                            geometry  \\\n",
       "u      v      key                                                      \n",
       "93219  93272  0    LINESTRING (411931.463 3831666.645, 411930.833...   \n",
       "128036 127296 0    LINESTRING (357623.994 3810795.256, 357662.228...   \n",
       "32568  2949   0    LINESTRING (397878.493 3757859.168, 397910.886...   \n",
       "\n",
       "                   u_original  v_original  ref maxspeed bridge access  \\\n",
       "u      v      key                                                       \n",
       "93219  93272  0    8228398803   123321056  NaN      NaN    NaN    NaN   \n",
       "128036 127296 0    2452005151  2452005154  NaN      NaN    NaN    NaN   \n",
       "32568  2949   0    2273989628  1711114262  NaN      NaN    NaN    NaN   \n",
       "\n",
       "                  junction tunnel service width  \n",
       "u      v      key                                \n",
       "93219  93272  0        NaN    NaN     NaN   NaN  \n",
       "128036 127296 0        NaN    NaN     NaN   NaN  \n",
       "32568  2949   0        NaN    NaN     NaN   NaN  "
      ]
     },
     "execution_count": 12,
     "metadata": {},
     "output_type": "execute_result"
    }
   ],
   "source": [
    "df_edges.sample(3)"
   ]
  },
  {
   "cell_type": "code",
   "execution_count": 13,
   "id": "1944e0ba",
   "metadata": {},
   "outputs": [
    {
     "data": {
      "text/html": [
       "<div>\n",
       "<style scoped>\n",
       "    .dataframe tbody tr th:only-of-type {\n",
       "        vertical-align: middle;\n",
       "    }\n",
       "\n",
       "    .dataframe tbody tr th {\n",
       "        vertical-align: top;\n",
       "    }\n",
       "\n",
       "    .dataframe thead th {\n",
       "        text-align: right;\n",
       "    }\n",
       "</style>\n",
       "<table border=\"1\" class=\"dataframe\">\n",
       "  <thead>\n",
       "    <tr style=\"text-align: right;\">\n",
       "      <th></th>\n",
       "      <th>osmid</th>\n",
       "      <th>speed_kph</th>\n",
       "      <th>ref</th>\n",
       "      <th>name</th>\n",
       "      <th>highway</th>\n",
       "      <th>oneway</th>\n",
       "      <th>length</th>\n",
       "      <th>lanes</th>\n",
       "      <th>maxspeed</th>\n",
       "      <th>bridge</th>\n",
       "      <th>access</th>\n",
       "      <th>junction</th>\n",
       "      <th>tunnel</th>\n",
       "      <th>geometry</th>\n",
       "    </tr>\n",
       "  </thead>\n",
       "  <tbody>\n",
       "    <tr>\n",
       "      <th>297621</th>\n",
       "      <td>13303529</td>\n",
       "      <td>40.6</td>\n",
       "      <td>NaN</td>\n",
       "      <td>Florinda Avenue</td>\n",
       "      <td>residential</td>\n",
       "      <td>False</td>\n",
       "      <td>246.677</td>\n",
       "      <td>NaN</td>\n",
       "      <td>NaN</td>\n",
       "      <td>NaN</td>\n",
       "      <td>NaN</td>\n",
       "      <td>NaN</td>\n",
       "      <td>NaN</td>\n",
       "      <td>LINESTRING (405185.006 3773791.190, 405198.002...</td>\n",
       "    </tr>\n",
       "    <tr>\n",
       "      <th>86565</th>\n",
       "      <td>13359036</td>\n",
       "      <td>40.6</td>\n",
       "      <td>NaN</td>\n",
       "      <td>South Orchard Avenue</td>\n",
       "      <td>residential</td>\n",
       "      <td>False</td>\n",
       "      <td>130.311</td>\n",
       "      <td>NaN</td>\n",
       "      <td>NaN</td>\n",
       "      <td>NaN</td>\n",
       "      <td>NaN</td>\n",
       "      <td>NaN</td>\n",
       "      <td>NaN</td>\n",
       "      <td>LINESTRING (380882.298 3749914.253, 380884.545...</td>\n",
       "    </tr>\n",
       "  </tbody>\n",
       "</table>\n",
       "</div>"
      ],
      "text/plain": [
       "           osmid  speed_kph  ref                  name      highway  oneway  \\\n",
       "297621  13303529       40.6  NaN       Florinda Avenue  residential   False   \n",
       "86565   13359036       40.6  NaN  South Orchard Avenue  residential   False   \n",
       "\n",
       "         length lanes maxspeed bridge access junction tunnel  \\\n",
       "297621  246.677   NaN      NaN    NaN    NaN      NaN    NaN   \n",
       "86565   130.311   NaN      NaN    NaN    NaN      NaN    NaN   \n",
       "\n",
       "                                                 geometry  \n",
       "297621  LINESTRING (405185.006 3773791.190, 405198.002...  \n",
       "86565   LINESTRING (380882.298 3749914.253, 380884.545...  "
      ]
     },
     "metadata": {},
     "output_type": "display_data"
    }
   ],
   "source": [
    "cols_to_keep = ['osmid', 'speed_kph', 'ref', 'name', 'highway','oneway','length','lanes','maxspeed','bridge','access','junction','tunnel', 'geometry', ]\n",
    "\n",
    "df_edges.reset_index(inplace = True, drop = True)\n",
    "df_edges = df_edges[cols_to_keep]\n",
    "\n",
    "display(df_edges.sample(2))"
   ]
  },
  {
   "cell_type": "code",
   "execution_count": 14,
   "id": "29265ba3",
   "metadata": {},
   "outputs": [
    {
     "data": {
      "text/plain": [
       "osmid          object\n",
       "speed_kph     float64\n",
       "ref            object\n",
       "name           object\n",
       "highway        object\n",
       "oneway           bool\n",
       "length        float64\n",
       "lanes          object\n",
       "maxspeed       object\n",
       "bridge         object\n",
       "access         object\n",
       "junction       object\n",
       "tunnel         object\n",
       "geometry     geometry\n",
       "dtype: object"
      ]
     },
     "execution_count": 14,
     "metadata": {},
     "output_type": "execute_result"
    }
   ],
   "source": [
    "df_edges.dtypes"
   ]
  },
  {
   "cell_type": "markdown",
   "id": "a3e2bc54",
   "metadata": {},
   "source": [
    "### 3.2 Add traffic and road features to edges dataset"
   ]
  },
  {
   "cell_type": "code",
   "execution_count": 16,
   "id": "c48645c5",
   "metadata": {},
   "outputs": [],
   "source": [
    "df_edges['maxspeed'] = df_edges.apply(lambda x: get_max(x.maxspeed), axis=1)"
   ]
  },
  {
   "cell_type": "code",
   "execution_count": 17,
   "id": "164987ed-4217-4bd8-a1ed-35acff9d40c6",
   "metadata": {},
   "outputs": [],
   "source": [
    "#df_edges['width'] = df_edges.apply(lambda x: get_max(x.width), axis=1)"
   ]
  },
  {
   "cell_type": "code",
   "execution_count": 18,
   "id": "c9ad5486-b019-40cd-8261-9cab75d52123",
   "metadata": {},
   "outputs": [],
   "source": [
    "df_edges['lanes'] = df_edges.apply(lambda x: get_max(x.lanes), axis=1)"
   ]
  },
  {
   "cell_type": "code",
   "execution_count": 19,
   "id": "40a96e14-d411-4416-9242-f327b9439ddf",
   "metadata": {},
   "outputs": [],
   "source": [
    "df_edges['bridge'] = df_edges.apply(lambda x: get_first(x.bridge), axis=1)"
   ]
  },
  {
   "cell_type": "code",
   "execution_count": 20,
   "id": "76a30952",
   "metadata": {},
   "outputs": [],
   "source": [
    "df_edges['speed_kph'] = df_edges.apply(lambda x: get_first(x.speed_kph), axis=1)"
   ]
  },
  {
   "cell_type": "code",
   "execution_count": 21,
   "id": "54ba23e8",
   "metadata": {},
   "outputs": [],
   "source": [
    "df_edges['name'] = df_edges.apply(lambda x: get_first(x['name']), axis=1)"
   ]
  },
  {
   "cell_type": "code",
   "execution_count": 22,
   "id": "a01aa982",
   "metadata": {},
   "outputs": [],
   "source": [
    "df_edges['osmid'] = df_edges.apply(lambda x: get_first(x.osmid), axis=1)"
   ]
  },
  {
   "cell_type": "code",
   "execution_count": 23,
   "id": "978b11e6",
   "metadata": {},
   "outputs": [],
   "source": [
    "df_edges['ref'] = df_edges.apply(lambda x: get_first(x.ref), axis=1)"
   ]
  },
  {
   "cell_type": "code",
   "execution_count": 24,
   "id": "4b30a86e",
   "metadata": {},
   "outputs": [],
   "source": [
    "df_edges['highway'] = df_edges.apply(lambda x: get_first(x.highway), axis=1)"
   ]
  },
  {
   "cell_type": "code",
   "execution_count": 25,
   "id": "aac57563-913a-4464-ac5b-e712bde7b63a",
   "metadata": {},
   "outputs": [],
   "source": [
    "df_edges['oneway'] = df_edges.apply(lambda x: get_first(x.oneway), axis=1)"
   ]
  },
  {
   "cell_type": "code",
   "execution_count": 26,
   "id": "33fafccc-3de5-404b-992c-5dfc7163cbe0",
   "metadata": {},
   "outputs": [],
   "source": [
    "df_edges['access'] = df_edges.apply(lambda x: get_first(x.access), axis=1)"
   ]
  },
  {
   "cell_type": "code",
   "execution_count": 27,
   "id": "c7dccce5-99af-4784-99ef-b052725d69b3",
   "metadata": {},
   "outputs": [],
   "source": [
    "df_edges['junction'] = df_edges.apply(lambda x: get_first(x.junction), axis=1)"
   ]
  },
  {
   "cell_type": "code",
   "execution_count": 28,
   "id": "d4a0a0af-0fdd-4125-b61b-4d38fda42b87",
   "metadata": {},
   "outputs": [],
   "source": [
    "df_edges['tunnel'] = df_edges.apply(lambda x: get_first(x.tunnel), axis=1)"
   ]
  },
  {
   "cell_type": "code",
   "execution_count": 29,
   "id": "eebced17",
   "metadata": {},
   "outputs": [
    {
     "data": {
      "text/html": [
       "<div>\n",
       "<style scoped>\n",
       "    .dataframe tbody tr th:only-of-type {\n",
       "        vertical-align: middle;\n",
       "    }\n",
       "\n",
       "    .dataframe tbody tr th {\n",
       "        vertical-align: top;\n",
       "    }\n",
       "\n",
       "    .dataframe thead th {\n",
       "        text-align: right;\n",
       "    }\n",
       "</style>\n",
       "<table border=\"1\" class=\"dataframe\">\n",
       "  <thead>\n",
       "    <tr style=\"text-align: right;\">\n",
       "      <th></th>\n",
       "      <th>osmid</th>\n",
       "      <th>speed_kph</th>\n",
       "      <th>ref</th>\n",
       "      <th>name</th>\n",
       "      <th>highway</th>\n",
       "      <th>oneway</th>\n",
       "      <th>length</th>\n",
       "      <th>lanes</th>\n",
       "      <th>maxspeed</th>\n",
       "      <th>bridge</th>\n",
       "      <th>access</th>\n",
       "      <th>junction</th>\n",
       "      <th>tunnel</th>\n",
       "      <th>geometry</th>\n",
       "    </tr>\n",
       "  </thead>\n",
       "  <tbody>\n",
       "    <tr>\n",
       "      <th>226644</th>\n",
       "      <td>13454485</td>\n",
       "      <td>40.6</td>\n",
       "      <td>NaN</td>\n",
       "      <td>North Sycamore Avenue</td>\n",
       "      <td>residential</td>\n",
       "      <td>False</td>\n",
       "      <td>202.450</td>\n",
       "      <td>2.0</td>\n",
       "      <td>NaN</td>\n",
       "      <td>NaN</td>\n",
       "      <td>NaN</td>\n",
       "      <td>NaN</td>\n",
       "      <td>NaN</td>\n",
       "      <td>LINESTRING (376158.847 3773631.399, 376158.876...</td>\n",
       "    </tr>\n",
       "    <tr>\n",
       "      <th>78053</th>\n",
       "      <td>13395387</td>\n",
       "      <td>40.6</td>\n",
       "      <td>NaN</td>\n",
       "      <td>Louise Avenue</td>\n",
       "      <td>residential</td>\n",
       "      <td>False</td>\n",
       "      <td>253.157</td>\n",
       "      <td>2.0</td>\n",
       "      <td>NaN</td>\n",
       "      <td>NaN</td>\n",
       "      <td>NaN</td>\n",
       "      <td>NaN</td>\n",
       "      <td>NaN</td>\n",
       "      <td>LINESTRING (390752.000 3754140.464, 390762.881...</td>\n",
       "    </tr>\n",
       "    <tr>\n",
       "      <th>210838</th>\n",
       "      <td>13351103</td>\n",
       "      <td>40.6</td>\n",
       "      <td>NaN</td>\n",
       "      <td>East 32nd Street</td>\n",
       "      <td>residential</td>\n",
       "      <td>False</td>\n",
       "      <td>339.703</td>\n",
       "      <td>NaN</td>\n",
       "      <td>NaN</td>\n",
       "      <td>NaN</td>\n",
       "      <td>NaN</td>\n",
       "      <td>NaN</td>\n",
       "      <td>NaN</td>\n",
       "      <td>LINESTRING (382890.635 3764967.435, 382722.288...</td>\n",
       "    </tr>\n",
       "  </tbody>\n",
       "</table>\n",
       "</div>"
      ],
      "text/plain": [
       "           osmid speed_kph  ref                   name      highway oneway  \\\n",
       "226644  13454485      40.6  NaN  North Sycamore Avenue  residential  False   \n",
       "78053   13395387      40.6  NaN          Louise Avenue  residential  False   \n",
       "210838  13351103      40.6  NaN       East 32nd Street  residential  False   \n",
       "\n",
       "         length  lanes  maxspeed bridge access junction tunnel  \\\n",
       "226644  202.450    2.0       NaN    NaN    NaN      NaN    NaN   \n",
       "78053   253.157    2.0       NaN    NaN    NaN      NaN    NaN   \n",
       "210838  339.703    NaN       NaN    NaN    NaN      NaN    NaN   \n",
       "\n",
       "                                                 geometry  \n",
       "226644  LINESTRING (376158.847 3773631.399, 376158.876...  \n",
       "78053   LINESTRING (390752.000 3754140.464, 390762.881...  \n",
       "210838  LINESTRING (382890.635 3764967.435, 382722.288...  "
      ]
     },
     "execution_count": 29,
     "metadata": {},
     "output_type": "execute_result"
    }
   ],
   "source": [
    "df_edges.sample(3)"
   ]
  },
  {
   "cell_type": "markdown",
   "id": "7a5edb6a",
   "metadata": {},
   "source": [
    "### 3.3 Create shapefile from network of edges"
   ]
  },
  {
   "cell_type": "code",
   "execution_count": 30,
   "id": "f358b997",
   "metadata": {},
   "outputs": [],
   "source": [
    "df_edges.to_file(root / 'X.data' /  'nodes_and_edges' / 'la_county_edges' / 'la_county_edges.shp', index=False)"
   ]
  },
  {
   "cell_type": "markdown",
   "id": "d8a4aa00",
   "metadata": {},
   "source": [
    "### 3.4 Copy all edge shapefiles from EC2 to S3 bucket"
   ]
  },
  {
   "cell_type": "code",
   "execution_count": 31,
   "id": "9e220d62",
   "metadata": {},
   "outputs": [
    {
     "name": "stdout",
     "output_type": "stream",
     "text": [
      "upload: ../X.data/nodes_and_edges/la_county_edges/la_county_edges.cpg to s3://traffic-data-bucket/nodes_and_edges/la_county_edges/la_county_edges.cpg\n",
      "upload: ../X.data/nodes_and_edges/la_county_edges/la_county_edges.prj to s3://traffic-data-bucket/nodes_and_edges/la_county_edges/la_county_edges.prj\n",
      "upload: ../X.data/nodes_and_edges/la_county_edges/la_county_edges.shx to s3://traffic-data-bucket/nodes_and_edges/la_county_edges/la_county_edges.shx\n",
      "upload: ../X.data/nodes_and_edges/la_county_edges/la_county_edges.shp to s3://traffic-data-bucket/nodes_and_edges/la_county_edges/la_county_edges.shp\n",
      "upload: ../X.data/nodes_and_edges/la_county_edges/la_county_edges.dbf to s3://traffic-data-bucket/nodes_and_edges/la_county_edges/la_county_edges.dbf\n"
     ]
    }
   ],
   "source": [
    "!aws s3 sync /home/ubuntu/X.data/nodes_and_edges/la_county_edges s3://traffic-data-bucket/nodes_and_edges/la_county_edges"
   ]
  },
  {
   "cell_type": "code",
   "execution_count": 32,
   "id": "a9b6a0d4-577f-442d-a1dd-b79864040f24",
   "metadata": {},
   "outputs": [
    {
     "data": {
      "text/plain": [
       "(372407, 14)"
      ]
     },
     "execution_count": 32,
     "metadata": {},
     "output_type": "execute_result"
    }
   ],
   "source": [
    "df_edges.shape"
   ]
  },
  {
   "cell_type": "code",
   "execution_count": null,
   "id": "0e015f9a-d480-4853-9841-7099d0decb7d",
   "metadata": {},
   "outputs": [],
   "source": []
  }
 ],
 "metadata": {
  "kernelspec": {
   "display_name": "Python [conda env:Hexagon]",
   "language": "python",
   "name": "conda-env-Hexagon-py"
  },
  "language_info": {
   "codemirror_mode": {
    "name": "ipython",
    "version": 3
   },
   "file_extension": ".py",
   "mimetype": "text/x-python",
   "name": "python",
   "nbconvert_exporter": "python",
   "pygments_lexer": "ipython3",
   "version": "3.7.13"
  }
 },
 "nbformat": 4,
 "nbformat_minor": 5
}
