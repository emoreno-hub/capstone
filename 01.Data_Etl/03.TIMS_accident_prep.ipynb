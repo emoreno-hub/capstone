{
 "cells": [
  {
   "cell_type": "markdown",
   "id": "a9d59001",
   "metadata": {},
   "source": [
    "# Transportation Injury Mapping System (TIMS) Data Preparation\n",
    "## Import Libraries"
   ]
  },
  {
   "cell_type": "code",
   "execution_count": 1,
   "id": "12ddda41",
   "metadata": {},
   "outputs": [],
   "source": [
    "%matplotlib inline\n",
    "\n",
    "import pandas as pd\n",
    "import numpy as np\n",
    "from h3 import h3\n",
    "import os\n",
    "from os.path import isfile, join\n",
    "from pathlib import Path\n",
    "from os import listdir\n",
    "\n",
    "import boto3\n",
    "import awswrangler\n",
    "\n",
    "path =  Path(os.getcwd())\n",
    "root = path.parent.absolute()\n",
    "\n",
    "import warnings\n",
    "pd.options.mode.chained_assignment = None  # default='warn'\n",
    "\n",
    "h3_level = 8"
   ]
  },
  {
   "cell_type": "markdown",
   "id": "e60250cb-f08f-4573-84f0-3ad4fa87c7cb",
   "metadata": {},
   "source": [
    "## 1. Connect to AWS Services"
   ]
  },
  {
   "cell_type": "code",
   "execution_count": 3,
   "id": "8bb9d007-f70c-4cbb-9734-5eb95ba5dffe",
   "metadata": {},
   "outputs": [],
   "source": [
    "from aws_secrets import aws_access_key_id, aws_secret_access_key, aws_session_token\n",
    "\n",
    "my_session = boto3.Session(\n",
    "    aws_access_key_id=aws_access_key_id,\n",
    "    aws_secret_access_key=aws_secret_access_key,\n",
    "    aws_session_token = aws_session_token\n",
    "\n",
    ")"
   ]
  },
  {
   "cell_type": "markdown",
   "id": "30f73171",
   "metadata": {},
   "source": [
    "## 2. Download collision data from S3 bucket using AWS Wrangler\n",
    "AWS Wrangler is used to read all files in the S3 Bucket with a .csv suffix into a single Pandas dataframe."
   ]
  },
  {
   "cell_type": "code",
   "execution_count": 2,
   "id": "b21ae205",
   "metadata": {},
   "outputs": [],
   "source": [
    "# S3 bucket name and folder containing collision data\n",
    "raw_s3_bucket = 'traffic-data-bucket'\n",
    "raw_path_dir = 'TIMS_raw_crashes/'\n",
    "\n",
    "# path of S3 bucket where collision data is stored\n",
    "raw_path = f\"s3://{raw_s3_bucket}/{raw_path_dir}\"\n",
    "\n",
    "# read data from S3 bucket\n",
    "collision_df = awswrangler.s3.read_csv(path=raw_path, path_suffix=['.csv'], dataset=True,\n",
    "                                 boto3_session=my_session, use_threads=True, low_memory=False)"
   ]
  },
  {
   "cell_type": "code",
   "execution_count": 6,
   "id": "59d73fe9-9c60-4ea5-9de2-fc0a8a719d0a",
   "metadata": {},
   "outputs": [
    {
     "data": {
      "text/plain": [
       "(404681, 80)"
      ]
     },
     "execution_count": 6,
     "metadata": {},
     "output_type": "execute_result"
    }
   ],
   "source": [
    "collision_df.shape"
   ]
  },
  {
   "cell_type": "code",
   "execution_count": 7,
   "id": "741737c8-ea04-42c4-94a8-8b061b71b016",
   "metadata": {},
   "outputs": [
    {
     "data": {
      "text/html": [
       "<div>\n",
       "<style scoped>\n",
       "    .dataframe tbody tr th:only-of-type {\n",
       "        vertical-align: middle;\n",
       "    }\n",
       "\n",
       "    .dataframe tbody tr th {\n",
       "        vertical-align: top;\n",
       "    }\n",
       "\n",
       "    .dataframe thead th {\n",
       "        text-align: right;\n",
       "    }\n",
       "</style>\n",
       "<table border=\"1\" class=\"dataframe\">\n",
       "  <thead>\n",
       "    <tr style=\"text-align: right;\">\n",
       "      <th></th>\n",
       "      <th>CASE_ID</th>\n",
       "      <th>ACCIDENT_YEAR</th>\n",
       "      <th>PROC_DATE</th>\n",
       "      <th>JURIS</th>\n",
       "      <th>COLLISION_DATE</th>\n",
       "      <th>COLLISION_TIME</th>\n",
       "      <th>OFFICER_ID</th>\n",
       "      <th>REPORTING_DISTRICT</th>\n",
       "      <th>DAY_OF_WEEK</th>\n",
       "      <th>CHP_SHIFT</th>\n",
       "      <th>...</th>\n",
       "      <th>COUNT_MC_KILLED</th>\n",
       "      <th>COUNT_MC_INJURED</th>\n",
       "      <th>PRIMARY_RAMP</th>\n",
       "      <th>SECONDARY_RAMP</th>\n",
       "      <th>LATITUDE</th>\n",
       "      <th>LONGITUDE</th>\n",
       "      <th>COUNTY</th>\n",
       "      <th>CITY</th>\n",
       "      <th>POINT_X</th>\n",
       "      <th>POINT_Y</th>\n",
       "    </tr>\n",
       "  </thead>\n",
       "  <tbody>\n",
       "    <tr>\n",
       "      <th>0</th>\n",
       "      <td>5912010</td>\n",
       "      <td>2014</td>\n",
       "      <td>2015-12-21</td>\n",
       "      <td>1900</td>\n",
       "      <td>2014-01-10</td>\n",
       "      <td>2230</td>\n",
       "      <td>525744</td>\n",
       "      <td>1132</td>\n",
       "      <td>5</td>\n",
       "      <td>5</td>\n",
       "      <td>...</td>\n",
       "      <td>0</td>\n",
       "      <td>0</td>\n",
       "      <td>-</td>\n",
       "      <td>-</td>\n",
       "      <td>NaN</td>\n",
       "      <td>NaN</td>\n",
       "      <td>LOS ANGELES</td>\n",
       "      <td>LANCASTER</td>\n",
       "      <td>-118.118594</td>\n",
       "      <td>34.689570</td>\n",
       "    </tr>\n",
       "    <tr>\n",
       "      <th>1</th>\n",
       "      <td>5912033</td>\n",
       "      <td>2014</td>\n",
       "      <td>2014-01-23</td>\n",
       "      <td>1942</td>\n",
       "      <td>2014-01-07</td>\n",
       "      <td>2115</td>\n",
       "      <td>39586</td>\n",
       "      <td>0497</td>\n",
       "      <td>2</td>\n",
       "      <td>5</td>\n",
       "      <td>...</td>\n",
       "      <td>0</td>\n",
       "      <td>0</td>\n",
       "      <td>-</td>\n",
       "      <td>-</td>\n",
       "      <td>NaN</td>\n",
       "      <td>NaN</td>\n",
       "      <td>LOS ANGELES</td>\n",
       "      <td>LOS ANGELES</td>\n",
       "      <td>-118.215508</td>\n",
       "      <td>34.016986</td>\n",
       "    </tr>\n",
       "    <tr>\n",
       "      <th>2</th>\n",
       "      <td>5912119</td>\n",
       "      <td>2014</td>\n",
       "      <td>2014-02-10</td>\n",
       "      <td>1976</td>\n",
       "      <td>2014-01-09</td>\n",
       "      <td>712</td>\n",
       "      <td>890</td>\n",
       "      <td>NaN</td>\n",
       "      <td>4</td>\n",
       "      <td>5</td>\n",
       "      <td>...</td>\n",
       "      <td>0</td>\n",
       "      <td>0</td>\n",
       "      <td>-</td>\n",
       "      <td>-</td>\n",
       "      <td>NaN</td>\n",
       "      <td>NaN</td>\n",
       "      <td>LOS ANGELES</td>\n",
       "      <td>SANTA FE SPRINGS</td>\n",
       "      <td>-118.066151</td>\n",
       "      <td>33.931708</td>\n",
       "    </tr>\n",
       "    <tr>\n",
       "      <th>3</th>\n",
       "      <td>5912128</td>\n",
       "      <td>2014</td>\n",
       "      <td>2015-12-16</td>\n",
       "      <td>1900</td>\n",
       "      <td>2014-01-04</td>\n",
       "      <td>202</td>\n",
       "      <td>515585</td>\n",
       "      <td>1332</td>\n",
       "      <td>6</td>\n",
       "      <td>5</td>\n",
       "      <td>...</td>\n",
       "      <td>0</td>\n",
       "      <td>0</td>\n",
       "      <td>-</td>\n",
       "      <td>-</td>\n",
       "      <td>NaN</td>\n",
       "      <td>NaN</td>\n",
       "      <td>LOS ANGELES</td>\n",
       "      <td>BELLFLOWER</td>\n",
       "      <td>-118.142820</td>\n",
       "      <td>33.903790</td>\n",
       "    </tr>\n",
       "    <tr>\n",
       "      <th>4</th>\n",
       "      <td>5912130</td>\n",
       "      <td>2014</td>\n",
       "      <td>2014-02-14</td>\n",
       "      <td>1942</td>\n",
       "      <td>2014-01-04</td>\n",
       "      <td>1425</td>\n",
       "      <td>36752</td>\n",
       "      <td>0559</td>\n",
       "      <td>6</td>\n",
       "      <td>5</td>\n",
       "      <td>...</td>\n",
       "      <td>0</td>\n",
       "      <td>0</td>\n",
       "      <td>-</td>\n",
       "      <td>-</td>\n",
       "      <td>NaN</td>\n",
       "      <td>NaN</td>\n",
       "      <td>LOS ANGELES</td>\n",
       "      <td>LOS ANGELES</td>\n",
       "      <td>-118.252100</td>\n",
       "      <td>33.753830</td>\n",
       "    </tr>\n",
       "  </tbody>\n",
       "</table>\n",
       "<p>5 rows × 80 columns</p>\n",
       "</div>"
      ],
      "text/plain": [
       "   CASE_ID  ACCIDENT_YEAR   PROC_DATE  JURIS COLLISION_DATE  COLLISION_TIME  \\\n",
       "0  5912010           2014  2015-12-21   1900     2014-01-10            2230   \n",
       "1  5912033           2014  2014-01-23   1942     2014-01-07            2115   \n",
       "2  5912119           2014  2014-02-10   1976     2014-01-09             712   \n",
       "3  5912128           2014  2015-12-16   1900     2014-01-04             202   \n",
       "4  5912130           2014  2014-02-14   1942     2014-01-04            1425   \n",
       "\n",
       "  OFFICER_ID REPORTING_DISTRICT  DAY_OF_WEEK  CHP_SHIFT  ...  COUNT_MC_KILLED  \\\n",
       "0     525744               1132            5          5  ...                0   \n",
       "1      39586               0497            2          5  ...                0   \n",
       "2        890                NaN            4          5  ...                0   \n",
       "3     515585               1332            6          5  ...                0   \n",
       "4      36752               0559            6          5  ...                0   \n",
       "\n",
       "   COUNT_MC_INJURED  PRIMARY_RAMP  SECONDARY_RAMP LATITUDE LONGITUDE  \\\n",
       "0                 0            -               -       NaN       NaN   \n",
       "1                 0            -               -       NaN       NaN   \n",
       "2                 0            -               -       NaN       NaN   \n",
       "3                 0            -               -       NaN       NaN   \n",
       "4                 0            -               -       NaN       NaN   \n",
       "\n",
       "        COUNTY              CITY     POINT_X    POINT_Y  \n",
       "0  LOS ANGELES         LANCASTER -118.118594  34.689570  \n",
       "1  LOS ANGELES       LOS ANGELES -118.215508  34.016986  \n",
       "2  LOS ANGELES  SANTA FE SPRINGS -118.066151  33.931708  \n",
       "3  LOS ANGELES        BELLFLOWER -118.142820  33.903790  \n",
       "4  LOS ANGELES       LOS ANGELES -118.252100  33.753830  \n",
       "\n",
       "[5 rows x 80 columns]"
      ]
     },
     "execution_count": 7,
     "metadata": {},
     "output_type": "execute_result"
    }
   ],
   "source": [
    "collision_df.head()"
   ]
  },
  {
   "cell_type": "markdown",
   "id": "2ff0ed65-b8ce-4963-99d9-b8e7f9102625",
   "metadata": {
    "tags": []
   },
   "source": [
    "## Clean and create time features\n",
    "The dataset contains some invalid times which will be dropped and from the `collission_date` variable we will extract the year, month, day, day of the week, and day of the year."
   ]
  },
  {
   "cell_type": "code",
   "execution_count": 16,
   "id": "55c8527b",
   "metadata": {},
   "outputs": [
    {
     "name": "stdout",
     "output_type": "stream",
     "text": [
      "(353, 81)\n"
     ]
    },
    {
     "data": {
      "text/html": [
       "<div>\n",
       "<style scoped>\n",
       "    .dataframe tbody tr th:only-of-type {\n",
       "        vertical-align: middle;\n",
       "    }\n",
       "\n",
       "    .dataframe tbody tr th {\n",
       "        vertical-align: top;\n",
       "    }\n",
       "\n",
       "    .dataframe thead th {\n",
       "        text-align: right;\n",
       "    }\n",
       "</style>\n",
       "<table border=\"1\" class=\"dataframe\">\n",
       "  <thead>\n",
       "    <tr style=\"text-align: right;\">\n",
       "      <th></th>\n",
       "      <th>CASE_ID</th>\n",
       "      <th>ACCIDENT_YEAR</th>\n",
       "      <th>PROC_DATE</th>\n",
       "      <th>JURIS</th>\n",
       "      <th>COLLISION_DATE</th>\n",
       "      <th>COLLISION_TIME</th>\n",
       "      <th>OFFICER_ID</th>\n",
       "      <th>REPORTING_DISTRICT</th>\n",
       "      <th>DAY_OF_WEEK</th>\n",
       "      <th>CHP_SHIFT</th>\n",
       "      <th>...</th>\n",
       "      <th>COUNTY</th>\n",
       "      <th>CITY</th>\n",
       "      <th>POINT_X</th>\n",
       "      <th>POINT_Y</th>\n",
       "      <th>COLLISION_HOUR</th>\n",
       "      <th>COLLISION_YEAR</th>\n",
       "      <th>COLLISION_MONTH</th>\n",
       "      <th>COLLISION_DAY</th>\n",
       "      <th>COLLISION_DAYOFWEEK</th>\n",
       "      <th>COLLISION_DAYOFYEAR</th>\n",
       "    </tr>\n",
       "  </thead>\n",
       "  <tbody>\n",
       "    <tr>\n",
       "      <th>0</th>\n",
       "      <td>5912010</td>\n",
       "      <td>2014</td>\n",
       "      <td>2015-12-21</td>\n",
       "      <td>1900</td>\n",
       "      <td>2014-01-10</td>\n",
       "      <td>2230</td>\n",
       "      <td>525744</td>\n",
       "      <td>1132</td>\n",
       "      <td>5</td>\n",
       "      <td>5</td>\n",
       "      <td>...</td>\n",
       "      <td>LOS ANGELES</td>\n",
       "      <td>LANCASTER</td>\n",
       "      <td>-118.118594</td>\n",
       "      <td>34.689570</td>\n",
       "      <td>22</td>\n",
       "      <td>2014</td>\n",
       "      <td>1</td>\n",
       "      <td>10</td>\n",
       "      <td>4</td>\n",
       "      <td>10</td>\n",
       "    </tr>\n",
       "    <tr>\n",
       "      <th>1</th>\n",
       "      <td>5912033</td>\n",
       "      <td>2014</td>\n",
       "      <td>2014-01-23</td>\n",
       "      <td>1942</td>\n",
       "      <td>2014-01-07</td>\n",
       "      <td>2115</td>\n",
       "      <td>39586</td>\n",
       "      <td>0497</td>\n",
       "      <td>2</td>\n",
       "      <td>5</td>\n",
       "      <td>...</td>\n",
       "      <td>LOS ANGELES</td>\n",
       "      <td>LOS ANGELES</td>\n",
       "      <td>-118.215508</td>\n",
       "      <td>34.016986</td>\n",
       "      <td>21</td>\n",
       "      <td>2014</td>\n",
       "      <td>1</td>\n",
       "      <td>7</td>\n",
       "      <td>1</td>\n",
       "      <td>7</td>\n",
       "    </tr>\n",
       "  </tbody>\n",
       "</table>\n",
       "<p>2 rows × 86 columns</p>\n",
       "</div>"
      ],
      "text/plain": [
       "   CASE_ID  ACCIDENT_YEAR   PROC_DATE  JURIS COLLISION_DATE COLLISION_TIME  \\\n",
       "0  5912010           2014  2015-12-21   1900     2014-01-10           2230   \n",
       "1  5912033           2014  2014-01-23   1942     2014-01-07           2115   \n",
       "\n",
       "  OFFICER_ID REPORTING_DISTRICT  DAY_OF_WEEK  CHP_SHIFT  ...       COUNTY  \\\n",
       "0     525744               1132            5          5  ...  LOS ANGELES   \n",
       "1      39586               0497            2          5  ...  LOS ANGELES   \n",
       "\n",
       "          CITY     POINT_X    POINT_Y COLLISION_HOUR COLLISION_YEAR  \\\n",
       "0    LANCASTER -118.118594  34.689570             22           2014   \n",
       "1  LOS ANGELES -118.215508  34.016986             21           2014   \n",
       "\n",
       "   COLLISION_MONTH COLLISION_DAY COLLISION_DAYOFWEEK COLLISION_DAYOFYEAR  \n",
       "0                1            10                   4                  10  \n",
       "1                1             7                   1                   7  \n",
       "\n",
       "[2 rows x 86 columns]"
      ]
     },
     "execution_count": 16,
     "metadata": {},
     "output_type": "execute_result"
    }
   ],
   "source": [
    "# 0:0>4 is a left padding of a string so if the string length is less than 4, add front ‘0’, e.g., 23 would become ‘0023’ \n",
    "collision_df['COLLISION_TIME']=collision_df['COLLISION_TIME'].apply(lambda x: '{0:0>4}'.format(x))\n",
    "\n",
    "# create a mask to remove records with invalid times\n",
    "# there are several rows that have '2500' entered as their collision time\n",
    "mask = collision_df['COLLISION_TIME']=='2500'\n",
    "\n",
    "# apply mask to capture records with valid times\n",
    "valid_time = collision_df[~mask]\n",
    "\n",
    "# create a dataframe of records with nonvalid times\n",
    "nonvalid_time = collision_df[mask]\n",
    "nonvalid_time['COLLISION_HOUR'] = 'none'\n",
    "# print number of records to drop\n",
    "print(nonvalid_time.shape)\n",
    "\n",
    "valid_time = valid_time.assign(COLLISION_HOUR=pd.to_datetime(valid_time.COLLISION_TIME, format='%H%M').dt.hour)\n",
    "valid_time = valid_time.assign(COLLISION_DATE=pd.to_datetime(valid_time.COLLISION_DATE, format='%Y-%m-%d'))\n",
    "\n",
    "# create date features\n",
    "valid_time['COLLISION_YEAR'] = valid_time.COLLISION_DATE.dt.year\n",
    "valid_time['COLLISION_MONTH'] = valid_time.COLLISION_DATE.dt.month\n",
    "valid_time['COLLISION_DAY'] = valid_time.COLLISION_DATE.dt.day\n",
    "valid_time['COLLISION_DAYOFWEEK'] = valid_time.COLLISION_DATE.dt.dayofweek\n",
    "valid_time['COLLISION_DAYOFYEAR'] = valid_time.COLLISION_DATE.dt.dayofyear\n",
    "\n",
    "valid_time.head(2)"
   ]
  },
  {
   "cell_type": "markdown",
   "id": "3d307496-946d-4682-a10b-5ac7ab1aa05d",
   "metadata": {},
   "source": [
    "Next, lowercase each column name."
   ]
  },
  {
   "cell_type": "code",
   "execution_count": 17,
   "id": "9c0872ef",
   "metadata": {},
   "outputs": [],
   "source": [
    "valid_time.columns = [each_string.lower() for each_string in valid_time.columns]"
   ]
  },
  {
   "cell_type": "markdown",
   "id": "cc3e8e3c-5df5-4b15-980f-d92153345edf",
   "metadata": {},
   "source": [
    "## Use H3 library to create and attach hexagons\n",
    "`h3_level` refers to the size of each hexagon.  A higher value represents a larger hexagon which covers a larger area and smaller values represent smaller hexagons."
   ]
  },
  {
   "cell_type": "code",
   "execution_count": 3,
   "id": "1f5739f0-32c4-4822-a572-40d18461983d",
   "metadata": {},
   "outputs": [
    {
     "name": "stdout",
     "output_type": "stream",
     "text": [
      "H3 Level: 8\n"
     ]
    }
   ],
   "source": [
    "print('H3 Level:', h3_level)"
   ]
  },
  {
   "cell_type": "code",
   "execution_count": 20,
   "id": "83054369",
   "metadata": {},
   "outputs": [
    {
     "name": "stdout",
     "output_type": "stream",
     "text": [
      "(404328, 87)\n",
      "(400243, 7)\n"
     ]
    }
   ],
   "source": [
    "# create a function to convert latitude and longitude values to hexagons\n",
    "def lat_lng_to_h3(row):\n",
    "    return h3.geo_to_h3(row.point_y, row.point_x, h3_level)\n",
    "\n",
    "pd_dict = {}\n",
    "\n",
    "valid_time['hex_id'] = valid_time.apply(lat_lng_to_h3, axis=1)\n",
    "print(valid_time.shape)\n",
    "valid_time = valid_time.groupby(['hex_id', 'collision_year', 'collision_dayofyear', 'collision_month', 'collision_dayofweek', 'collision_hour']).first()\n",
    "valid_time.reset_index(inplace = True)\n",
    "\n",
    "valid_time_select = valid_time[['hex_id', 'collision_year', 'collision_dayofyear', 'collision_month', 'collision_dayofweek', 'collision_hour']]\n",
    "valid_time_select['accident_count'] = 1\n",
    "print(valid_time_select.shape)\n",
    "#valid_time_cnt.sample(3)\n",
    "#valid_time_cnt.columns = ['h3_'+str(level), 'collision_count_h3_'+str(level)]\n",
    "#pd_dict[key_val] = valid_time_cnt"
   ]
  },
  {
   "cell_type": "markdown",
   "id": "3e0e9717-1943-4244-9732-726e3ffdbb4f",
   "metadata": {
    "tags": []
   },
   "source": [
    "## Upload processed data to S3 Bucket\n",
    "Convert the processed data to CSV and upload to the S3 bucket."
   ]
  },
  {
   "cell_type": "code",
   "execution_count": 26,
   "id": "18183084-2c19-4be2-a38e-c4ccc40a3dbe",
   "metadata": {},
   "outputs": [
    {
     "data": {
      "text/plain": [
       "{'paths': ['s3://traffic-data-bucket/all_collisions_points.csv'],\n",
       " 'partitions_values': {}}"
      ]
     },
     "execution_count": 26,
     "metadata": {},
     "output_type": "execute_result"
    }
   ],
   "source": [
    "# upload to a new folder in the bucket called h3_processed_data\n",
    "awswrangler.s3.to_csv(df=valid_time_select, path = 's3://traffic-data-bucket/h3_processed_data/collisions_hex.csv', index=False,\n",
    "                       boto3_session=my_session, use_threads=True\n",
    "                       )\n",
    "# upload to root of S3 Bucket\n",
    "awswrangler.s3.to_csv(df=valid_time_select, path = 's3://traffic-data-bucket/all_collisions_points.csv', index=False,\n",
    "                       boto3_session=my_session, use_threads=True\n",
    "                       )"
   ]
  },
  {
   "cell_type": "code",
   "execution_count": null,
   "id": "b9af5410-8b0d-4beb-903a-bbca438964e2",
   "metadata": {},
   "outputs": [],
   "source": []
  }
 ],
 "metadata": {
  "kernelspec": {
   "display_name": "Python [conda env:capstone]",
   "language": "python",
   "name": "conda-env-capstone-py"
  },
  "language_info": {
   "codemirror_mode": {
    "name": "ipython",
    "version": 3
   },
   "file_extension": ".py",
   "mimetype": "text/x-python",
   "name": "python",
   "nbconvert_exporter": "python",
   "pygments_lexer": "ipython3",
   "version": "3.9.12"
  }
 },
 "nbformat": 4,
 "nbformat_minor": 5
}
