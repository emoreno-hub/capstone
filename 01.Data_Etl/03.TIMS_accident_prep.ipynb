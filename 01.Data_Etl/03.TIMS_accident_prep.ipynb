{
 "cells": [
  {
   "cell_type": "code",
   "execution_count": null,
   "id": "12ddda41",
   "metadata": {},
   "outputs": [],
   "source": [
    "%matplotlib inline\n",
    "\n",
    "import pandas as pd\n",
    "import numpy as np\n",
    "from h3 import h3\n",
    "import os\n",
    "from os.path import isfile, join\n",
    "from pathlib import Path\n",
    "from os import listdir\n",
    "\n",
    "path =  Path(os.getcwd())\n",
    "root = path.parent.absolute()\n",
    "\n",
    "import warnings\n",
    "pd.options.mode.chained_assignment = None  # default='warn'\n",
    "\n",
    "h3_level = 8"
   ]
  },
  {
   "cell_type": "code",
   "execution_count": null,
   "id": "15133e52",
   "metadata": {},
   "outputs": [],
   "source": [
    "crash_dir = root / 'X.data' / 'raw_data' / 'TIMS_raw_crashes_downloads'\n",
    "\n",
    "onlyfiles = [f for f in listdir(crash_dir) if isfile(join(crash_dir, f))]\n",
    "\n",
    "appended_data = []\n",
    "\n",
    "for file in onlyfiles:\n",
    "    print(file)\n",
    "    temp = pd.read_csv(crash_dir / file, low_memory = False)\n",
    "    appended_data.append(temp)\n",
    "\n",
    "collision_df = pd.concat(appended_data)\n",
    "collision_df.sample(2)"
   ]
  },
  {
   "cell_type": "code",
   "execution_count": null,
   "id": "55c8527b",
   "metadata": {},
   "outputs": [],
   "source": [
    "collision_df['COLLISION_TIME']=collision_df['COLLISION_TIME'].apply(lambda x: '{0:0>4}'.format(x))\n",
    "\n",
    "mask = collision_df['COLLISION_TIME']=='2500'\n",
    "valid_time = collision_df[~mask]\n",
    "nonvalid_time = collision_df[mask]\n",
    "nonvalid_time['COLLISION_HOUR'] = 'none'\n",
    "print(nonvalid_time.shape)\n",
    "#350 records.  going to drop\n",
    "\n",
    "valid_time = valid_time.assign(COLLISION_HOUR=pd.to_datetime(valid_time.COLLISION_TIME, format='%H%M').dt.hour)\n",
    "valid_time = valid_time.assign(COLLISION_DATE=pd.to_datetime(valid_time.COLLISION_DATE, format='%Y-%m-%d'))\n",
    "\n",
    "valid_time['COLLISION_YEAR'] = valid_time.COLLISION_DATE.dt.year\n",
    "valid_time['COLLISION_MONTH'] = valid_time.COLLISION_DATE.dt.month\n",
    "valid_time['COLLISION_DAY'] = valid_time.COLLISION_DATE.dt.day\n",
    "valid_time['COLLISION_DAYOFWEEK'] = valid_time.COLLISION_DATE.dt.dayofweek\n",
    "valid_time['COLLISION_DAYOFYEAR'] = valid_time.COLLISION_DATE.dt.dayofyear\n",
    "\n",
    "valid_time.sample(2)"
   ]
  },
  {
   "cell_type": "code",
   "execution_count": null,
   "id": "9c0872ef",
   "metadata": {},
   "outputs": [],
   "source": [
    "valid_time.columns = [each_string.lower() for each_string in valid_time.columns]"
   ]
  },
  {
   "cell_type": "code",
   "execution_count": null,
   "id": "83054369",
   "metadata": {},
   "outputs": [],
   "source": [
    "def lat_lng_to_h3(row):\n",
    "    return h3.geo_to_h3(row.point_y, row.point_x, h3_level)\n",
    "\n",
    "pd_dict = {}\n",
    "\n",
    "valid_time['hex_id'] = valid_time.apply(lat_lng_to_h3, axis=1)\n",
    "print(valid_time.shape)\n",
    "valid_time = valid_time.groupby(['hex_id', 'collision_year', 'collision_dayofyear', 'collision_month', 'collision_dayofweek', 'collision_hour']).first()\n",
    "valid_time.reset_index(inplace = True)\n",
    "\n",
    "valid_time_select = valid_time[['hex_id', 'collision_year', 'collision_dayofyear', 'collision_month', 'collision_dayofweek', 'collision_hour']]\n",
    "valid_time_select['accident_count'] = 1\n",
    "print(valid_time_select.shape)\n",
    "#valid_time_cnt.sample(3)\n",
    "#valid_time_cnt.columns = ['h3_'+str(level), 'collision_count_h3_'+str(level)]\n",
    "#pd_dict[key_val] = valid_time_cnt"
   ]
  },
  {
   "cell_type": "code",
   "execution_count": null,
   "id": "ac02e261",
   "metadata": {},
   "outputs": [],
   "source": [
    "valid_time_select.to_csv(root / 'X.data' / 'h3_processed_data' / 'collisions_hex.csv', index=False)\n",
    "\n",
    "valid_time.to_csv(root / 'X.data' / 'all_collisions_points.csv', index=False)"
   ]
  },
  {
   "cell_type": "code",
   "execution_count": null,
   "id": "b9af5410-8b0d-4beb-903a-bbca438964e2",
   "metadata": {},
   "outputs": [],
   "source": []
  }
 ],
 "metadata": {
  "kernelspec": {
   "display_name": "Python 3 (ipykernel)",
   "language": "python",
   "name": "python3"
  },
  "language_info": {
   "codemirror_mode": {
    "name": "ipython",
    "version": 3
   },
   "file_extension": ".py",
   "mimetype": "text/x-python",
   "name": "python",
   "nbconvert_exporter": "python",
   "pygments_lexer": "ipython3",
   "version": "3.9.12"
  }
 },
 "nbformat": 4,
 "nbformat_minor": 5
}
