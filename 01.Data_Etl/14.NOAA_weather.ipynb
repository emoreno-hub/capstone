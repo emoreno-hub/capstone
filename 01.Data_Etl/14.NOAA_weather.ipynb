{
 "cells": [
  {
   "cell_type": "markdown",
   "id": "ce582aba-fa9f-4bf0-bf60-3d0ce709a42a",
   "metadata": {},
   "source": [
    "# Get Weather Data\n",
    "Import and transform weather data."
   ]
  },
  {
   "cell_type": "code",
   "execution_count": null,
   "id": "a1ee2cc5-5395-46dc-8b5c-323d628caa83",
   "metadata": {},
   "outputs": [],
   "source": [
    "import matplotlib.pyplot as plt\n",
    "import pandas as pd\n",
    "import numpy as np\n",
    "\n",
    "# import libraries needed for upload / download to AWS\n",
    "import boto3\n",
    "import awswrangler\n",
    "# set name of S3 bucket\n",
    "s3_bucket = 'traffic-data-bucket'\n",
    "\n",
    "import os\n",
    "from os.path import isfile, join\n",
    "from pathlib import Path\n",
    "from os import listdir\n",
    "import os\n",
    "os.getcwd()\n",
    "\n",
    "#from commons import download_data, find_vcs_root\n",
    "\n",
    "path =  Path(os.getcwd())\n",
    "root = path.parent.absolute()\n",
    "\n",
    "root"
   ]
  },
  {
   "cell_type": "markdown",
   "id": "a4a95185-67ac-49bd-8968-efeab0920933",
   "metadata": {},
   "source": [
    "## 1. Create Boto3 session\n",
    "Start by creating a boto3 session so that we can connect to the S3 bucket."
   ]
  },
  {
   "cell_type": "code",
   "execution_count": null,
   "id": "fa48e52e-0f44-4361-b2b3-95f9c6a49d6a",
   "metadata": {},
   "outputs": [],
   "source": [
    "from aws_secrets import aws_access_key_id, aws_secret_access_key, aws_session_token\n",
    "\n",
    "my_session = boto3.Session(\n",
    "    aws_access_key_id=aws_access_key_id,\n",
    "    aws_secret_access_key=aws_secret_access_key,\n",
    "    aws_session_token = aws_session_token\n",
    "\n",
    ")"
   ]
  },
  {
   "cell_type": "code",
   "execution_count": null,
   "id": "af9d0b3f-c8dd-40f0-a144-03844f34cb21",
   "metadata": {},
   "outputs": [],
   "source": [
    "weather_df = awswrangler.s3.read_csv(path=f\"s3://{s3_bucket}/weather/LA_weather_data.csv\", boto3_session=my_session)"
   ]
  },
  {
   "cell_type": "code",
   "execution_count": null,
   "id": "5c4f7076-15dd-4625-8fa1-a7c4f98bdcbc",
   "metadata": {},
   "outputs": [],
   "source": [
    "#convert to panda date time\n",
    "weather_df = weather_df.assign(DATE=pd.to_datetime(weather_df.DATE, format='%Y-%m-%d'))\n",
    "weather_df.sample(5)"
   ]
  },
  {
   "cell_type": "code",
   "execution_count": null,
   "id": "49331c84-b286-4de5-a6c3-e370d91c4020",
   "metadata": {},
   "outputs": [],
   "source": [
    "weather_df.columns = [each_string.lower() for each_string in weather_df.columns]"
   ]
  },
  {
   "cell_type": "code",
   "execution_count": null,
   "id": "344122ed-1b95-463f-ab33-34a7aa042e36",
   "metadata": {},
   "outputs": [],
   "source": [
    "weather_df.sample(3)"
   ]
  },
  {
   "cell_type": "markdown",
   "id": "929e0d7e-81ab-4b36-a656-0f11845b5db2",
   "metadata": {},
   "source": [
    "## 2. Save final data\n",
    "### 2.1 Upload to S3"
   ]
  },
  {
   "cell_type": "code",
   "execution_count": null,
   "id": "358602ff-9897-4621-9e87-d9880f6a50a8",
   "metadata": {},
   "outputs": [],
   "source": [
    "# upload to root of S3 Bucket\n",
    "awswrangler.s3.to_csv(df=weather_df, path = f\"s3://{s3_bucket}/weather/LA_weather_data_updated.csv\", index=False,\n",
    "                       boto3_session=my_session, use_threads=True\n",
    "                       )"
   ]
  },
  {
   "cell_type": "markdown",
   "id": "ab8900fc-5e28-4b9c-b86e-d10f6c9c1881",
   "metadata": {},
   "source": [
    "### 2.2 Store local copy of sample data"
   ]
  },
  {
   "cell_type": "code",
   "execution_count": null,
   "id": "bdb9b79e-c084-4441-85e5-fcf2c8d2d4b0",
   "metadata": {},
   "outputs": [],
   "source": [
    "weather_df.to_csv(root / 'X.data' / 'weather' / 'LA_weather_data_updated.csv', index = False )"
   ]
  },
  {
   "cell_type": "code",
   "execution_count": null,
   "id": "dd7d148c-11f7-4aeb-ad54-6994c0955f84",
   "metadata": {},
   "outputs": [],
   "source": []
  }
 ],
 "metadata": {
  "kernelspec": {
   "display_name": "Python [conda env:capstone]",
   "language": "python",
   "name": "conda-env-capstone-py"
  },
  "language_info": {
   "codemirror_mode": {
    "name": "ipython",
    "version": 3
   },
   "file_extension": ".py",
   "mimetype": "text/x-python",
   "name": "python",
   "nbconvert_exporter": "python",
   "pygments_lexer": "ipython3",
   "version": "3.9.12"
  }
 },
 "nbformat": 4,
 "nbformat_minor": 5
}
