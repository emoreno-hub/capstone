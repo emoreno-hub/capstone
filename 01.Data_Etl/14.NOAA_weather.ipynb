{
 "cells": [
  {
   "cell_type": "markdown",
   "id": "ce582aba-fa9f-4bf0-bf60-3d0ce709a42a",
   "metadata": {},
   "source": [
    "# Get Weather Data\n",
    "Import and transform weather data."
   ]
  },
  {
   "cell_type": "code",
   "execution_count": 1,
   "id": "a1ee2cc5-5395-46dc-8b5c-323d628caa83",
   "metadata": {},
   "outputs": [],
   "source": [
    "import matplotlib.pyplot as plt\n",
    "import pandas as pd\n",
    "import numpy as np\n",
    "\n",
    "# import libraries needed for upload / download to AWS\n",
    "import boto3\n",
    "import awswrangler\n",
    "# set name of S3 bucket\n",
    "s3_bucket = 'traffic-data-bucket'"
   ]
  },
  {
   "cell_type": "markdown",
   "id": "a4a95185-67ac-49bd-8968-efeab0920933",
   "metadata": {},
   "source": [
    "## 1. Create Boto3 session\n",
    "Start by creating a boto3 session so that we can connect to the S3 bucket."
   ]
  },
  {
   "cell_type": "code",
   "execution_count": 2,
   "id": "fa48e52e-0f44-4361-b2b3-95f9c6a49d6a",
   "metadata": {},
   "outputs": [],
   "source": [
    "from aws_secrets import aws_access_key_id, aws_secret_access_key, aws_session_token\n",
    "\n",
    "my_session = boto3.Session(\n",
    "    aws_access_key_id=aws_access_key_id,\n",
    "    aws_secret_access_key=aws_secret_access_key,\n",
    "    aws_session_token = aws_session_token\n",
    "\n",
    ")"
   ]
  },
  {
   "cell_type": "code",
   "execution_count": 3,
   "id": "af9d0b3f-c8dd-40f0-a144-03844f34cb21",
   "metadata": {},
   "outputs": [],
   "source": [
    "weather_df = awswrangler.s3.read_csv(path=f\"s3://{s3_bucket}/weather/LA_weather_data.csv\", boto3_session=my_session)"
   ]
  },
  {
   "cell_type": "code",
   "execution_count": 4,
   "id": "5c4f7076-15dd-4625-8fa1-a7c4f98bdcbc",
   "metadata": {},
   "outputs": [
    {
     "data": {
      "text/html": [
       "<div>\n",
       "<style scoped>\n",
       "    .dataframe tbody tr th:only-of-type {\n",
       "        vertical-align: middle;\n",
       "    }\n",
       "\n",
       "    .dataframe tbody tr th {\n",
       "        vertical-align: top;\n",
       "    }\n",
       "\n",
       "    .dataframe thead th {\n",
       "        text-align: right;\n",
       "    }\n",
       "</style>\n",
       "<table border=\"1\" class=\"dataframe\">\n",
       "  <thead>\n",
       "    <tr style=\"text-align: right;\">\n",
       "      <th></th>\n",
       "      <th>STATION</th>\n",
       "      <th>NAME</th>\n",
       "      <th>DATE</th>\n",
       "      <th>AWND</th>\n",
       "      <th>PRCP</th>\n",
       "      <th>TAVG</th>\n",
       "      <th>TMAX</th>\n",
       "      <th>TMIN</th>\n",
       "      <th>WDF2</th>\n",
       "    </tr>\n",
       "  </thead>\n",
       "  <tbody>\n",
       "    <tr>\n",
       "      <th>1117</th>\n",
       "      <td>USW00023174</td>\n",
       "      <td>LOS ANGELES INTERNATIONAL AIRPORT, CA US</td>\n",
       "      <td>2017-01-22</td>\n",
       "      <td>11.41</td>\n",
       "      <td>2.94</td>\n",
       "      <td>53</td>\n",
       "      <td>57.0</td>\n",
       "      <td>50.0</td>\n",
       "      <td>80.0</td>\n",
       "    </tr>\n",
       "    <tr>\n",
       "      <th>1688</th>\n",
       "      <td>USW00023174</td>\n",
       "      <td>LOS ANGELES INTERNATIONAL AIRPORT, CA US</td>\n",
       "      <td>2018-08-16</td>\n",
       "      <td>7.61</td>\n",
       "      <td>0.00</td>\n",
       "      <td>75</td>\n",
       "      <td>81.0</td>\n",
       "      <td>72.0</td>\n",
       "      <td>250.0</td>\n",
       "    </tr>\n",
       "    <tr>\n",
       "      <th>2086</th>\n",
       "      <td>USW00023174</td>\n",
       "      <td>LOS ANGELES INTERNATIONAL AIRPORT, CA US</td>\n",
       "      <td>2019-09-18</td>\n",
       "      <td>7.61</td>\n",
       "      <td>0.00</td>\n",
       "      <td>72</td>\n",
       "      <td>78.0</td>\n",
       "      <td>65.0</td>\n",
       "      <td>270.0</td>\n",
       "    </tr>\n",
       "    <tr>\n",
       "      <th>703</th>\n",
       "      <td>USW00023174</td>\n",
       "      <td>LOS ANGELES INTERNATIONAL AIRPORT, CA US</td>\n",
       "      <td>2015-12-05</td>\n",
       "      <td>5.82</td>\n",
       "      <td>0.00</td>\n",
       "      <td>61</td>\n",
       "      <td>74.0</td>\n",
       "      <td>50.0</td>\n",
       "      <td>280.0</td>\n",
       "    </tr>\n",
       "    <tr>\n",
       "      <th>1197</th>\n",
       "      <td>USW00023174</td>\n",
       "      <td>LOS ANGELES INTERNATIONAL AIRPORT, CA US</td>\n",
       "      <td>2017-04-12</td>\n",
       "      <td>10.74</td>\n",
       "      <td>0.00</td>\n",
       "      <td>60</td>\n",
       "      <td>68.0</td>\n",
       "      <td>53.0</td>\n",
       "      <td>260.0</td>\n",
       "    </tr>\n",
       "  </tbody>\n",
       "</table>\n",
       "</div>"
      ],
      "text/plain": [
       "          STATION                                      NAME       DATE   AWND  \\\n",
       "1117  USW00023174  LOS ANGELES INTERNATIONAL AIRPORT, CA US 2017-01-22  11.41   \n",
       "1688  USW00023174  LOS ANGELES INTERNATIONAL AIRPORT, CA US 2018-08-16   7.61   \n",
       "2086  USW00023174  LOS ANGELES INTERNATIONAL AIRPORT, CA US 2019-09-18   7.61   \n",
       "703   USW00023174  LOS ANGELES INTERNATIONAL AIRPORT, CA US 2015-12-05   5.82   \n",
       "1197  USW00023174  LOS ANGELES INTERNATIONAL AIRPORT, CA US 2017-04-12  10.74   \n",
       "\n",
       "      PRCP  TAVG  TMAX  TMIN   WDF2  \n",
       "1117  2.94    53  57.0  50.0   80.0  \n",
       "1688  0.00    75  81.0  72.0  250.0  \n",
       "2086  0.00    72  78.0  65.0  270.0  \n",
       "703   0.00    61  74.0  50.0  280.0  \n",
       "1197  0.00    60  68.0  53.0  260.0  "
      ]
     },
     "execution_count": 4,
     "metadata": {},
     "output_type": "execute_result"
    }
   ],
   "source": [
    "#convert to panda date time\n",
    "weather_df = weather_df.assign(DATE=pd.to_datetime(weather_df.DATE, format='%Y-%m-%d'))\n",
    "weather_df.sample(5)"
   ]
  },
  {
   "cell_type": "code",
   "execution_count": 5,
   "id": "49331c84-b286-4de5-a6c3-e370d91c4020",
   "metadata": {},
   "outputs": [],
   "source": [
    "weather_df.columns = [each_string.lower() for each_string in weather_df.columns]"
   ]
  },
  {
   "cell_type": "code",
   "execution_count": 6,
   "id": "344122ed-1b95-463f-ab33-34a7aa042e36",
   "metadata": {},
   "outputs": [
    {
     "data": {
      "text/html": [
       "<div>\n",
       "<style scoped>\n",
       "    .dataframe tbody tr th:only-of-type {\n",
       "        vertical-align: middle;\n",
       "    }\n",
       "\n",
       "    .dataframe tbody tr th {\n",
       "        vertical-align: top;\n",
       "    }\n",
       "\n",
       "    .dataframe thead th {\n",
       "        text-align: right;\n",
       "    }\n",
       "</style>\n",
       "<table border=\"1\" class=\"dataframe\">\n",
       "  <thead>\n",
       "    <tr style=\"text-align: right;\">\n",
       "      <th></th>\n",
       "      <th>station</th>\n",
       "      <th>name</th>\n",
       "      <th>date</th>\n",
       "      <th>awnd</th>\n",
       "      <th>prcp</th>\n",
       "      <th>tavg</th>\n",
       "      <th>tmax</th>\n",
       "      <th>tmin</th>\n",
       "      <th>wdf2</th>\n",
       "    </tr>\n",
       "  </thead>\n",
       "  <tbody>\n",
       "    <tr>\n",
       "      <th>1765</th>\n",
       "      <td>USW00023174</td>\n",
       "      <td>LOS ANGELES INTERNATIONAL AIRPORT, CA US</td>\n",
       "      <td>2018-11-01</td>\n",
       "      <td>6.71</td>\n",
       "      <td>0.0</td>\n",
       "      <td>67</td>\n",
       "      <td>81.0</td>\n",
       "      <td>57.0</td>\n",
       "      <td>270.0</td>\n",
       "    </tr>\n",
       "    <tr>\n",
       "      <th>327</th>\n",
       "      <td>USW00023174</td>\n",
       "      <td>LOS ANGELES INTERNATIONAL AIRPORT, CA US</td>\n",
       "      <td>2014-11-24</td>\n",
       "      <td>4.47</td>\n",
       "      <td>0.0</td>\n",
       "      <td>67</td>\n",
       "      <td>79.0</td>\n",
       "      <td>56.0</td>\n",
       "      <td>220.0</td>\n",
       "    </tr>\n",
       "    <tr>\n",
       "      <th>3128</th>\n",
       "      <td>USW00023174</td>\n",
       "      <td>LOS ANGELES INTERNATIONAL AIRPORT, CA US</td>\n",
       "      <td>2022-07-26</td>\n",
       "      <td>NaN</td>\n",
       "      <td>0.0</td>\n",
       "      <td>67</td>\n",
       "      <td>75.0</td>\n",
       "      <td>63.0</td>\n",
       "      <td>NaN</td>\n",
       "    </tr>\n",
       "  </tbody>\n",
       "</table>\n",
       "</div>"
      ],
      "text/plain": [
       "          station                                      name       date  awnd  \\\n",
       "1765  USW00023174  LOS ANGELES INTERNATIONAL AIRPORT, CA US 2018-11-01  6.71   \n",
       "327   USW00023174  LOS ANGELES INTERNATIONAL AIRPORT, CA US 2014-11-24  4.47   \n",
       "3128  USW00023174  LOS ANGELES INTERNATIONAL AIRPORT, CA US 2022-07-26   NaN   \n",
       "\n",
       "      prcp  tavg  tmax  tmin   wdf2  \n",
       "1765   0.0    67  81.0  57.0  270.0  \n",
       "327    0.0    67  79.0  56.0  220.0  \n",
       "3128   0.0    67  75.0  63.0    NaN  "
      ]
     },
     "execution_count": 6,
     "metadata": {},
     "output_type": "execute_result"
    }
   ],
   "source": [
    "weather_df.sample(3)"
   ]
  },
  {
   "cell_type": "markdown",
   "id": "929e0d7e-81ab-4b36-a656-0f11845b5db2",
   "metadata": {},
   "source": [
    "## 2. Save final data\n",
    "### 2.1 Upload to S3"
   ]
  },
  {
   "cell_type": "code",
   "execution_count": null,
   "id": "358602ff-9897-4621-9e87-d9880f6a50a8",
   "metadata": {},
   "outputs": [],
   "source": [
    "# upload to root of S3 Bucket\n",
    "awswrangler.s3.to_csv(df=weather_df, path = f\"s3://{s3_bucket}/weather/LA_weather_data_updated.csv\", index=False,\n",
    "                       boto3_session=my_session, use_threads=True\n",
    "                       )"
   ]
  },
  {
   "cell_type": "markdown",
   "id": "ab8900fc-5e28-4b9c-b86e-d10f6c9c1881",
   "metadata": {},
   "source": [
    "### 2.2 Store local copy of sample data"
   ]
  },
  {
   "cell_type": "code",
   "execution_count": null,
   "id": "bdb9b79e-c084-4441-85e5-fcf2c8d2d4b0",
   "metadata": {},
   "outputs": [],
   "source": [
    "joined_df4.to_csv(root / 'X.data' / 'weather' / 'LA_weather_data_updated.csv', index = False )"
   ]
  }
 ],
 "metadata": {
  "kernelspec": {
   "display_name": "Python [conda env:capstone]",
   "language": "python",
   "name": "conda-env-capstone-py"
  },
  "language_info": {
   "codemirror_mode": {
    "name": "ipython",
    "version": 3
   },
   "file_extension": ".py",
   "mimetype": "text/x-python",
   "name": "python",
   "nbconvert_exporter": "python",
   "pygments_lexer": "ipython3",
   "version": "3.9.12"
  }
 },
 "nbformat": 4,
 "nbformat_minor": 5
}
