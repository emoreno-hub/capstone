{
 "cells": [
  {
   "cell_type": "code",
   "execution_count": null,
   "id": "77ca6fa1",
   "metadata": {},
   "outputs": [],
   "source": [
    "import geopandas  as gpd\n",
    "import matplotlib.pyplot as plt\n",
    "import pandas as pd\n",
    "import numpy as np\n",
    "import libpysal\n",
    "from tobler.util import h3fy\n",
    "from h3 import h3\n",
    "#import descartes\n",
    "\n",
    "\n",
    "import os\n",
    "from os.path import isfile, join\n",
    "from pathlib import Path\n",
    "from os import listdir\n",
    "import os\n",
    "os.getcwd()\n",
    "\n",
    "path =  Path(os.getcwd())\n",
    "root = path.parent.absolute()\n",
    "\n",
    "h3_level = 9"
   ]
  },
  {
   "cell_type": "code",
   "execution_count": null,
   "id": "e6a306fa-482d-4bd9-a925-6e0bf7286320",
   "metadata": {},
   "outputs": [],
   "source": [
    "path"
   ]
  },
  {
   "cell_type": "code",
   "execution_count": null,
   "id": "04e1a8ab",
   "metadata": {},
   "outputs": [],
   "source": [
    "#hwy = gpd.read_file('/Users/josephschmit/Project/Capstone/data/Master_Plan_of_Highways/Master_Plan_of_Highways.shp')\n",
    "gdf = gpd.read_file(root / 'X.data' / 'raw_data' / 'la_county_website_data' / 'County_Boundaries' / 'County_Boundaries.shp')\n",
    "#get just inland la county\n",
    "gdf = gdf.loc[gdf['OBJECTID'].eq(22)]\n"
   ]
  },
  {
   "cell_type": "code",
   "execution_count": null,
   "id": "d5b9dee9",
   "metadata": {},
   "outputs": [],
   "source": [
    "gdf_hex = h3fy(gdf, h3_level)"
   ]
  },
  {
   "cell_type": "code",
   "execution_count": null,
   "id": "3aac4754",
   "metadata": {},
   "outputs": [],
   "source": [
    "print(gdf_hex.columns)\n",
    "gdf_hex.reset_index(inplace = True)\n",
    "gdf_hex.shape"
   ]
  },
  {
   "cell_type": "code",
   "execution_count": null,
   "id": "2d009599",
   "metadata": {},
   "outputs": [],
   "source": [
    "gdf_hex.sample(3)"
   ]
  },
  {
   "cell_type": "code",
   "execution_count": null,
   "id": "185f86e9",
   "metadata": {},
   "outputs": [],
   "source": [
    "import contextily as ctx\n",
    "ax = gdf_hex.plot(markersize=0.01, alpha = .3, edgecolors= \"black\", figsize=(20, 25))\n",
    "\n",
    "ctx.add_basemap(ax)\n",
    "plt.show()"
   ]
  },
  {
   "cell_type": "code",
   "execution_count": null,
   "id": "d46b99d7",
   "metadata": {},
   "outputs": [],
   "source": [
    "gdf_hex[['hex_id', 'geometry']].to_file((root / 'X.data' / 'processed_data' / 'base_map_hex_all' / 'base_map_hex_all.shp'))"
   ]
  },
  {
   "cell_type": "code",
   "execution_count": null,
   "id": "7f11e3d9",
   "metadata": {},
   "outputs": [],
   "source": []
  }
 ],
 "metadata": {
  "kernelspec": {
   "display_name": "Python 3 (ipykernel)",
   "language": "python",
   "name": "python3"
  },
  "language_info": {
   "codemirror_mode": {
    "name": "ipython",
    "version": 3
   },
   "file_extension": ".py",
   "mimetype": "text/x-python",
   "name": "python",
   "nbconvert_exporter": "python",
   "pygments_lexer": "ipython3",
   "version": "3.9.12"
  }
 },
 "nbformat": 4,
 "nbformat_minor": 5
}
