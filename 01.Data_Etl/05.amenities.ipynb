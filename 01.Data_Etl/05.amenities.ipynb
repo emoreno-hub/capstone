{
 "cells": [
  {
   "cell_type": "code",
   "execution_count": null,
   "id": "c06db4e9",
   "metadata": {},
   "outputs": [],
   "source": [
    "%matplotlib inline\n",
    "\n",
    "import osmnx as ox\n",
    "import matplotlib.pyplot as plt\n",
    "import numpy as np\n",
    "import geopandas  as gpd\n",
    "import pandas as pd\n",
    "ox.config(use_cache=True, log_console=False)\n",
    "%matplotlib inline\n",
    "import h3 as h3\n",
    "\n",
    "import boto3\n",
    "import awswrangler\n",
    "\n",
    "import warnings\n",
    "with warnings.catch_warnings():\n",
    "    warnings.simplefilter('ignore')\n",
    "\n",
    "import os\n",
    "from os.path import isfile, join\n",
    "from pathlib import Path\n",
    "from os import listdir\n",
    "import os\n",
    "os.getcwd()\n",
    "\n",
    "path =  Path(os.getcwd())\n",
    "root = path.parent.absolute()\n",
    "\n",
    "h3_level = 8\n",
    "root"
   ]
  },
  {
   "cell_type": "code",
   "execution_count": null,
   "id": "d003ca72-9828-4091-9bf2-aaa16f6885e1",
   "metadata": {},
   "outputs": [],
   "source": [
    "from aws_secrets import aws_access_key_id, aws_secret_access_key, aws_session_token\n",
    "\n",
    "my_session = boto3.Session(\n",
    "    aws_access_key_id=aws_access_key_id,\n",
    "    aws_secret_access_key=aws_secret_access_key,\n",
    "    aws_session_token = aws_session_token\n",
    "\n",
    ")"
   ]
  },
  {
   "cell_type": "code",
   "execution_count": null,
   "id": "f28a992b",
   "metadata": {},
   "outputs": [],
   "source": [
    "#G = ox.graph_from_place('Los Angeles County, CA, USA', network_type='drive')\n",
    "G = ox.geometries.geometries_from_place('Los Angeles County, CA, USA', tags = {'amenity':True, 'landuse':['retail','commercial']}, which_result=None, buffer_dist=None)\n",
    "G.head()"
   ]
  },
  {
   "cell_type": "code",
   "execution_count": null,
   "id": "f65c36f9-05ed-422e-afad-f16e44972e2b",
   "metadata": {},
   "outputs": [],
   "source": [
    "G.amenity.value_counts().head(75)"
   ]
  },
  {
   "cell_type": "code",
   "execution_count": null,
   "id": "c26d0f47",
   "metadata": {},
   "outputs": [],
   "source": [
    "filt_G = G[G.amenity.isin(['restaurant', 'cafe'])]\n",
    "filt_G = filt_G.to_crs(epsg=4326)\n",
    "centroids = filt_G.centroid\n",
    "lon = pd.Series(centroids.x).reset_index(drop = True)\n",
    "lat = pd.Series(centroids.y).reset_index(drop = True)\n",
    "\n",
    "rest_df = pd.concat([lon, lat], axis=1)\n",
    "rest_df.columns = ['lon', 'lat']\n",
    "rest_df.sample(2)\n"
   ]
  },
  {
   "cell_type": "code",
   "execution_count": null,
   "id": "afd0c5f5-d406-4ba1-9455-b8ea79f951ad",
   "metadata": {},
   "outputs": [],
   "source": [
    "filt_G = G[G.amenity.isin(['school','kindergarten'])]\n",
    "filt_G = filt_G.to_crs(epsg=4326)\n",
    "centroids = filt_G.centroid\n",
    "lon = pd.Series(centroids.x).reset_index(drop = True)\n",
    "lat = pd.Series(centroids.y).reset_index(drop = True)\n",
    "\n",
    "school_df = pd.concat([lon, lat], axis=1)\n",
    "school_df.columns = ['lon', 'lat']\n",
    "school_df.sample(2)\n"
   ]
  },
  {
   "cell_type": "code",
   "execution_count": null,
   "id": "a19b38b3-f243-4a42-8b93-d529c694a8a5",
   "metadata": {},
   "outputs": [],
   "source": [
    "filt_G = G[G.amenity.isin(['bar', 'pub'])]\n",
    "filt_G = filt_G.to_crs(epsg=4326)\n",
    "centroids = filt_G.centroid\n",
    "lon = pd.Series(centroids.x).reset_index(drop = True)\n",
    "lat = pd.Series(centroids.y).reset_index(drop = True)\n",
    "\n",
    "bar_df = pd.concat([lon, lat], axis=1)\n",
    "bar_df.columns = ['lon', 'lat']\n",
    "bar_df.sample(2)\n"
   ]
  },
  {
   "cell_type": "code",
   "execution_count": null,
   "id": "98302305-de55-4361-8546-22b2383f5e8a",
   "metadata": {},
   "outputs": [],
   "source": [
    "filt_G = G[G.amenity.isin(['university', 'college'])]\n",
    "filt_G = filt_G.to_crs(epsg=4326)\n",
    "centroids = filt_G.centroid\n",
    "lon = pd.Series(centroids.x).reset_index(drop = True)\n",
    "lat = pd.Series(centroids.y).reset_index(drop = True)\n",
    "\n",
    "college_df = pd.concat([lon, lat], axis=1)\n",
    "college_df.columns = ['lon', 'lat']\n",
    "college_df.sample(2)\n"
   ]
  },
  {
   "cell_type": "code",
   "execution_count": null,
   "id": "49732b41",
   "metadata": {},
   "outputs": [],
   "source": [
    "#import contextily as ctx\n",
    "#base = centroids.plot(marker='o', color='red', markersize=2)\n",
    "\n",
    "#ctx.add_basemap(base)\n",
    "#plt.show()"
   ]
  },
  {
   "cell_type": "code",
   "execution_count": null,
   "id": "796b294d",
   "metadata": {},
   "outputs": [],
   "source": [
    "def lat_lng_to_h3(row):\n",
    "    return h3.geo_to_h3(row.lat, row.lon, h3_level)\n",
    "\n",
    "\n",
    "rest_df['hex_id'] = rest_df.apply(lat_lng_to_h3, axis=1)\n",
    "school_df['hex_id'] = school_df.apply(lat_lng_to_h3, axis=1)\n",
    "bar_df['hex_id'] = bar_df.apply(lat_lng_to_h3, axis=1)\n",
    "college_df['hex_id'] = college_df.apply(lat_lng_to_h3, axis=1)"
   ]
  },
  {
   "cell_type": "code",
   "execution_count": null,
   "id": "372f021d",
   "metadata": {},
   "outputs": [],
   "source": [
    "rest_hex_cnt_df = rest_df.groupby(['hex_id']).hex_id.agg('count').to_frame('count').reset_index()\n",
    "school_hex_cnt_df = school_df.groupby(['hex_id']).hex_id.agg('count').to_frame('count').reset_index()\n",
    "bar_hex_cnt_df = bar_df.groupby(['hex_id']).hex_id.agg('count').to_frame('count').reset_index()\n",
    "college_hex_cnt_df = college_df.groupby(['hex_id']).hex_id.agg('count').to_frame('count').reset_index()\n",
    "rest_hex_cnt_df.sample(3)"
   ]
  },
  {
   "cell_type": "code",
   "execution_count": null,
   "id": "83bd824d-d151-4bca-b10a-840f949b5002",
   "metadata": {},
   "outputs": [],
   "source": [
    "rest_hex_cnt_df.columns = ['hex_id', 'amenities_restaurant_cnt']\n",
    "school_hex_cnt_df.columns = ['hex_id', 'amenities_school_cnt']\n",
    "bar_hex_cnt_df.columns = ['hex_id', 'amenities_bar_cnt']\n",
    "college_hex_cnt_df.columns = ['hex_id', 'amenities_college_cnt']"
   ]
  },
  {
   "cell_type": "code",
   "execution_count": null,
   "id": "662bfd17-20b7-46e8-ab8e-14bd702b7cf7",
   "metadata": {},
   "outputs": [],
   "source": [
    "ammeneties_hex_cnt_df = rest_hex_cnt_df.merge(school_hex_cnt_df, how = 'outer', on = 'hex_id')\n",
    "ammeneties_hex_cnt_df = ammeneties_hex_cnt_df.merge(bar_hex_cnt_df, how = 'outer', on = 'hex_id')\n",
    "ammeneties_hex_cnt_df = ammeneties_hex_cnt_df.merge(college_hex_cnt_df, how = 'outer', on = 'hex_id')\n",
    "ammeneties_hex_cnt_df"
   ]
  },
  {
   "cell_type": "code",
   "execution_count": null,
   "id": "f358b997",
   "metadata": {},
   "outputs": [],
   "source": [
    "ammeneties_hex_cnt_df.to_csv(root / 'X.data' /  'nodes_and_edges' / 'la_county_ammenities' / 'la_county_amenities.csv', index=False)"
   ]
  },
  {
   "cell_type": "code",
   "execution_count": null,
   "id": "a51e1b44-2008-4e1b-9773-9bef5da10734",
   "metadata": {},
   "outputs": [],
   "source": [
    "awswrangler.s3.to_csv(df=ammeneties_hex_cnt_df, path = 's3://traffic-data-bucket/nodes_and_edges/la_county_amenities/la_county_ammenities.csv', index=False,\n",
    "                       boto3_session=my_session, use_threads=True\n",
    "                       )"
   ]
  },
  {
   "cell_type": "code",
   "execution_count": null,
   "id": "a9d9189e-9bb1-4159-a683-2d34481628e0",
   "metadata": {},
   "outputs": [],
   "source": []
  }
 ],
 "metadata": {
  "kernelspec": {
   "display_name": "Python 3 (ipykernel)",
   "language": "python",
   "name": "python3"
  },
  "language_info": {
   "codemirror_mode": {
    "name": "ipython",
    "version": 3
   },
   "file_extension": ".py",
   "mimetype": "text/x-python",
   "name": "python",
   "nbconvert_exporter": "python",
   "pygments_lexer": "ipython3",
   "version": "3.9.12"
  }
 },
 "nbformat": 4,
 "nbformat_minor": 5
}
