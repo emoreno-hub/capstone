{
 "cells": [
  {
   "cell_type": "markdown",
   "id": "1e053fb5-879a-481d-a720-7461ac88de68",
   "metadata": {},
   "source": [
    "# Generate Hexagon Labels for Districts and Cities"
   ]
  },
  {
   "cell_type": "code",
   "execution_count": null,
   "id": "ff559b06",
   "metadata": {},
   "outputs": [],
   "source": [
    "import geopandas  as gpd\n",
    "import matplotlib.pyplot as plt\n",
    "import pandas as pd\n",
    "import numpy as np\n",
    "import libpysal\n",
    "from tobler.util import h3fy\n",
    "from h3 import h3\n",
    "#import descartes\n",
    "#from tobler.area_weighted import area_interpolate\n",
    "\n",
    "import warnings\n",
    "warnings.simplefilter(action='ignore', category=FutureWarning)\n",
    "\n",
    "import os\n",
    "from os.path import isfile, join\n",
    "from pathlib import Path\n",
    "from os import listdir\n",
    "import os\n",
    "os.getcwd()\n",
    "\n",
    "path =  Path(os.getcwd())\n",
    "root = path.parent.absolute()\n",
    "\n",
    "h3_level = 8\n",
    "\n",
    "# import libraries needed for upload / download to AWS\n",
    "import boto3\n",
    "import awswrangler\n",
    "from fiona.session import AWSSession\n",
    "import fiona"
   ]
  },
  {
   "cell_type": "markdown",
   "id": "4c15cbb6-ba4d-4748-a527-dfd00dffb3b0",
   "metadata": {},
   "source": [
    "## 1. Create Boto3 session\n",
    "Start by creating a boto3 session so that we can connect to the S3 bucket."
   ]
  },
  {
   "cell_type": "code",
   "execution_count": null,
   "id": "852505b3-4c7b-496f-9dc4-7d1fd7798de4",
   "metadata": {},
   "outputs": [],
   "source": [
    "from aws_secrets import aws_access_key_id, aws_secret_access_key, aws_session_token\n",
    "\n",
    "my_session = boto3.Session(\n",
    "    aws_access_key_id=aws_access_key_id,\n",
    "    aws_secret_access_key=aws_secret_access_key,\n",
    "    aws_session_token = aws_session_token\n",
    "\n",
    ")"
   ]
  },
  {
   "cell_type": "markdown",
   "id": "c8a5bc75-478f-41ee-87de-e06c9cc8c087",
   "metadata": {},
   "source": [
    "## 2. Generate hexagon labels for cities\n",
    "### 2.1 Read shapefile of Los Angeles County city boundaries from S3 bucket"
   ]
  },
  {
   "cell_type": "code",
   "execution_count": null,
   "id": "8d53d4b6",
   "metadata": {},
   "outputs": [],
   "source": [
    "with fiona.Env(session=AWSSession(my_session)):\n",
    "    gdf = gpd.read_file(\"s3://traffic-data-bucket/raw_data/la_county_website_data/LA_County_City_Boundaries/LA_County_City_Boundaries.shp\")\n",
    "\n",
    "gdf.sample(2)"
   ]
  },
  {
   "cell_type": "code",
   "execution_count": null,
   "id": "6d011f52",
   "metadata": {},
   "outputs": [],
   "source": [
    "gdf.columns"
   ]
  },
  {
   "cell_type": "code",
   "execution_count": null,
   "id": "f682eb0f",
   "metadata": {},
   "outputs": [],
   "source": [
    "gdf_h39 = h3fy(gdf, h3_level)\n",
    "gdf_h39.reset_index(inplace = True)\n",
    "gdf_h39.columns = ['hex_id', 'geometry']\n",
    "gdf_h39['model_layer_centroid'] = gdf_h39['hex_id'].apply(lambda x: h3.h3_to_geo(x))"
   ]
  },
  {
   "cell_type": "code",
   "execution_count": null,
   "id": "680c2cab",
   "metadata": {},
   "outputs": [],
   "source": [
    "print(gdf_h39.shape)\n",
    "gdf_h39.sample(4)"
   ]
  },
  {
   "cell_type": "code",
   "execution_count": null,
   "id": "7d6abdad",
   "metadata": {},
   "outputs": [],
   "source": [
    "gdf_h39[['latitude', 'longitude']] = pd.DataFrame(gdf_h39['model_layer_centroid'].tolist(), index=gdf_h39.index)\n",
    "gdf_h39.sample(4)"
   ]
  },
  {
   "cell_type": "code",
   "execution_count": null,
   "id": "868d000d",
   "metadata": {},
   "outputs": [],
   "source": [
    "gdf_h39 = gdf_h39[['hex_id', 'latitude','longitude']]\n",
    "gdf_h39.sample(3)"
   ]
  },
  {
   "cell_type": "code",
   "execution_count": null,
   "id": "d10000bf",
   "metadata": {},
   "outputs": [],
   "source": [
    "gdf_h39 = gpd.GeoDataFrame(\n",
    "    gdf_h39, geometry=gpd.points_from_xy(gdf_h39.longitude,gdf_h39.latitude, \n",
    "                                               crs=\"EPSG:4326\"\n",
    "                                              ))\n",
    "display(gdf_h39.sample(5))\n",
    "gdf_h39.shape"
   ]
  },
  {
   "cell_type": "code",
   "execution_count": null,
   "id": "eaf87f99",
   "metadata": {},
   "outputs": [],
   "source": [
    "joined = gpd.sjoin(left_df = gdf_h39.to_crs(epsg=3857),\n",
    "                   right_df = gdf[['CITY_NAME', 'CITY_TYPE', 'CITY_LABEL', 'FEAT_TYPE', 'geometry']], \n",
    "                   how ='left') \n",
    "joined.sample(2)"
   ]
  },
  {
   "cell_type": "code",
   "execution_count": null,
   "id": "5e865d0b",
   "metadata": {},
   "outputs": [],
   "source": [
    "joined = joined[['hex_id', 'CITY_NAME', 'CITY_TYPE', 'CITY_LABEL', 'FEAT_TYPE']].drop_duplicates()\n",
    "joined = joined.groupby('hex_id').first()\n",
    "joined.reset_index(inplace = True)\n",
    "display(joined.sample(2))\n",
    "len(joined.hex_id.unique())\n",
    "joined.shape"
   ]
  },
  {
   "cell_type": "markdown",
   "id": "5f1e8b26-fb5c-46b1-a719-89d7e2329eac",
   "metadata": {},
   "source": [
    "### Write to CSV and upload to S3"
   ]
  },
  {
   "cell_type": "code",
   "execution_count": null,
   "id": "3a6f663d-fca8-4fdc-89a8-d87f38ad0e19",
   "metadata": {},
   "outputs": [],
   "source": [
    "awswrangler.s3.to_csv(df=joined, path = 's3://traffic-data-bucket/h3_processed_data/city_labels_hex.csv', index=False,\n",
    "                       boto3_session=my_session, use_threads=True\n",
    "                       )"
   ]
  },
  {
   "cell_type": "markdown",
   "id": "32beda33-edaf-405d-b9b6-4713e545ab79",
   "metadata": {},
   "source": [
    "## 3. Generate hexagon labels for districts\n",
    "### 3.1 Read shapefile of Los Angeles County districts boundaries from S3 bucket"
   ]
  },
  {
   "cell_type": "code",
   "execution_count": null,
   "id": "22d03975-1405-4482-aa5b-8a7208ddbc9a",
   "metadata": {},
   "outputs": [],
   "source": [
    "with fiona.Env(session=AWSSession(my_session)):\n",
    "    gdf_dist = gpd.read_file(\"s3://traffic-data-bucket/raw_data/la_county_website_data/Supervisorial_Districts_(2011)/Supervisorial_Districts_(2011).shp\")\n",
    "\n",
    "gdf_dist.sample(2)"
   ]
  },
  {
   "cell_type": "code",
   "execution_count": null,
   "id": "e7819c96",
   "metadata": {},
   "outputs": [],
   "source": [
    "# gdf_dist = gpd.read_file(root / 'X.data' / 'raw_data' /  'la_county_website_data' / 'Supervisorial_Districts_(2011)'/ 'Supervisorial_Districts_(2011).shp')\n",
    "# gdf_dist.sample(2)"
   ]
  },
  {
   "cell_type": "code",
   "execution_count": null,
   "id": "df93c75a",
   "metadata": {},
   "outputs": [],
   "source": [
    "gdf_dist_h39 = h3fy(gdf_dist, h3_level)\n",
    "gdf_dist_h39.reset_index(inplace = True)\n",
    "gdf_dist_h39.columns = ['hex_id', 'geometry']\n",
    "gdf_dist_h39['model_layer_centroid'] = gdf_dist_h39['hex_id'].apply(lambda x: h3.h3_to_geo(x))"
   ]
  },
  {
   "cell_type": "code",
   "execution_count": null,
   "id": "217a5c2f",
   "metadata": {},
   "outputs": [],
   "source": [
    "gdf_dist_h39[['latitude', 'longitude']] = pd.DataFrame(gdf_dist_h39['model_layer_centroid'].tolist(), index=gdf_dist_h39.index)\n",
    "gdf_dist_h39.sample(4)"
   ]
  },
  {
   "cell_type": "code",
   "execution_count": null,
   "id": "feb0643b",
   "metadata": {},
   "outputs": [],
   "source": [
    "gdf_dist_h39 = gdf_dist_h39[['hex_id', 'latitude','longitude']]\n",
    "gdf_dist_h39.sample(3)"
   ]
  },
  {
   "cell_type": "code",
   "execution_count": null,
   "id": "75e4cda3",
   "metadata": {},
   "outputs": [],
   "source": [
    "gdf_dist_h39 = gpd.GeoDataFrame(\n",
    "    gdf_dist_h39, geometry=gpd.points_from_xy(gdf_dist_h39.longitude,gdf_dist_h39.latitude, \n",
    "                                               crs=\"EPSG:4326\"\n",
    "                                              ))\n",
    "display(gdf_dist_h39.sample(5))\n",
    "gdf_dist_h39.shape"
   ]
  },
  {
   "cell_type": "code",
   "execution_count": null,
   "id": "3d402543",
   "metadata": {},
   "outputs": [],
   "source": [
    "#gdf_dist_h39 = gdf_dist_h39.to_crs(epsg=3857)\n",
    "joined_dist = gpd.sjoin(left_df=gdf_dist_h39.to_crs(epsg=3857),\n",
    "                           right_df=gdf_dist[['DISTRICT', 'geometry']], \n",
    "                           how='left') #Join\n",
    "joined_dist.sample(2)"
   ]
  },
  {
   "cell_type": "code",
   "execution_count": null,
   "id": "021d42d6",
   "metadata": {},
   "outputs": [],
   "source": [
    "joined_dist = joined_dist[['hex_id', 'DISTRICT']].drop_duplicates()\n",
    "joined_dist = joined_dist.groupby('hex_id').first()\n",
    "joined_dist.reset_index(inplace = True)\n",
    "display(joined_dist.sample(2))\n",
    "len(joined_dist.hex_id.unique())\n",
    "joined_dist.shape"
   ]
  },
  {
   "cell_type": "markdown",
   "id": "580b46f3-3bcd-4aec-9a9d-8a172b412444",
   "metadata": {},
   "source": [
    "### Write to CSV and upload to S3"
   ]
  },
  {
   "cell_type": "code",
   "execution_count": null,
   "id": "1a951426-bce3-4410-99f5-5b4987f7df4c",
   "metadata": {},
   "outputs": [],
   "source": [
    "awswrangler.s3.to_csv(df=joined_dist, path = 's3://traffic-data-bucket/h3_processed_data/district_labels_hex.csv', index=False,\n",
    "                       boto3_session=my_session, use_threads=True\n",
    "                       )"
   ]
  },
  {
   "cell_type": "code",
   "execution_count": null,
   "id": "8d921548",
   "metadata": {},
   "outputs": [],
   "source": []
  }
 ],
 "metadata": {
  "kernelspec": {
   "display_name": "Python [conda env:capstone]",
   "language": "python",
   "name": "conda-env-capstone-py"
  },
  "language_info": {
   "codemirror_mode": {
    "name": "ipython",
    "version": 3
   },
   "file_extension": ".py",
   "mimetype": "text/x-python",
   "name": "python",
   "nbconvert_exporter": "python",
   "pygments_lexer": "ipython3",
   "version": "3.9.12"
  }
 },
 "nbformat": 4,
 "nbformat_minor": 5
}
