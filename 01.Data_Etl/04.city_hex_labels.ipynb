{
 "cells": [
  {
   "cell_type": "code",
   "execution_count": null,
   "id": "ff559b06",
   "metadata": {},
   "outputs": [],
   "source": [
    "import geopandas  as gpd\n",
    "import matplotlib.pyplot as plt\n",
    "import pandas as pd\n",
    "import numpy as np\n",
    "import libpysal\n",
    "from tobler.util import h3fy\n",
    "from h3 import h3\n",
    "#import descartes\n",
    "#from tobler.area_weighted import area_interpolate\n",
    "\n",
    "import warnings\n",
    "warnings.simplefilter(action='ignore', category=FutureWarning)\n",
    "\n",
    "import os\n",
    "from os.path import isfile, join\n",
    "from pathlib import Path\n",
    "from os import listdir\n",
    "import os\n",
    "os.getcwd()\n",
    "\n",
    "path =  Path(os.getcwd())\n",
    "root = path.parent.absolute()\n",
    "\n",
    "h3_level = 8"
   ]
  },
  {
   "cell_type": "code",
   "execution_count": null,
   "id": "8d53d4b6",
   "metadata": {},
   "outputs": [],
   "source": [
    "gdf = gpd.read_file(root / 'X.data' / 'raw_data' / 'la_county_website_data' / 'LA_County_City_Boundaries'/ 'LA_County_City_Boundaries.shp')\n",
    "gdf.sample(2)"
   ]
  },
  {
   "cell_type": "code",
   "execution_count": null,
   "id": "6d011f52",
   "metadata": {},
   "outputs": [],
   "source": [
    "gdf.columns"
   ]
  },
  {
   "cell_type": "code",
   "execution_count": null,
   "id": "f682eb0f",
   "metadata": {},
   "outputs": [],
   "source": [
    "gdf_h39 = h3fy(gdf, h3_level)\n",
    "gdf_h39.reset_index(inplace = True)\n",
    "gdf_h39.columns = ['hex_id', 'geometry']\n",
    "gdf_h39['model_layer_centroid'] = gdf_h39['hex_id'].apply(lambda x: h3.h3_to_geo(x))"
   ]
  },
  {
   "cell_type": "code",
   "execution_count": null,
   "id": "680c2cab",
   "metadata": {},
   "outputs": [],
   "source": [
    "print(gdf_h39.shape)\n",
    "gdf_h39.sample(4)"
   ]
  },
  {
   "cell_type": "code",
   "execution_count": null,
   "id": "7d6abdad",
   "metadata": {},
   "outputs": [],
   "source": [
    "gdf_h39[['latitude', 'longitude']] = pd.DataFrame(gdf_h39['model_layer_centroid'].tolist(), index=gdf_h39.index)\n",
    "gdf_h39.sample(4)"
   ]
  },
  {
   "cell_type": "code",
   "execution_count": null,
   "id": "868d000d",
   "metadata": {},
   "outputs": [],
   "source": [
    "gdf_h39 = gdf_h39[['hex_id', 'latitude','longitude']]\n",
    "gdf_h39.sample(3)"
   ]
  },
  {
   "cell_type": "code",
   "execution_count": null,
   "id": "d10000bf",
   "metadata": {},
   "outputs": [],
   "source": [
    "gdf_h39 = gpd.GeoDataFrame(\n",
    "    gdf_h39, geometry=gpd.points_from_xy(gdf_h39.longitude,gdf_h39.latitude, \n",
    "                                               crs=\"EPSG:4326\"\n",
    "                                              ))\n",
    "display(gdf_h39.sample(5))\n",
    "gdf_h39.shape"
   ]
  },
  {
   "cell_type": "code",
   "execution_count": null,
   "id": "eaf87f99",
   "metadata": {},
   "outputs": [],
   "source": [
    "joined = gpd.sjoin(left_df = gdf_h39.to_crs(epsg=3857),\n",
    "                   right_df = gdf[['CITY_NAME', 'CITY_TYPE', 'CITY_LABEL', 'FEAT_TYPE', 'geometry']], \n",
    "                   how ='left') \n",
    "joined.sample(2)"
   ]
  },
  {
   "cell_type": "code",
   "execution_count": null,
   "id": "5e865d0b",
   "metadata": {},
   "outputs": [],
   "source": [
    "joined = joined[['hex_id', 'CITY_NAME', 'CITY_TYPE', 'CITY_LABEL', 'FEAT_TYPE']].drop_duplicates()\n",
    "joined = joined.groupby('hex_id').first()\n",
    "joined.reset_index(inplace = True)\n",
    "display(joined.sample(2))\n",
    "len(joined.hex_id.unique())\n",
    "joined.shape"
   ]
  },
  {
   "cell_type": "code",
   "execution_count": null,
   "id": "4b6742fb",
   "metadata": {},
   "outputs": [],
   "source": [
    "joined.to_csv(root / 'X.data' / 'h3_processed_data'/ 'city_labels_hex.csv', index=False)"
   ]
  },
  {
   "cell_type": "code",
   "execution_count": null,
   "id": "e7819c96",
   "metadata": {},
   "outputs": [],
   "source": [
    "gdf_dist = gpd.read_file(root / 'X.data' / 'raw_data' /  'la_county_website_data' / 'Supervisorial_Districts_(2011)'/ 'Supervisorial_Districts_(2011).shp')\n",
    "gdf_dist.sample(2)"
   ]
  },
  {
   "cell_type": "code",
   "execution_count": null,
   "id": "df93c75a",
   "metadata": {},
   "outputs": [],
   "source": [
    "gdf_dist_h39 = h3fy(gdf_dist, h3_level)\n",
    "gdf_dist_h39.reset_index(inplace = True)\n",
    "gdf_dist_h39.columns = ['hex_id', 'geometry']\n",
    "gdf_dist_h39['model_layer_centroid'] = gdf_dist_h39['hex_id'].apply(lambda x: h3.h3_to_geo(x))"
   ]
  },
  {
   "cell_type": "code",
   "execution_count": null,
   "id": "217a5c2f",
   "metadata": {},
   "outputs": [],
   "source": [
    "gdf_dist_h39[['latitude', 'longitude']] = pd.DataFrame(gdf_dist_h39['model_layer_centroid'].tolist(), index=gdf_dist_h39.index)\n",
    "gdf_dist_h39.sample(4)"
   ]
  },
  {
   "cell_type": "code",
   "execution_count": null,
   "id": "feb0643b",
   "metadata": {},
   "outputs": [],
   "source": [
    "gdf_dist_h39 = gdf_dist_h39[['hex_id', 'latitude','longitude']]\n",
    "gdf_dist_h39.sample(3)"
   ]
  },
  {
   "cell_type": "code",
   "execution_count": null,
   "id": "75e4cda3",
   "metadata": {},
   "outputs": [],
   "source": [
    "gdf_dist_h39 = gpd.GeoDataFrame(\n",
    "    gdf_dist_h39, geometry=gpd.points_from_xy(gdf_dist_h39.longitude,gdf_dist_h39.latitude, \n",
    "                                               crs=\"EPSG:4326\"\n",
    "                                              ))\n",
    "display(gdf_dist_h39.sample(5))\n",
    "gdf_dist_h39.shape"
   ]
  },
  {
   "cell_type": "code",
   "execution_count": null,
   "id": "3d402543",
   "metadata": {},
   "outputs": [],
   "source": [
    "#gdf_dist_h39 = gdf_dist_h39.to_crs(epsg=3857)\n",
    "joined_dist = gpd.sjoin(left_df=gdf_dist_h39.to_crs(epsg=3857),\n",
    "                           right_df=gdf_dist[['DISTRICT', 'geometry']], \n",
    "                           how='left') #Join\n",
    "joined_dist.sample(2)"
   ]
  },
  {
   "cell_type": "code",
   "execution_count": null,
   "id": "021d42d6",
   "metadata": {},
   "outputs": [],
   "source": [
    "joined_dist = joined_dist[['hex_id', 'DISTRICT']].drop_duplicates()\n",
    "joined_dist = joined_dist.groupby('hex_id').first()\n",
    "joined_dist.reset_index(inplace = True)\n",
    "display(joined_dist.sample(2))\n",
    "len(joined_dist.hex_id.unique())\n",
    "joined_dist.shape"
   ]
  },
  {
   "cell_type": "code",
   "execution_count": null,
   "id": "1fb3b374",
   "metadata": {},
   "outputs": [],
   "source": [
    "joined_dist.to_csv(root / 'X.data' / 'h3_processed_data'/ 'district_labels_hex.csv', index=False)"
   ]
  },
  {
   "cell_type": "code",
   "execution_count": null,
   "id": "8d921548",
   "metadata": {},
   "outputs": [],
   "source": []
  }
 ],
 "metadata": {
  "kernelspec": {
   "display_name": "Python 3 (ipykernel)",
   "language": "python",
   "name": "python3"
  },
  "language_info": {
   "codemirror_mode": {
    "name": "ipython",
    "version": 3
   },
   "file_extension": ".py",
   "mimetype": "text/x-python",
   "name": "python",
   "nbconvert_exporter": "python",
   "pygments_lexer": "ipython3",
   "version": "3.9.12"
  }
 },
 "nbformat": 4,
 "nbformat_minor": 5
}
