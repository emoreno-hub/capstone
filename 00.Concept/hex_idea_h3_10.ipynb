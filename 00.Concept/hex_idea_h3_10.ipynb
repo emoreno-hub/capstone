{
 "cells": [
  {
   "cell_type": "code",
   "execution_count": null,
   "id": "e34dcd89",
   "metadata": {},
   "outputs": [],
   "source": [
    "import geopandas as gpd\n",
    "from geopandas import GeoDataFrame\n",
    "import matplotlib.pyplot as plt\n",
    "import pandas as pd\n",
    "import numpy as np\n",
    "import libpysal\n",
    "from tobler.util import h3fy\n",
    "from h3 import h3\n",
    "import descartes\n",
    "\n",
    "\n",
    "import os\n",
    "from os.path import isfile, join\n",
    "from pathlib import Path\n",
    "from os import listdir\n",
    "import os\n",
    "os.getcwd()\n",
    "\n",
    "path =  Path(os.getcwd())\n",
    "root = path.parent.absolute()\n",
    "\n",
    "\n",
    "h3_level = 10"
   ]
  },
  {
   "cell_type": "code",
   "execution_count": null,
   "id": "f50c9f2b",
   "metadata": {},
   "outputs": [],
   "source": [
    "gdf = gpd.read_file(root / 'X.data' / 'LA_County_City_Boundaries'/ 'LA_County_City_Boundaries.shp')\n",
    "gdf.sample(5)\n",
    "\n",
    "mask = gdf.CITY_LABEL.isin(['Long Beach'])\n",
    "\n",
    "gdf_lb = gdf[mask]\n",
    "gdf_lb.sample(2)"
   ]
  },
  {
   "cell_type": "code",
   "execution_count": null,
   "id": "9f242973",
   "metadata": {},
   "outputs": [],
   "source": [
    "gdf_hex = h3fy(gdf_lb, resolution = h3_level)\n",
    "gdf_hex.shape"
   ]
  },
  {
   "cell_type": "code",
   "execution_count": null,
   "id": "8dbbbce7",
   "metadata": {},
   "outputs": [],
   "source": [
    "import contextily as ctx\n",
    "ax = gdf_hex.plot(markersize=0.01, alpha = .3, edgecolors= \"black\", figsize=(8, 10))\n",
    "\n",
    "ctx.add_basemap(ax)\n",
    "plt.show()"
   ]
  },
  {
   "cell_type": "code",
   "execution_count": null,
   "id": "ec98d858",
   "metadata": {},
   "outputs": [],
   "source": [
    "#gdf_hex[['hex_id', 'geometry']].to_file((root / 'X.data' / 'h3_data' / 'base_map'/ 'base_map.shp'))"
   ]
  },
  {
   "cell_type": "code",
   "execution_count": null,
   "id": "92c741b7",
   "metadata": {},
   "outputs": [],
   "source": [
    "crash_dir = root / 'X.data' / 'raw_crashes'\n",
    "\n",
    "onlyfiles = [f for f in listdir(crash_dir) if isfile(join(crash_dir, f))]\n",
    "\n",
    "appended_data = []\n",
    "\n",
    "for file in onlyfiles:\n",
    "    print(file)\n",
    "    temp = pd.read_csv(crash_dir / file, low_memory = False)\n",
    "    appended_data.append(temp)\n",
    "\n",
    "collision_df = pd.concat(appended_data)\n",
    "collision_df.columns\n",
    "#collision_df.CITY.unique()"
   ]
  },
  {
   "cell_type": "code",
   "execution_count": null,
   "id": "64e87803",
   "metadata": {},
   "outputs": [],
   "source": [
    "#collision_df = collision_df.mask(('ACCIDENT_YEAR' == 2018) and ('CITY' == 'Long Beach'))\n",
    "coll_lb_18 = collision_df.query('ACCIDENT_YEAR == 2018 and CITY == \"LONG BEACH\" and DAY_OF_WEEK == 6')\n",
    "coll_lb_18.sample()"
   ]
  },
  {
   "cell_type": "code",
   "execution_count": null,
   "id": "cc72d066",
   "metadata": {},
   "outputs": [],
   "source": [
    "from shapely.geometry import Point\n",
    "geometry = [Point(xy) for xy in zip(coll_lb_18.POINT_X, coll_lb_18.POINT_Y)]\n",
    "gdf_lb = GeoDataFrame(coll_lb_18, geometry=geometry)\n",
    "\n",
    "gdf_lb.set_crs(epsg=4326, inplace=True).sample(2)"
   ]
  },
  {
   "cell_type": "code",
   "execution_count": null,
   "id": "870c5199",
   "metadata": {},
   "outputs": [],
   "source": [
    "base = gdf_hex.plot(markersize=0.01, alpha = .3, edgecolors= \"black\", figsize=(18, 20))\n",
    "gdf_lb.to_crs(epsg=3857).plot(ax=base, marker='o', color='red', markersize=5)\n",
    "\n",
    "ctx.add_basemap(base)\n",
    "plt.show()"
   ]
  },
  {
   "cell_type": "code",
   "execution_count": null,
   "id": "4cba4b56",
   "metadata": {},
   "outputs": [],
   "source": [
    "def lat_lng_to_h3(row):\n",
    "    return h3.geo_to_h3(row.POINT_Y, row.POINT_X, h3_level)\n",
    "\n",
    "pd_dict = {}\n",
    "\n",
    "coll_lb_18['hex_id'] = coll_lb_18.apply(lat_lng_to_h3, axis=1)\n",
    "\n",
    "hex_la_18 = coll_lb_18.groupby(['hex_id']).hex_id.agg('count').to_frame('count').reset_index()\n",
    "hex_la_18.sample(3)"
   ]
  },
  {
   "cell_type": "code",
   "execution_count": null,
   "id": "574fd5d5",
   "metadata": {},
   "outputs": [],
   "source": [
    "gdf_hex = gdf_hex.merge(hex_la_18, on = 'hex_id', how = 'left')\n",
    "gdf_hex.sample(2)"
   ]
  },
  {
   "cell_type": "code",
   "execution_count": null,
   "id": "67f94625",
   "metadata": {},
   "outputs": [],
   "source": [
    "gdf_hex['collision_count'] = gdf_hex['count'].fillna(0)\n",
    "gdf_hex.sort_values('collision_count')"
   ]
  },
  {
   "cell_type": "code",
   "execution_count": null,
   "id": "c61e099d",
   "metadata": {},
   "outputs": [],
   "source": [
    "base = gdf_hex.plot('collision_count',alpha = .2, edgecolors= \"black\", figsize=(15, 18))\n",
    "gdf_lb.to_crs(epsg=3857).plot(ax=base, marker='o', color='red', markersize=5)\n",
    "\n",
    "ctx.add_basemap(base)\n",
    "plt.show()"
   ]
  },
  {
   "cell_type": "code",
   "execution_count": null,
   "id": "36f75dbd",
   "metadata": {},
   "outputs": [],
   "source": [
    "def rking_neighbors(row, skins = 1):\n",
    "    neighbors = h3.k_ring(row.hex_id, skins)\n",
    "    neighbors_list = list(neighbors)\n",
    "    return(neighbors_list)\n",
    "\n",
    "gdf_hex['hex_neighbors_1_ids'] = gdf_hex.apply(rking_neighbors, axis=1)\n",
    "gdf_hex.sample(2)"
   ]
  },
  {
   "cell_type": "code",
   "execution_count": null,
   "id": "ec2f879b",
   "metadata": {},
   "outputs": [],
   "source": [
    "def neihbor_average(row):\n",
    "    #print(row.hex_neighbors_1_ids)\n",
    "    neighbor_list = row.hex_neighbors_1_ids\n",
    "    neighbor_len = len(neighbor_list)\n",
    "    neighbor_df = gdf_hex[gdf_hex['hex_id'].isin(neighbor_list)]\n",
    "    smooth_var = sum(neighbor_df['collision_count'])/neighbor_len\n",
    "    return(smooth_var)"
   ]
  },
  {
   "cell_type": "code",
   "execution_count": null,
   "id": "e3c925d8",
   "metadata": {},
   "outputs": [],
   "source": [
    "gdf_hex['neighbor_average_collision_count'] = gdf_hex.apply(neihbor_average, axis=1)\n",
    "gdf_hex.sample(2)"
   ]
  },
  {
   "cell_type": "code",
   "execution_count": null,
   "id": "241eb730",
   "metadata": {},
   "outputs": [],
   "source": [
    "base = gdf_hex.plot('neighbor_average_collision_count',alpha = .3, edgecolors= \"black\", figsize=(18, 20))\n",
    "gdf_lb.to_crs(epsg=3857).plot(ax=base, marker='o', color='red', markersize=5)\n",
    "\n",
    "ctx.add_basemap(base)\n",
    "plt.show()"
   ]
  },
  {
   "cell_type": "code",
   "execution_count": null,
   "id": "e48fb5c2",
   "metadata": {},
   "outputs": [],
   "source": [
    "import osmnx as ox\n",
    "#ox.config(use_cache=True, log_console=True)\n",
    "#G = ox.graph_from_place('Long Beach, CA, USA', network_type='drive')\n",
    "#Gc = ox.consolidate_intersections(ox.project_graph(G))\n",
    "#nodes = ox.graph_to_gdfs(Gc, edges=False)\n",
    "#nodes[['x', 'y', 'lat', 'lon']]"
   ]
  },
  {
   "cell_type": "code",
   "execution_count": null,
   "id": "ac778be8",
   "metadata": {},
   "outputs": [],
   "source": [
    "display(nodes.sample(2))\n",
    "nodes.shape"
   ]
  },
  {
   "cell_type": "code",
   "execution_count": null,
   "id": "8eafb6e9",
   "metadata": {},
   "outputs": [],
   "source": [
    "nodes.highway.value_counts()"
   ]
  },
  {
   "cell_type": "code",
   "execution_count": null,
   "id": "8ffd7260",
   "metadata": {},
   "outputs": [],
   "source": [
    "geometry = [Point(xy) for xy in zip(nodes.lon, nodes.lat)]\n",
    "gdf_nodes = GeoDataFrame(nodes, geometry=geometry)\n",
    "\n",
    "display(gdf_nodes.set_crs(epsg=4326, inplace=True).sample(2))\n",
    "gdf_nodes.to_crs(epsg=3857).sample(2)"
   ]
  },
  {
   "cell_type": "code",
   "execution_count": null,
   "id": "5cce7ee1",
   "metadata": {},
   "outputs": [],
   "source": [
    "ox.config(use_cache=True, log_console=True)\n",
    "#G = ox.graph_from_place('Long Beach, CA, USA', network_type='drive')\n",
    "#Gc = ox.consolidate_intersections(ox.project_graph(G))\n",
    "#edges = ox.graph_to_gdfs(Gc, nodes=False)"
   ]
  },
  {
   "cell_type": "code",
   "execution_count": null,
   "id": "9b7dd434",
   "metadata": {},
   "outputs": [],
   "source": [
    "edges.sample(2)"
   ]
  },
  {
   "cell_type": "code",
   "execution_count": null,
   "id": "14416a0d",
   "metadata": {},
   "outputs": [],
   "source": [
    "gdf_hex_nodes_inner = gpd.sjoin(gdf_hex, gdf_nodes.to_crs(epsg=3857), how = 'inner')\n",
    "gdf_hex_nodes_inner.shape"
   ]
  },
  {
   "cell_type": "code",
   "execution_count": null,
   "id": "de007763",
   "metadata": {},
   "outputs": [],
   "source": [
    "gdf_hex_edges_inner = gpd.sjoin(gdf_hex, edges.to_crs(epsg=3857), how = 'inner')\n",
    "gdf_hex_edges_inner.reset_index(inplace = True)\n",
    "\n",
    "gdf_hex_edges_inner = gdf_hex_edges_inner[['hex_id', 'geometry']].drop_duplicates()\n",
    "gdf_hex_edges_inner.shape"
   ]
  },
  {
   "cell_type": "code",
   "execution_count": null,
   "id": "a0bd165a",
   "metadata": {},
   "outputs": [],
   "source": [
    "gdf_hex_nodes_inner.sample()"
   ]
  },
  {
   "cell_type": "code",
   "execution_count": null,
   "id": "67aa2436",
   "metadata": {},
   "outputs": [],
   "source": [
    "base = gdf_hex_edges_inner.plot(alpha = .3, edgecolors= \"black\", figsize=(15, 18))\n",
    "edges.to_crs(epsg=3857).plot(ax=base, color='red', markersize=2)\n",
    "\n",
    "ctx.add_basemap(base)\n",
    "plt.show()"
   ]
  },
  {
   "cell_type": "code",
   "execution_count": null,
   "id": "8e504818",
   "metadata": {},
   "outputs": [],
   "source": [
    "edges.oneway.value_counts()"
   ]
  },
  {
   "cell_type": "code",
   "execution_count": null,
   "id": "d72d439b",
   "metadata": {},
   "outputs": [],
   "source": [
    "base = gdf_hex.plot(alpha = .3, edgecolors= \"black\", figsize=(15, 18))\n",
    "edges.to_crs(epsg=3857).plot('oneway', ax=base, markersize=5)\n",
    "\n",
    "ctx.add_basemap(base)\n",
    "plt.show()\n"
   ]
  },
  {
   "cell_type": "code",
   "execution_count": null,
   "id": "3a1ef381",
   "metadata": {},
   "outputs": [],
   "source": [
    "gdf_hex_hwy = gpd.sjoin(gdf_hex, edges[['geometry', 'highway']].to_crs(epsg=3857), how='inner', predicate='intersects')\n",
    "gdf_hex_hwy.sample(4)"
   ]
  },
  {
   "cell_type": "code",
   "execution_count": null,
   "id": "c9d74731",
   "metadata": {},
   "outputs": [],
   "source": [
    "#create hierarchy for roads\n",
    "residential                    10677\n",
    "tertiary                        2337\n",
    "secondary                       1837\n",
    "primary                          928\n",
    "unclassified                     322\n",
    "motorway_link                    293\n",
    "motorway                         153\n",
    "trunk                             36\n",
    "primary_link                      29\n",
    "[residential, unclassified]       21\n",
    "trunk_link                        20\n",
    "secondary_link                    17\n",
    "tertiary_link                     15\n",
    "[residential, tertiary]           12\n",
    "[tertiary, unclassified]           2\n",
    "[secondary, motorway_link]         1\n",
    "[trunk_link, motorway_link]        1\n",
    "[trunk, unclassified]              1\n",
    "[trunk, motorway]                  1\n"
   ]
  },
  {
   "cell_type": "code",
   "execution_count": null,
   "id": "0673eafb",
   "metadata": {},
   "outputs": [],
   "source": [
    "sorter = ['motorway_link'\n",
    "                      ,'motorway'\n",
    "                      ,'primary'\n",
    "                      ,'secondary'\n",
    "                      ,'residential'\n",
    "                      ,'primary_link'\n",
    "                      ,'secondary_link'\n",
    "                      ,'tertiary'\n",
    "                      ,'trunk'\n",
    "                      ,'unclassified'\n",
    "                      ,'other']\n",
    "\n",
    "gdf_hex_hwy['highway_updated'] = 'other'\n",
    "gdf_hex_hwy['highway_updated'][gdf_hex_hwy['highway'].isin(sorter)] = gdf_hex_hwy['highway']\n",
    "gdf_hex_hwy.highway_updated.value_counts()\n",
    "sorterIndex = dict(zip(sorter, range(len(sorter))))\n",
    "\n",
    "gdf_hex_hwy['highway_rank'] = gdf_hex_hwy.highway_updated.map(sorterIndex)\n",
    "#gdf_hex_hwy.sort_values(by=['hex_id', 'highway_rank']).head()\n",
    "gdf_hex_hwy = gdf_hex_hwy.groupby('hex_id').first()\n",
    "gdf_hex_hwy.reset_index(inplace = True)\n",
    "gdf_hex_hwy.sample(3)"
   ]
  },
  {
   "cell_type": "code",
   "execution_count": null,
   "id": "c1e6bbc9",
   "metadata": {},
   "outputs": [],
   "source": [
    "gdf_hex = gdf_hex.merge(gdf_hex_hwy[['hex_id', 'highway']], on ='hex_id', how = 'left')"
   ]
  },
  {
   "cell_type": "code",
   "execution_count": null,
   "id": "d8cf6956",
   "metadata": {},
   "outputs": [],
   "source": [
    "gdf_hex.sample()"
   ]
  },
  {
   "cell_type": "code",
   "execution_count": null,
   "id": "f7342206",
   "metadata": {},
   "outputs": [],
   "source": []
  }
 ],
 "metadata": {
  "kernelspec": {
   "display_name": "Python 3",
   "language": "python",
   "name": "python3"
  },
  "language_info": {
   "codemirror_mode": {
    "name": "ipython",
    "version": 3
   },
   "file_extension": ".py",
   "mimetype": "text/x-python",
   "name": "python",
   "nbconvert_exporter": "python",
   "pygments_lexer": "ipython3",
   "version": "3.8.3"
  }
 },
 "nbformat": 4,
 "nbformat_minor": 5
}
