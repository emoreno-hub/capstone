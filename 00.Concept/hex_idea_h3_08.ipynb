{
 "cells": [
  {
   "cell_type": "code",
   "execution_count": null,
   "id": "1f9841bf",
   "metadata": {},
   "outputs": [],
   "source": [
    "import geopandas as gpd\n",
    "from geopandas import GeoDataFrame\n",
    "import matplotlib.pyplot as plt\n",
    "import pandas as pd\n",
    "import numpy as np\n",
    "import osmnx as ox\n",
    "#import libpysal\n",
    "#import pyproj\n",
    "#from pyproj import CSR\n",
    "from tobler.util import h3fy\n",
    "from h3 import h3\n",
    "#import descartes\n",
    "\n",
    "from shapely.geometry import Point\n",
    "import contextily as ctx\n",
    "\n",
    "#import os\n",
    "from os.path import isfile, join\n",
    "from pathlib import Path\n",
    "from os import listdir\n",
    "import os\n",
    "os.getcwd()\n",
    "\n",
    "path =  Path(os.getcwd())\n",
    "root = path.parent.absolute()\n"
   ]
  },
  {
   "cell_type": "code",
   "execution_count": null,
   "id": "677ddfa9",
   "metadata": {},
   "outputs": [],
   "source": [
    "path"
   ]
  },
  {
   "cell_type": "code",
   "execution_count": null,
   "id": "29eaf520",
   "metadata": {},
   "outputs": [],
   "source": [
    "gdf = gpd.read_file(root / 'X.data' / 'raw_data' / 'la_county_website_data' / 'LA_County_City_Boundaries'/ 'LA_County_City_Boundaries.shp')\n",
    "gdf.sample(5)\n",
    "\n",
    "mask = gdf.CITY_LABEL.isin(['Long Beach', 'Signal Hill'])\n",
    "\n",
    "gdf_lb = gdf[mask]\n",
    "gdf_lb.sample(2)"
   ]
  },
  {
   "cell_type": "code",
   "execution_count": null,
   "id": "79454729",
   "metadata": {},
   "outputs": [],
   "source": [
    "h3_level = 8\n",
    "gdf_hex = h3fy(gdf_lb, resolution = h3_level)"
   ]
  },
  {
   "cell_type": "code",
   "execution_count": null,
   "id": "4c5ad691",
   "metadata": {},
   "outputs": [],
   "source": [
    "ax = gdf_hex.plot(markersize=0.01, alpha = .3, edgecolors= \"black\", figsize=(8, 10))\n",
    "\n",
    "ctx.add_basemap(ax)\n",
    "plt.show()"
   ]
  },
  {
   "cell_type": "code",
   "execution_count": null,
   "id": "261a58c3",
   "metadata": {},
   "outputs": [],
   "source": [
    "#gdf_hex[['hex_id', 'geometry']].to_file((root / 'X.data' / 'h3_data' / 'base_map'/ 'base_map.shp'))"
   ]
  },
  {
   "cell_type": "code",
   "execution_count": null,
   "id": "d29049ee",
   "metadata": {},
   "outputs": [],
   "source": [
    "crash_dir = root / 'X.data' / 'raw_data' / 'TIMS_raw_crashes_downloads'\n",
    "print(crash_dir)\n",
    "\n",
    "onlyfiles = [f for f in listdir(crash_dir) if isfile(join(crash_dir, f))]\n",
    "\n",
    "appended_data = []\n",
    "\n",
    "for file in onlyfiles:\n",
    "    print(file)\n",
    "    temp = pd.read_csv(crash_dir / file, low_memory = False)\n",
    "    appended_data.append(temp)\n",
    "\n",
    "collision_df = pd.concat(appended_data)\n",
    "collision_df.columns\n",
    "#collision_df.CITY.unique()"
   ]
  },
  {
   "cell_type": "code",
   "execution_count": null,
   "id": "2936adf3",
   "metadata": {},
   "outputs": [],
   "source": [
    "#collision_df = collision_df.mask(('ACCIDENT_YEAR' == 2018) and ('CITY' == 'Long Beach'))\n",
    "coll_lb_18 = collision_df.query('ACCIDENT_YEAR == 2018 and CITY == \"LONG BEACH\" and DAY_OF_WEEK == 6')\n",
    "coll_lb_18.sample()"
   ]
  },
  {
   "cell_type": "code",
   "execution_count": null,
   "id": "a14c5a14",
   "metadata": {},
   "outputs": [],
   "source": [
    "geometry = [Point(xy) for xy in zip(coll_lb_18.POINT_X, coll_lb_18.POINT_Y)]\n",
    "gdf_lb = GeoDataFrame(coll_lb_18, geometry=geometry)\n",
    "\n",
    "gdf_lb.set_crs(epsg=4326, inplace=True).sample(2)"
   ]
  },
  {
   "cell_type": "code",
   "execution_count": null,
   "id": "a120c552",
   "metadata": {},
   "outputs": [],
   "source": [
    "base = gdf_hex.plot(markersize=0.01, alpha = .3, edgecolors= \"black\", figsize=(12, 15))\n",
    "gdf_lb.to_crs(epsg=3857).plot(ax=base, marker='o', color='red', markersize=5)\n",
    "\n",
    "ctx.add_basemap(base)\n",
    "plt.show()"
   ]
  },
  {
   "cell_type": "code",
   "execution_count": null,
   "id": "980fecb4",
   "metadata": {},
   "outputs": [],
   "source": [
    "def lat_lng_to_h3(row):\n",
    "    return h3.geo_to_h3(row.POINT_Y, row.POINT_X, h3_level)\n",
    "\n",
    "pd_dict = {}\n",
    "\n",
    "coll_lb_18['hex_id'] = coll_lb_18.apply(lat_lng_to_h3, axis=1)\n",
    "\n",
    "hex_la_18 = coll_lb_18.groupby(['hex_id']).hex_id.agg('count').to_frame('count').reset_index()\n",
    "hex_la_18.sample(3)"
   ]
  },
  {
   "cell_type": "code",
   "execution_count": null,
   "id": "25fb3983",
   "metadata": {},
   "outputs": [],
   "source": [
    "gdf_hex = gdf_hex.merge(hex_la_18, on = 'hex_id', how = 'left')\n",
    "gdf_hex.sample(2)"
   ]
  },
  {
   "cell_type": "code",
   "execution_count": null,
   "id": "93ade172",
   "metadata": {},
   "outputs": [],
   "source": [
    "gdf_hex['collision_count'] = gdf_hex['count'].fillna(0)\n",
    "gdf_hex.sort_values('collision_count')"
   ]
  },
  {
   "cell_type": "code",
   "execution_count": null,
   "id": "fe940f0f",
   "metadata": {},
   "outputs": [],
   "source": [
    "base = gdf_hex.plot('collision_count',alpha = .3, edgecolors= \"black\", figsize=(15, 18))\n",
    "gdf_lb.to_crs(epsg=3857).plot(ax=base, marker='o', color='red', markersize=5)\n",
    "\n",
    "ctx.add_basemap(base)\n",
    "plt.show()"
   ]
  },
  {
   "cell_type": "code",
   "execution_count": null,
   "id": "4fa83039",
   "metadata": {},
   "outputs": [],
   "source": [
    "def rking_neighbors(row, skins = 1):\n",
    "    neighbors = h3.k_ring(row.hex_id, skins)\n",
    "    neighbors_list = list(neighbors)\n",
    "    return(neighbors_list)\n",
    "\n",
    "gdf_hex['hex_neighbors_1_ids'] = gdf_hex.apply(rking_neighbors, axis=1)\n",
    "gdf_hex.sample(2)"
   ]
  },
  {
   "cell_type": "code",
   "execution_count": null,
   "id": "c544fd23",
   "metadata": {},
   "outputs": [],
   "source": [
    "def neihbor_average(row):\n",
    "    #print(row.hex_neighbors_1_ids)\n",
    "    neighbor_list = row.hex_neighbors_1_ids\n",
    "    neighbor_len = len(neighbor_list)\n",
    "    neighbor_df = gdf_hex[gdf_hex['hex_id'].isin(neighbor_list)]\n",
    "    smooth_var = sum(neighbor_df['collision_count'])/neighbor_len\n",
    "    return(smooth_var)"
   ]
  },
  {
   "cell_type": "code",
   "execution_count": null,
   "id": "c2e2e540",
   "metadata": {},
   "outputs": [],
   "source": [
    "gdf_hex['neighbor_average_collision_count'] = gdf_hex.apply(neihbor_average, axis=1)\n",
    "gdf_hex.sample(2)"
   ]
  },
  {
   "cell_type": "code",
   "execution_count": null,
   "id": "6631455c",
   "metadata": {},
   "outputs": [],
   "source": [
    "base = gdf_hex.plot('neighbor_average_collision_count',alpha = .3, edgecolors= \"black\", figsize=(15, 18))\n",
    "gdf_lb.to_crs(epsg=3857).plot(ax=base, marker='o', color='red', markersize=5)\n",
    "\n",
    "ctx.add_basemap(base)\n",
    "plt.show()"
   ]
  },
  {
   "cell_type": "code",
   "execution_count": null,
   "id": "4c6cb635",
   "metadata": {},
   "outputs": [],
   "source": [
    "import osmnx as ox\n",
    "ox.config(use_cache=True, log_console=True)\n",
    "G = ox.graph_from_place('Long Beach, CA, USA', network_type='drive')\n",
    "Gc = ox.consolidate_intersections(ox.project_graph(G))\n",
    "nodes = ox.graph_to_gdfs(Gc, edges=False)\n",
    "nodes[['x', 'y', 'lat', 'lon']]"
   ]
  },
  {
   "cell_type": "code",
   "execution_count": null,
   "id": "da035688",
   "metadata": {},
   "outputs": [],
   "source": [
    "display(nodes.sample(2))\n",
    "nodes.shape"
   ]
  },
  {
   "cell_type": "code",
   "execution_count": null,
   "id": "810e65d6",
   "metadata": {},
   "outputs": [],
   "source": [
    "nodes.highway.value_counts()"
   ]
  },
  {
   "cell_type": "code",
   "execution_count": null,
   "id": "3939ca22",
   "metadata": {},
   "outputs": [],
   "source": [
    "nodes.street_count.value_counts()"
   ]
  },
  {
   "cell_type": "code",
   "execution_count": null,
   "id": "b8e731d3",
   "metadata": {},
   "outputs": [],
   "source": [
    "geometry = [Point(xy) for xy in zip(nodes.lon, nodes.lat)]\n",
    "gdf_nodes = GeoDataFrame(nodes, geometry=geometry)\n",
    "\n",
    "gdf_nodes.set_crs(epsg=4326, inplace=True, allow_override=True).sample(2)"
   ]
  },
  {
   "cell_type": "code",
   "execution_count": null,
   "id": "af03e663",
   "metadata": {},
   "outputs": [],
   "source": [
    "base = gdf_hex.plot(alpha = .3, edgecolors= \"black\", figsize=(18, 20))\n",
    "gdf_nodes.to_crs(epsg=3857).plot(ax=base, marker='o', color='red', markersize=5)\n",
    "\n",
    "ctx.add_basemap(base)\n",
    "plt.show()"
   ]
  },
  {
   "cell_type": "code",
   "execution_count": null,
   "id": "ae50865b",
   "metadata": {},
   "outputs": [],
   "source": [
    "base = gdf_hex.plot(alpha = .3, edgecolors= \"black\", figsize=(18, 20))\n",
    "gdf_nodes[gdf_nodes['highway']=='traffic_signals'].to_crs(epsg=3857).plot(ax=base, marker='o', color='red', markersize=5)\n",
    "\n",
    "ctx.add_basemap(base)\n",
    "plt.show()"
   ]
  },
  {
   "cell_type": "code",
   "execution_count": null,
   "id": "d7b0ac1c",
   "metadata": {},
   "outputs": [],
   "source": [
    "ox.config(use_cache=True, log_console=True)\n",
    "#G = ox.graph_from_place('Long Beach, CA, USA', network_type='drive')\n",
    "#Gc = ox.consolidate_intersections(ox.project_graph(G))\n",
    "#edges = ox.graph_to_gdfs(Gc, nodes=False)"
   ]
  },
  {
   "cell_type": "code",
   "execution_count": null,
   "id": "19df4935",
   "metadata": {},
   "outputs": [],
   "source": [
    "edges.sample(2)"
   ]
  },
  {
   "cell_type": "code",
   "execution_count": null,
   "id": "67ad08a2",
   "metadata": {},
   "outputs": [],
   "source": [
    "\n"
   ]
  },
  {
   "cell_type": "code",
   "execution_count": null,
   "id": "39b3d47b",
   "metadata": {},
   "outputs": [],
   "source": [
    "base = gdf_hex.plot(alpha = .3, edgecolors= \"black\", figsize=(15, 18))\n",
    "edges[edges['highway']=='motorway_link'].to_crs(epsg=3857).plot(ax=base, color='red', markersize=5)\n",
    "\n",
    "ctx.add_basemap(base)\n",
    "plt.show()"
   ]
  },
  {
   "cell_type": "code",
   "execution_count": null,
   "id": "f0438c2b",
   "metadata": {},
   "outputs": [],
   "source": [
    "base = gdf_hex.plot(alpha = .3, edgecolors= \"black\", figsize=(15, 18))\n",
    "edges[edges['highway']=='motorway'].to_crs(epsg=3857).plot(ax=base, color='red', markersize=5)\n",
    "\n",
    "ctx.add_basemap(base)\n",
    "plt.show()"
   ]
  },
  {
   "cell_type": "code",
   "execution_count": null,
   "id": "49c2a039",
   "metadata": {},
   "outputs": [],
   "source": [
    "base = gdf_hex.plot(alpha = .3, edgecolors= \"black\", figsize=(5, 8))\n",
    "edges[edges['highway']=='primary'].to_crs(epsg=3857).plot(ax=base, color='red', markersize=5)\n",
    "\n",
    "ctx.add_basemap(base)\n",
    "plt.show()"
   ]
  },
  {
   "cell_type": "code",
   "execution_count": null,
   "id": "a36ddc28",
   "metadata": {},
   "outputs": [],
   "source": [
    "base = gdf_hex.plot(alpha = .3, edgecolors= \"black\", figsize=(15, 18))\n",
    "edges[edges['highway']=='tertiary_link'].to_crs(epsg=3857).plot(ax=base, color='red', markersize=5)\n",
    "\n",
    "ctx.add_basemap(base)\n",
    "plt.show()"
   ]
  },
  {
   "cell_type": "code",
   "execution_count": null,
   "id": "fe74e215",
   "metadata": {},
   "outputs": [],
   "source": [
    "edges.maxspeed.value_counts()"
   ]
  },
  {
   "cell_type": "code",
   "execution_count": null,
   "id": "f077044a",
   "metadata": {},
   "outputs": [],
   "source": [
    "edges.junction.value_counts()"
   ]
  },
  {
   "cell_type": "code",
   "execution_count": null,
   "id": "69db84ca",
   "metadata": {},
   "outputs": [],
   "source": [
    "base = gdf_hex.plot(alpha = .3, edgecolors= \"black\", figsize=(15, 18))\n",
    "edges[edges['junction']=='roundabout'].to_crs(epsg=3857).plot(ax=base, color='red', markersize=5)\n",
    "\n",
    "ctx.add_basemap(base)\n",
    "plt.show()"
   ]
  },
  {
   "cell_type": "code",
   "execution_count": null,
   "id": "a6c33e63",
   "metadata": {},
   "outputs": [],
   "source": [
    "\n",
    "base = gdf_hex.plot(alpha = .3, edgecolors= \"black\", figsize=(15, 18))\n",
    "edges[edges['bridge']=='yes'].to_crs(epsg=3857).plot(ax=base, color='red', markersize=5)\n",
    "\n",
    "ctx.add_basemap(base)\n",
    "plt.show()\n"
   ]
  },
  {
   "cell_type": "code",
   "execution_count": null,
   "id": "f2129070",
   "metadata": {},
   "outputs": [],
   "source": [
    "edges.oneway.value_counts()"
   ]
  },
  {
   "cell_type": "code",
   "execution_count": null,
   "id": "bfd8c2b0",
   "metadata": {},
   "outputs": [],
   "source": [
    "base = gdf_hex.plot(alpha = .3, edgecolors= \"black\", figsize=(12, 15))\n",
    "edges.to_crs(epsg=3857).plot('oneway', ax=base, markersize=5)\n",
    "\n",
    "ctx.add_basemap(base)\n",
    "plt.show()\n"
   ]
  },
  {
   "cell_type": "code",
   "execution_count": null,
   "id": "42543437",
   "metadata": {},
   "outputs": [],
   "source": [
    "gdf_hex_hwy = gpd.sjoin(gdf_hex, edges[['geometry', 'highway']].to_crs(epsg=3857), how='inner', predicate='intersects')\n",
    "gdf_hex_hwy.sample(4)"
   ]
  },
  {
   "cell_type": "code",
   "execution_count": null,
   "id": "0e49db4a",
   "metadata": {},
   "outputs": [],
   "source": [
    "#create hierarchy for roads\n",
    "residential                    10677\n",
    "tertiary                        2337\n",
    "secondary                       1837\n",
    "primary                          928\n",
    "unclassified                     322\n",
    "motorway_link                    293\n",
    "motorway                         153\n",
    "trunk                             36\n",
    "primary_link                      29\n",
    "[residential, unclassified]       21\n",
    "trunk_link                        20\n",
    "secondary_link                    17\n",
    "tertiary_link                     15\n",
    "[residential, tertiary]           12\n",
    "[tertiary, unclassified]           2\n",
    "[secondary, motorway_link]         1\n",
    "[trunk_link, motorway_link]        1\n",
    "[trunk, unclassified]              1\n",
    "[trunk, motorway]                  1\n"
   ]
  },
  {
   "cell_type": "code",
   "execution_count": null,
   "id": "a5cc3473",
   "metadata": {},
   "outputs": [],
   "source": [
    "sorter = ['motorway_link'\n",
    "                      ,'motorway'\n",
    "                      ,'primary'\n",
    "                      ,'secondary'\n",
    "                      ,'residential'\n",
    "                      ,'primary_link'\n",
    "                      ,'secondary_link'\n",
    "                      ,'tertiary'\n",
    "                      ,'trunk'\n",
    "                      ,'unclassified'\n",
    "                      ,'other']\n",
    "\n",
    "gdf_hex_hwy['highway_updated'] = 'other'\n",
    "gdf_hex_hwy['highway_updated'][gdf_hex_hwy['highway'].isin(sorter)] = gdf_hex_hwy['highway']\n",
    "gdf_hex_hwy.highway_updated.value_counts()\n",
    "sorterIndex = dict(zip(sorter, range(len(sorter))))\n",
    "\n",
    "gdf_hex_hwy['highway_rank'] = gdf_hex_hwy.highway_updated.map(sorterIndex)\n",
    "#gdf_hex_hwy.sort_values(by=['hex_id', 'highway_rank']).head()\n",
    "gdf_hex_hwy = gdf_hex_hwy.groupby('hex_id').first()\n",
    "gdf_hex_hwy.reset_index(inplace = True)\n",
    "gdf_hex_hwy.sample(3)"
   ]
  },
  {
   "cell_type": "code",
   "execution_count": null,
   "id": "ccd8d4f0",
   "metadata": {},
   "outputs": [],
   "source": [
    "gdf_hex = gdf_hex.merge(gdf_hex_hwy[['hex_id', 'highway']], on ='hex_id', how = 'left')"
   ]
  },
  {
   "cell_type": "code",
   "execution_count": null,
   "id": "9808ac7c",
   "metadata": {},
   "outputs": [],
   "source": [
    "gdf_hex.sample()"
   ]
  },
  {
   "cell_type": "code",
   "execution_count": null,
   "id": "a52ae29f",
   "metadata": {},
   "outputs": [],
   "source": []
  }
 ],
 "metadata": {
  "kernelspec": {
   "display_name": "Python 3 (ipykernel)",
   "language": "python",
   "name": "python3"
  },
  "language_info": {
   "codemirror_mode": {
    "name": "ipython",
    "version": 3
   },
   "file_extension": ".py",
   "mimetype": "text/x-python",
   "name": "python",
   "nbconvert_exporter": "python",
   "pygments_lexer": "ipython3",
   "version": "3.9.12"
  }
 },
 "nbformat": 4,
 "nbformat_minor": 5
}
