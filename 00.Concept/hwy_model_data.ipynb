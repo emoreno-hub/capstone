{
 "cells": [
  {
   "cell_type": "code",
   "execution_count": null,
   "metadata": {},
   "outputs": [],
   "source": [
    "import geopandas  as gpd\n",
    "from geopandas import GeoDataFrame\n",
    "import matplotlib.pyplot as plt\n",
    "import pandas as pd\n",
    "import numpy as np\n",
    "import h3 as h3\n",
    "import osmnx as ox\n",
    "import contextily as ctx\n",
    "\n",
    "import itertools\n",
    "from operator import itemgetter\n",
    "\n",
    "\n",
    "from scipy.spatial import cKDTree\n",
    "from shapely.geometry import Point, LineString\n",
    "\n",
    "import re\n",
    "\n",
    "import os\n",
    "from os.path import isfile, join\n",
    "from pathlib import Path\n",
    "from os import listdir\n",
    "import os\n",
    "os.getcwd()\n",
    "\n",
    "path =  Path(os.getcwd())\n",
    "root = path.parent.absolute()\n",
    "\n",
    "root"
   ]
  },
  {
   "cell_type": "code",
   "execution_count": null,
   "metadata": {},
   "outputs": [],
   "source": [
    "gdf = gpd.read_file(root / 'X.data' / 'raw_data' / 'la_county_website_data' /  'LA_County_City_Boundaries'/ 'LA_County_City_Boundaries.shp')\n",
    "gdf.sample(5)\n",
    "\n",
    "mask = gdf.CITY_LABEL.isin(['Long Beach', 'Signal Hill'])\n",
    "\n",
    "gdf_lb = gdf[mask]\n",
    "gdf_lb.sample(2)"
   ]
  },
  {
   "cell_type": "code",
   "execution_count": null,
   "metadata": {},
   "outputs": [],
   "source": [
    "crash_dir = root / 'X.data' / 'raw_data'/ 'TIMS_raw_crashes_downloads'\n",
    "\n",
    "#print(join(crash_dir, 'Crashes_2014.csv'))\n",
    "onlyfiles = [f for f in listdir(crash_dir) if isfile(crash_dir / f)]\n",
    "\n",
    "appended_data = []\n",
    "\n",
    "for file in onlyfiles:\n",
    "    print(file)\n",
    "    temp = pd.read_csv(crash_dir / file, low_memory = False)\n",
    "    appended_data.append(temp)\n",
    "\n",
    "collision_df = pd.concat(appended_data)\n",
    "collision_df.columns"
   ]
  },
  {
   "cell_type": "code",
   "execution_count": null,
   "metadata": {},
   "outputs": [],
   "source": [
    "print(collision_df.shape)\n",
    "#print(len(collision_df.CASE_ID.unique()))\n",
    "collision_df = collision_df[['ACCIDENT_YEAR', 'COLLISION_DATE', 'COLLISION_TIME', 'DAY_OF_WEEK', 'CITY', 'POINT_X', 'POINT_Y']]\n",
    "collision_df.drop_duplicates(inplace = True)\n",
    "collision_df = collision_df.reset_index(drop = True)\n",
    "collision_df = collision_df.reset_index()\n",
    "collision_df = collision_df.rename(columns = {'index':'collision_id'})\n",
    "\n",
    "print(collision_df.shape)\n",
    "collision_df.sample(3)"
   ]
  },
  {
   "cell_type": "code",
   "execution_count": null,
   "metadata": {},
   "outputs": [],
   "source": [
    "coll_lb_18 = collision_df.query('ACCIDENT_YEAR == 2018 and CITY == \"LONG BEACH\"')\n",
    "coll_lb_18.sample()\n",
    "\n",
    "from shapely.geometry import Point\n",
    "geometry = [Point(xy) for xy in zip(coll_lb_18.POINT_X, coll_lb_18.POINT_Y)]\n",
    "gdf_coll_lb = GeoDataFrame(coll_lb_18, geometry=geometry)\n",
    "\n",
    "gdf_coll_lb.set_crs(epsg=4326, inplace=True).sample(2)\n",
    "\n",
    "gdf_coll_lb.sample(2)"
   ]
  },
  {
   "cell_type": "code",
   "execution_count": null,
   "metadata": {},
   "outputs": [],
   "source": [
    "edges = gpd.read_file(root / 'X.data' / 'semi_processed'/'nodes_and_edges' / 'la_county_edges' / 'la_county_edges.shp')\n",
    "edges = edges.to_crs(\"EPSG:3857\")\n",
    "edges_motorway = edges[edges['highway'] == 'motorway']\n",
    "display(edges_motorway.sample(2))\n",
    "print(edges.shape)"
   ]
  },
  {
   "cell_type": "code",
   "execution_count": null,
   "metadata": {},
   "outputs": [],
   "source": [
    "maxBuff = 75\n",
    "lines = edges_motorway.copy()\n",
    "points = gdf_coll_lb.to_crs(epsg=3857).copy()\n",
    "\n",
    "points['geometry'] = points.geometry.buffer(maxBuff)\n",
    "gdf_coll_lb_fwy = gpd.sjoin(lines[['geometry']], points.to_crs(epsg=3857), how = 'inner', op ='intersects')\n",
    "gdf_coll_lb_fwy = gdf_coll_lb_fwy.drop(columns = ['geometry'])\n",
    "gdf_coll_lb_fwy = gdf_coll_lb_fwy.drop_duplicates()\n",
    "\n",
    "gdf_coll_lb_fwy = gpd.GeoDataFrame(\n",
    "    gdf_coll_lb_fwy, geometry=gpd.points_from_xy(gdf_coll_lb_fwy.POINT_X, \n",
    "                                                 gdf_coll_lb_fwy.POINT_Y,\n",
    "                                                 crs=\"EPSG:4326\"))\n",
    "\n",
    "#display(gdf_coll_lb_fwy.sample(2))\n",
    "gdf_coll_lb_fwy.shape"
   ]
  },
  {
   "cell_type": "code",
   "execution_count": null,
   "metadata": {},
   "outputs": [],
   "source": [
    "gdf_coll_lb_fwy.sample(2)"
   ]
  },
  {
   "cell_type": "code",
   "execution_count": null,
   "metadata": {},
   "outputs": [],
   "source": [
    "def ckdnearest_two_dist(points_frame, gdf_ref):\n",
    "\n",
    "    nA = points_frame[['point_x', 'point_y']].to_numpy()\n",
    "    #print(nA)\n",
    "    nB = np.array(list(gdf_ref.geometry.apply(lambda x: (x.x, x.y))))\n",
    "    #print(nB)\n",
    "    btree = cKDTree(nB)\n",
    "    dist, idx = btree.query(nA, k=2)\n",
    "    dist1 = [item[0] for item in dist]\n",
    "    dist2 = [item[1] for item in dist]\n",
    "    idx1 = [item[0] for item in idx]\n",
    "    idx2 = [item[1] for item in idx]\n",
    "    #print(dist1[0:2])\n",
    "    #print(dist2[0:2])\n",
    "    gdB_nearest1 = gdf_ref.iloc[idx1][['geometry']].reset_index(drop=True)\n",
    "    gdB_nearest1.columns = ['geometry_1']\n",
    "    gdB_nearest2 = gdf_ref.iloc[idx2][['geometry']].reset_index(drop=True)\n",
    "    gdB_nearest2.columns = ['geometry_2']\n",
    "    gdf = pd.concat(\n",
    "        [\n",
    "            points_frame[['point_id']].reset_index(drop=True),\n",
    "            gdB_nearest1,\n",
    "            gdB_nearest2,\n",
    "            pd.Series(dist1, name='exit1_distance'),\n",
    "            pd.Series(dist2, name='exit2_distance')\n",
    "        ], \n",
    "        axis=1)\n",
    "    \n",
    "    return gdf"
   ]
  },
  {
   "cell_type": "code",
   "execution_count": null,
   "metadata": {},
   "outputs": [],
   "source": [
    "gdf_exits = gpd.read_file(root / 'X.data' / 'raw_data' / 'la_county_website_data' /  'Freeway_Exits'/ 'Freeway_Exits.shp')\n",
    "gdf_exits = gdf_exits.to_crs(\"EPSG:3857\")\n",
    "\n",
    "gdf_exits_lb = clip(gdf_exits, gdf_lb)\n",
    "gdf_exits_lb.sample(2)"
   ]
  },
  {
   "cell_type": "code",
   "execution_count": null,
   "metadata": {},
   "outputs": [],
   "source": [
    "edge_exploded = edges_motorway.explode('geometry', index_parts=False)\n",
    "edge_exploded = pd.DataFrame(edge_exploded)\n",
    "print(edge_exploded.shape)\n",
    "points_list = edge_exploded.geometry.apply(lambda geom: list(geom.coords))\n",
    "\n",
    "edge_exploded['points_list'] = points_list\n",
    "\n",
    "edge_motorway_points = edge_exploded.explode('points_list')\n",
    "edge_motorway_points = edge_motorway_points.drop(columns=['osmid', 'geometry'])\n",
    "                                                          \n",
    "edge_motorway_points = edge_motorway_points.reset_index(drop = True)\n",
    "edge_motorway_points = edge_motorway_points.reset_index()\n",
    "edge_motorway_points = edge_motorway_points.rename(columns = {'index':'point_id'})  \n",
    "\n",
    "edge_motorway_points[['point_x', 'point_y']] = pd.DataFrame(edge_motorway_points['points_list'].tolist(), index=edge_motorway_points.index)\n"
   ]
  },
  {
   "cell_type": "code",
   "execution_count": null,
   "metadata": {},
   "outputs": [],
   "source": [
    "edge_motorway_points.sample(2)"
   ]
  },
  {
   "cell_type": "code",
   "execution_count": null,
   "metadata": {},
   "outputs": [],
   "source": [
    "edge_exits_distance = ckdnearest_two_dist(edge_motorway_points, gdf_exits_lb)\n",
    "edge_exits_distance.sample()"
   ]
  },
  {
   "cell_type": "code",
   "execution_count": null,
   "metadata": {},
   "outputs": [],
   "source": [
    "edge_motorway_points = edge_motorway_points.merge(edge_exits_distance[['point_id', 'exit1_distance', 'exit2_distance']], on = 'point_id', how = 'left')"
   ]
  },
  {
   "cell_type": "code",
   "execution_count": null,
   "metadata": {},
   "outputs": [],
   "source": [
    "edge_motorway_points = gpd.GeoDataFrame(\n",
    "    edge_motorway_points, geometry=gpd.points_from_xy(edge_motorway_points.point_x, \n",
    "                                                      edge_motorway_points.point_y,\n",
    "                                                      crs=\"EPSG:3857\"))\n",
    "edge_motorway_points.sample(2)"
   ]
  },
  {
   "cell_type": "code",
   "execution_count": null,
   "metadata": {},
   "outputs": [],
   "source": [
    "edge_motorway_points.sample(2)"
   ]
  },
  {
   "cell_type": "code",
   "execution_count": null,
   "metadata": {},
   "outputs": [],
   "source": [
    "base = gdf_lb.plot(markersize=0.01, alpha = .2, edgecolors= \"black\", figsize=(23, 30))\n",
    "edge_motorway_points.plot('exit2_distance', ax=base, marker = 'o', markersize = 24, zorder=1)\n",
    "gdf_coll_lb_fwy.to_crs(epsg=3857).plot(ax=base, marker = 'o', markersize = 24, color = 'red', zorder=3)\n",
    "\n",
    "\n",
    "gdf_exits_lb.to_crs(epsg=3857).plot(ax=base, marker='o', color='yellow', markersize=12, zorder=2)\n",
    "\n",
    "ctx.add_basemap(base)\n",
    "plt.show()"
   ]
  },
  {
   "cell_type": "code",
   "execution_count": null,
   "metadata": {},
   "outputs": [],
   "source": [
    "gdf_coll_lb_fwy.head(1)"
   ]
  },
  {
   "cell_type": "code",
   "execution_count": null,
   "metadata": {},
   "outputs": [],
   "source": [
    "edge_coord_df_4326 = edge_motorway_points.copy()\n",
    "edge_coord_df_4326.crs = \"EPSG:3857\"\n",
    "edge_coord_df_4326 = edge_coord_df_4326.to_crs({'init': 'epsg:4326'}) \n",
    "edge_coord_df_4326.head(1)"
   ]
  },
  {
   "cell_type": "code",
   "execution_count": null,
   "metadata": {},
   "outputs": [],
   "source": [
    "print(edge_coord_df_4326.shape)\n",
    "sum(edge_coord_df_4326.name.value_counts())"
   ]
  },
  {
   "cell_type": "code",
   "execution_count": null,
   "metadata": {},
   "outputs": [],
   "source": [
    "def get_nearest_values(row, other_gdf, point_column='geometry', value_column=\"name\"):\n",
    "    \"\"\"Find the nearest point and return the corresponding value from specified value column.\"\"\"\n",
    "    \n",
    "    # Create an union of the other GeoDataFrame's geometries:\n",
    "    other_points = other_gdf[\"geometry\"].unary_union\n",
    "    \n",
    "    # Find the nearest points\n",
    "    nearest_geoms = nearest_points(row[point_column], other_points)\n",
    "    \n",
    "    # Get corresponding values from the other df\n",
    "    nearest_data = other_gdf.loc[other_gdf[\"geometry\"] == nearest_geoms[1]]\n",
    "    \n",
    "    nearest_value = nearest_data[value_column].values[0]\n",
    "    \n",
    "    return nearest_value"
   ]
  },
  {
   "cell_type": "code",
   "execution_count": null,
   "metadata": {},
   "outputs": [],
   "source": [
    "print(gdf_coll_lb_fwy.shape)\n",
    "gdf_coll_lb_fwy[\"name\"] = gdf_coll_lb_fwy.apply(get_nearest_values, other_gdf=edge_coord_df_4326, point_column=\"geometry\", axis=1)\n"
   ]
  },
  {
   "cell_type": "code",
   "execution_count": null,
   "metadata": {},
   "outputs": [],
   "source": [
    "gdf_coll_lb_fwy.sample(2)"
   ]
  },
  {
   "cell_type": "code",
   "execution_count": null,
   "metadata": {},
   "outputs": [],
   "source": [
    "print(sum(gdf_coll_lb_fwy.name.value_counts()))"
   ]
  },
  {
   "cell_type": "code",
   "execution_count": null,
   "metadata": {},
   "outputs": [],
   "source": [
    "import numpy as np\n",
    "from scipy.spatial import KDTree\n",
    "rng = np.random.default_rng()\n",
    "\n",
    "gdf_ref = gdf_coll_lb_fwy.copy()\n",
    "points_frame = edge_coord_df_4326.copy()\n",
    "\n",
    "\n",
    "def neighbor_counts(ref_data, row, circle_radius, accident_year):\n",
    "    #print(row.ref)\n",
    "    #print(row)\n",
    "    count = 0\n",
    "    ref_data = ref_data[ref_data['name'] == row['name']]\n",
    "    ref_data = ref_data[ref_data['ACCIDENT_YEAR'] == accident_year]\n",
    "    \n",
    "    if ref_data.shape[0] > 0:\n",
    "        nA = ref_data[['POINT_X', 'POINT_Y']].to_numpy()\n",
    "        #print(nA)\n",
    "        nB = []\n",
    "        nB.append(list([row.geometry.x, row.geometry.y]))\n",
    "        #print(nB)\n",
    "        #print(nB)\n",
    "        kd_collisions = KDTree(nA)\n",
    "        kd_points = KDTree(nB)\n",
    "\n",
    "        count = kd_points.count_neighbors(kd_collisions,r=circle_radius)\n",
    "    return count\n",
    "\n",
    "edge_motorway_points['coll_2018_radius_0250'] = edge_coord_df_4326.apply(\n",
    "    lambda row: neighbor_counts(gdf_coll_lb_fwy, row, circle_radius = .0025, accident_year = 2018),\n",
    "    axis=1\n",
    ")\n",
    "\n",
    "edge_motorway_points['coll_2018_radius_0500'] = edge_coord_df_4326.apply(\n",
    "    lambda row: neighbor_counts(gdf_coll_lb_fwy, row, circle_radius = .0050, accident_year = 2018),\n",
    "    axis=1\n",
    ")\n",
    "\n",
    "edge_motorway_points['coll_2018_radius_0750'] = edge_coord_df_4326.apply(\n",
    "    lambda row: neighbor_counts(gdf_coll_lb_fwy, row, circle_radius = .0075, accident_year = 2018),\n",
    "    axis=1\n",
    ")\n",
    "\n",
    "edge_motorway_points['coll_2018_radius_1000'] = edge_coord_df_4326.apply(\n",
    "    lambda row: neighbor_counts(gdf_coll_lb_fwy, row, circle_radius = .0100, accident_year = 2018),\n",
    "    axis=1\n",
    ")\n",
    "\n",
    "edge_motorway_points['coll_2018_radius_1000'] = edge_coord_df_4326.apply(\n",
    "    lambda row: neighbor_counts(gdf_coll_lb_fwy, row, circle_radius = .0150, accident_year = 2018),\n",
    "    axis=1\n",
    ")\n"
   ]
  },
  {
   "cell_type": "code",
   "execution_count": null,
   "metadata": {},
   "outputs": [],
   "source": [
    "edge_motorway_points.coll_2018_radius_1000.value_counts()"
   ]
  },
  {
   "cell_type": "code",
   "execution_count": null,
   "metadata": {},
   "outputs": [],
   "source": [
    "edge_motorway_points.coll_2018_radius_0750.value_counts()"
   ]
  },
  {
   "cell_type": "code",
   "execution_count": null,
   "metadata": {},
   "outputs": [],
   "source": [
    "edge_motorway_points.coll_2018_radius_0500.value_counts()"
   ]
  },
  {
   "cell_type": "code",
   "execution_count": null,
   "metadata": {},
   "outputs": [],
   "source": [
    "edge_motorway_points.coll_2018_radius_0250.value_counts()"
   ]
  },
  {
   "cell_type": "code",
   "execution_count": null,
   "metadata": {},
   "outputs": [],
   "source": [
    "base = gdf_lb.plot(markersize=0.01, alpha = .2, edgecolors= \"black\", figsize=(23, 30))\n",
    "#edge_coord_df_4326.to_crs(epsg=3857).head(1).plot(ax=base, marker = 'o', markersize = 500, color = 'purple', zorder=1)\n",
    "edge_motorway_points.plot('coll_2018_radius_0250', ax=base, marker = 'o', markersize = 24, zorder=3)\n",
    "#gdf_coll_lb_fwy.to_crs(epsg=3857).plot(ax=base, alpha = .25, marker = 'o', markersize = 24, color = 'red', zorder=2)\n",
    "#df_filtered.to_crs(epsg=3857).plot(ax=base, marker = 'o', markersize = 200, color = 'orange', zorder=3)\n",
    "\n",
    "gdf_exits_lb.to_crs(epsg=3857).plot(ax=base, alpha = .75, marker='o', color='yellow', markersize=12, zorder=2)\n",
    "\n",
    "ctx.add_basemap(base)\n",
    "plt.show()"
   ]
  },
  {
   "cell_type": "code",
   "execution_count": null,
   "metadata": {},
   "outputs": [],
   "source": [
    "volume = gpd.read_file(root / 'X.data' / 'raw_data'/ 'Traffic_Volumes_AADT' / 'HWY_Traffic_Volumes_AADT.shp')\n",
    "volume.sample(2)"
   ]
  },
  {
   "cell_type": "code",
   "execution_count": null,
   "metadata": {},
   "outputs": [],
   "source": [
    "print(volume.shape)\n",
    "print(len(volume.OBJECTID.unique()))\n",
    "volume_exploded = volume.explode('geometry', index_parts=False)\n",
    "volume_exploded = pd.DataFrame(volume_exploded)\n",
    "print(volume_exploded.shape)"
   ]
  },
  {
   "cell_type": "code",
   "execution_count": null,
   "metadata": {},
   "outputs": [],
   "source": [
    "volume_exploded = volume_exploded.groupby('OBJECTID').first()\n",
    "volume_exploded = volume_exploded.reset_index(drop = True)\n",
    "volume_exploded = volume_exploded.reset_index()\n",
    "volume_exploded = volume_exploded.rename(columns = {'index':'volume_id'}) \n",
    "volume_exploded.shape"
   ]
  },
  {
   "cell_type": "code",
   "execution_count": null,
   "metadata": {},
   "outputs": [],
   "source": [
    "volume_exploded.ROUTE.unique()\n",
    "volume_exploded['ROUTE'] = volume_exploded['ROUTE'].map(str)"
   ]
  },
  {
   "cell_type": "code",
   "execution_count": null,
   "metadata": {},
   "outputs": [],
   "source": [
    "edge_motorway_points['ref_num'] = edge_motorway_points['ref'].str.replace(r'\\D', '')\n",
    "edges_motorway_list = edge_motorway_points['ref_num'].unique()\n",
    "volume_exploded_lb = volume_exploded[volume_exploded['ROUTE'].isin(edges_motorway_list)]\n",
    "volume_exploded_lb.shape"
   ]
  },
  {
   "cell_type": "code",
   "execution_count": null,
   "metadata": {},
   "outputs": [],
   "source": [
    "display(volume_exploded_lb)"
   ]
  },
  {
   "cell_type": "code",
   "execution_count": null,
   "metadata": {},
   "outputs": [],
   "source": [
    "hwy_ref = '710'\n",
    "\n",
    "edge_filtered = edge_motorway_points[edge_motorway_points['ref_num'] == hwy_ref]\n",
    "volume_filtered = volume_exploded_lb[volume_exploded_lb['ROUTE'] == hwy_ref]\n",
    "\n",
    "print(edge_filtered.shape)\n",
    "\n",
    "ckdnearest_volume_interpolation(edge_filtered.head(27).tail(1), volume_filtered)"
   ]
  },
  {
   "cell_type": "code",
   "execution_count": null,
   "metadata": {},
   "outputs": [],
   "source": [
    "def ckdnearest_volume_interpolation(points_frame, gdf_ref):\n",
    "    \n",
    "    gdf_ref = gdf_ref.reset_index(drop = True)\n",
    "    \n",
    "    nA = points_frame[['point_x', 'point_y']].to_numpy()\n",
    "    #print(nA)\n",
    "    nB = np.array(list(gdf_ref.geometry.apply(lambda x: (x.x, x.y))))\n",
    "    #print(nB)\n",
    "    btree = cKDTree(nB)\n",
    "    dist, idx = btree.query(nA, k=2)\n",
    "    dist1 = [item[0] for item in dist]\n",
    "    dist2 = [item[1] for item in dist]\n",
    "    idx1 = [item[0] for item in idx]\n",
    "    idx2 = [item[1] for item in idx]\n",
    "    #print(idx)\n",
    "    #print(dist)\n",
    "    \n",
    "    volume_cols = ['PM','BACK_PEAK_','BACK_AADT','AHEAD_PEAK','AHEAD_AADT']\n",
    "    \n",
    "    gdB_nearest1 = gdf_ref.iloc[idx1][volume_cols].reset_index(drop=True)\n",
    "    gdB_nearest1 = gdB_nearest1.add_suffix('_1')\n",
    "    gdB_nearest2 = gdf_ref.iloc[idx2][volume_cols].reset_index(drop=True)\n",
    "    gdB_nearest2 = gdB_nearest2.add_suffix('_2')\n",
    "    #print(points_frame[['point_id']])\n",
    "\n",
    "    \n",
    "    gdf = pd.concat(\n",
    "        [\n",
    "            points_frame[['point_id']].reset_index(drop=True),\n",
    "            gdB_nearest1,\n",
    "            gdB_nearest2,\n",
    "            pd.Series(dist1, name='dist_1'),\n",
    "            pd.Series(dist2, name='dist_2')\n",
    "        ], \n",
    "        axis=1)\n",
    "    \n",
    "    dist2_mask = gdf['dist_1']<gdf['dist_2']\n",
    "    \n",
    "    gdf['VOLUME_REF_DISTANCE'] = gdf['dist_1']\n",
    "    gdf[dist2_mask]['EXIT_DIST'] = 'dist_2'\n",
    "    \n",
    "    gdf['PM'] = gdf['PM_1']\n",
    "    gdf[dist2_mask]['PM'] = 'PM_2'\n",
    "     \n",
    "    gdf['BACK_PEAK'] = gdf['BACK_PEAK__1']\n",
    "    gdf[dist2_mask]['BACK_PEAK'] = 'BACK_PEAK__2'\n",
    "    \n",
    "    gdf['BACK_AADT'] = gdf['BACK_AADT_1']\n",
    "    gdf[dist2_mask]['BACK_AADT'] = 'BACK_AADT_2'\n",
    "    \n",
    "    gdf['AHEAD_PEAK'] = gdf['AHEAD_PEAK_1']\n",
    "    gdf[dist2_mask]['AHEAD_PEAK'] = 'AHEAD_PEAK_2'\n",
    "    \n",
    "    gdf['AHEAD_AADT'] = gdf['AHEAD_AADT_1']\n",
    "    gdf[dist2_mask]['AHEAD_AADT'] = 'AHEAD_AADT_2'\n",
    "    \n",
    "    gdf['PEAK'] = gdf[['AHEAD_PEAK', 'BACK_PEAK']].mean(axis = 1)\n",
    "    gdf['AADT'] = gdf[['AHEAD_AADT', 'BACK_AADT']].mean(axis = 1)\n",
    "    \n",
    "    gdf = gdf.drop(columns = ['dist_1', 'dist_2', \n",
    "                              'PM_1','BACK_PEAK__1','BACK_AADT_1','AHEAD_PEAK_1','AHEAD_AADT_1',\n",
    "                              'PM_2','BACK_PEAK__2','BACK_AADT_2','AHEAD_PEAK_2','AHEAD_AADT_2',\n",
    "                             'AHEAD_PEAK', 'BACK_PEAK', 'AHEAD_AADT', 'BACK_AADT'])\n",
    "    \n",
    "    return gdf"
   ]
  },
  {
   "cell_type": "code",
   "execution_count": null,
   "metadata": {},
   "outputs": [],
   "source": [
    "hwy_vol_list = []\n",
    "for hwy_ref in edges_motorway_list:\n",
    "    edge_filtered = edge_motorway_points[edge_motorway_points['ref_num'] == hwy_ref]\n",
    "    volume_filtered = volume_exploded_lb[volume_exploded_lb['ROUTE'] == hwy_ref]\n",
    "    #print(volume_filtered.shape)\n",
    "    if volume_filtered.shape[0] > 0:\n",
    "        output_df = ckdnearest_volume_interpolation(edge_filtered, volume_filtered)\n",
    "        hwy_vol_list.append(output_df)\n",
    "#output_df"
   ]
  },
  {
   "cell_type": "code",
   "execution_count": null,
   "metadata": {},
   "outputs": [],
   "source": [
    "#print(hwy_vol_list)\n",
    "volume_ref = pd.concat(hwy_vol_list)\n",
    "\n",
    "edge_motorway_points = edge_motorway_points.merge(volume_ref, on = 'point_id', how = 'left')\n",
    "edge_motorway_points.sample(2)"
   ]
  },
  {
   "cell_type": "code",
   "execution_count": null,
   "metadata": {},
   "outputs": [],
   "source": [
    "volume_exploded_lb = gpd.GeoDataFrame(volume_exploded_lb, geometry = volume_exploded_lb.geometry)"
   ]
  },
  {
   "cell_type": "code",
   "execution_count": null,
   "metadata": {},
   "outputs": [],
   "source": [
    "base = gdf_lb.plot(markersize=0.01, alpha = .2, edgecolors= \"black\", figsize=(23, 30))\n",
    "#edge_coord_df_4326.to_crs(epsg=3857).head(1).plot(ax=base, marker = 'o', markersize = 500, color = 'purple', zorder=1)\n",
    "edge_motorway_points.plot('PM', ax=base, marker = 'o', markersize = 24, zorder=1)\n",
    "#gdf_coll_lb_fwy.to_crs(epsg=3857).plot(ax=base, marker = 'o', markersize = 24, color = 'red', zorder=3)\n",
    "volume_exploded_lb.plot(ax=base, marker = 'o', markersize = 24, color = 'red', zorder=3)\n",
    "\n",
    "#gdf_exits_lb.to_crs(epsg=3857).plot(ax=base, marker='o', color='yellow', markersize=12, zorder=2)\n",
    "\n",
    "ctx.add_basemap(base)\n",
    "plt.show()"
   ]
  },
  {
   "cell_type": "code",
   "execution_count": null,
   "metadata": {},
   "outputs": [],
   "source": []
  },
  {
   "cell_type": "code",
   "execution_count": null,
   "metadata": {},
   "outputs": [],
   "source": []
  },
  {
   "cell_type": "code",
   "execution_count": null,
   "metadata": {},
   "outputs": [],
   "source": []
  },
  {
   "cell_type": "code",
   "execution_count": null,
   "metadata": {},
   "outputs": [],
   "source": []
  },
  {
   "cell_type": "code",
   "execution_count": null,
   "metadata": {},
   "outputs": [],
   "source": []
  }
 ],
 "metadata": {
  "kernelspec": {
   "display_name": "Python 3",
   "language": "python",
   "name": "python3"
  },
  "language_info": {
   "codemirror_mode": {
    "name": "ipython",
    "version": 3
   },
   "file_extension": ".py",
   "mimetype": "text/x-python",
   "name": "python",
   "nbconvert_exporter": "python",
   "pygments_lexer": "ipython3",
   "version": "3.8.3"
  }
 },
 "nbformat": 4,
 "nbformat_minor": 4
}
