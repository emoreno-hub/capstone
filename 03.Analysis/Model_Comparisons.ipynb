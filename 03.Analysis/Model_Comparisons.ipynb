{
 "cells": [
  {
   "cell_type": "code",
   "execution_count": null,
   "id": "6d65492e-1d20-41c9-a270-f0d5a451500c",
   "metadata": {},
   "outputs": [],
   "source": [
    "import pandas as pd\n",
    "import numpy as np\n",
    "\n",
    "from sklearn.metrics import roc_auc_score\n",
    "from sklearn.metrics import roc_curve\n",
    "\n",
    "# Suppress all warnings\n",
    "import warnings\n",
    "warnings.filterwarnings('ignore')\n",
    "\n",
    "import matplotlib.pyplot as plt\n",
    "import seaborn as sns\n",
    "\n",
    "import boto3\n",
    "import awswrangler\n",
    "\n",
    "s3_bucket = 'traffic-data-bucket'"
   ]
  },
  {
   "cell_type": "code",
   "execution_count": null,
   "id": "bb33073a-32b7-46dd-be7d-ffce0161ff3c",
   "metadata": {},
   "outputs": [],
   "source": [
    "from aws_secrets import aws_access_key_id, aws_secret_access_key, aws_session_token\n",
    "\n",
    "my_session = boto3.Session(\n",
    "    aws_access_key_id=aws_access_key_id,\n",
    "    aws_secret_access_key=aws_secret_access_key,\n",
    "    aws_session_token = aws_session_token\n",
    "\n",
    ")"
   ]
  },
  {
   "cell_type": "code",
   "execution_count": null,
   "id": "7509505c-2d84-4f15-a630-729e612a4c00",
   "metadata": {},
   "outputs": [],
   "source": [
    "#inspect which files are out ther.\n",
    "s3 = my_session.resource('s3')\n",
    "\n",
    "my_bucket = s3.Bucket('traffic-data-bucket')\n",
    "# set prefix to name of folder\n",
    "for file in my_bucket.objects.filter(Prefix='model_scoring/'):\n",
    "    print(file.key)"
   ]
  },
  {
   "cell_type": "code",
   "execution_count": null,
   "id": "f354d7d3-2c37-4a1c-b708-8b6b3a15a6ae",
   "metadata": {},
   "outputs": [],
   "source": [
    "s3 = my_session.resource('s3')\n",
    "\n",
    "my_bucket = s3.Bucket('traffic-data-bucket')\n",
    "list_of_files_ignore = ['model_scoring/individual_model_scores/GBM_01.csv']\n",
    "# set prefix to name of folder\n",
    "\n",
    "scored_frame_dict = {}\n",
    "model_number = 1\n",
    "for file in my_bucket.objects.filter(Prefix='model_scoring/'):\n",
    "    print(file)\n",
    "    if file.key in list_of_files_ignore:\n",
    "        continue    # continue here\n",
    "    print(file)\n",
    "    this_model_df = awswrangler.s3.read_csv(path = f's3://{s3_bucket}/{file.key}', boto3_session=my_session, use_threads=True)\n",
    "    scored_frame_dict[model_number] = this_model_df\n",
    "    model_number = model_number + 1"
   ]
  },
  {
   "cell_type": "code",
   "execution_count": null,
   "id": "431be830-1da7-4336-8324-24a0b64c9798",
   "metadata": {},
   "outputs": [],
   "source": [
    "scored_df = pd.concat(scored_frame_dict)\n",
    "scored_df.reset_index(inplace = True, drop = True)\n",
    "scored_df.sample(8)"
   ]
  },
  {
   "cell_type": "code",
   "execution_count": null,
   "id": "57322b7b-8f7a-48f8-9062-e7735e0a3fe3",
   "metadata": {},
   "outputs": [],
   "source": [
    "model_df = awswrangler.s3.read_parquet(path = f's3://{s3_bucket}/model_data/model_data_post_transformation.parquet', boto3_session=my_session, use_threads=True)"
   ]
  },
  {
   "cell_type": "code",
   "execution_count": null,
   "id": "3e76859b-580c-4c76-bb92-da7e228d1368",
   "metadata": {},
   "outputs": [],
   "source": [
    "target_df = model_df[['hex_id', 'collision_date', 'collision_hour', 'target', 'ttv_split']]"
   ]
  },
  {
   "cell_type": "code",
   "execution_count": null,
   "id": "9417eda5-e6fc-48e1-b601-9f492d7f0fb8",
   "metadata": {},
   "outputs": [],
   "source": [
    "scored_validate_df = scored_df[scored_df.ttv_split == 'Validate']"
   ]
  },
  {
   "cell_type": "code",
   "execution_count": null,
   "id": "2995fc1a-65e8-4c45-8920-cefa89a153e7",
   "metadata": {},
   "outputs": [],
   "source": [
    "model_list = scored_validate_df.model_name.unique()\n",
    "all_target = model_df[model_df.ttv_split == 'Validate']['target'].astype(int)\n",
    "\n",
    "\n",
    "#nutral score\n",
    "ns_score_length = len(scored_validate_df)/len(model_list)\n",
    "np.int(ns_score_length)\n",
    "\n",
    "ns_probs = [0 for _ in range(np.int(ns_score_length))]\n",
    "ns_auc = roc_auc_score(all_target, ns_probs)\n",
    "# calculate roc curve\n",
    "ns_fpr, ns_tpr, _ = roc_curve(all_target, ns_probs)\n",
    "print('No Skill: ROC AUC=%.3f' % (ns_auc))\n",
    "\n",
    "#initialize plot\n",
    "plt.figure(figsize=(10, 10))\n",
    "plt.plot(ns_fpr, ns_tpr, linestyle='--', label='No Skill')\n",
    "\n",
    "for this_model in model_list:\n",
    "    \n",
    "    this_scored_df = scored_validate_df[scored_validate_df.model_name == this_model]\n",
    "    #display(this_scored_df.sample())\n",
    "    \n",
    "    this_auc = roc_auc_score(all_target, this_scored_df['prediction'])\n",
    "    print(this_model, ': ROC AUC=%.3f' % (this_auc))\n",
    "\n",
    "    ## calculate roc curve\n",
    "    this_fpr, this_tpr, _ = roc_curve(all_target, this_scored_df['prediction'])\n",
    "\n",
    "    plt.plot(this_fpr, this_tpr,linestyle='-', label=this_model)\n",
    "\n",
    "### axis labels\n",
    "plt.xlabel('False Positive Rate')\n",
    "plt.ylabel('True Positive Rate')\n",
    "## show the legend\n",
    "plt.legend()\n",
    "# show the plot\n",
    "plt.show()"
   ]
  },
  {
   "cell_type": "code",
   "execution_count": null,
   "id": "e0d9cca0-e8d5-4068-a492-fc0dabf98aad",
   "metadata": {},
   "outputs": [],
   "source": []
  }
 ],
 "metadata": {
  "kernelspec": {
   "display_name": "Python 3 (ipykernel)",
   "language": "python",
   "name": "python3"
  },
  "language_info": {
   "codemirror_mode": {
    "name": "ipython",
    "version": 3
   },
   "file_extension": ".py",
   "mimetype": "text/x-python",
   "name": "python",
   "nbconvert_exporter": "python",
   "pygments_lexer": "ipython3",
   "version": "3.9.13"
  }
 },
 "nbformat": 4,
 "nbformat_minor": 5
}
