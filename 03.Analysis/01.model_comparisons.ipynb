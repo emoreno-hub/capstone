{
 "cells": [
  {
   "cell_type": "code",
   "execution_count": null,
   "id": "6d65492e-1d20-41c9-a270-f0d5a451500c",
   "metadata": {},
   "outputs": [],
   "source": [
    "import pandas as pd\n",
    "import numpy as np\n",
    "\n",
    "from sklearn.metrics import roc_auc_score\n",
    "from sklearn.metrics import roc_curve\n",
    "\n",
    "# Suppress all warnings\n",
    "import warnings\n",
    "warnings.filterwarnings('ignore')\n",
    "\n",
    "import matplotlib.pyplot as plt\n",
    "import seaborn as sns\n",
    "\n",
    "import boto3\n",
    "import awswrangler\n",
    "\n",
    "s3_bucket = 'traffic-data-bucket'"
   ]
  },
  {
   "cell_type": "code",
   "execution_count": null,
   "id": "bb33073a-32b7-46dd-be7d-ffce0161ff3c",
   "metadata": {},
   "outputs": [],
   "source": [
    "from aws_secrets import aws_access_key_id, aws_secret_access_key, aws_session_token\n",
    "\n",
    "my_session = boto3.Session(\n",
    "    aws_access_key_id=aws_access_key_id,\n",
    "    aws_secret_access_key=aws_secret_access_key,\n",
    "    aws_session_token = aws_session_token\n",
    "\n",
    ")"
   ]
  },
  {
   "cell_type": "markdown",
   "id": "d54427e7-c88f-4cb4-829c-cb2cf1f0dd02",
   "metadata": {},
   "source": [
    "## List and import the models for comparison"
   ]
  },
  {
   "cell_type": "code",
   "execution_count": null,
   "id": "7509505c-2d84-4f15-a630-729e612a4c00",
   "metadata": {},
   "outputs": [],
   "source": [
    "#inspect which files are out ther.\n",
    "s3 = my_session.resource('s3')\n",
    "\n",
    "my_bucket = s3.Bucket('traffic-data-bucket')\n",
    "# set prefix to name of folder\n",
    "for file in my_bucket.objects.filter(Prefix='model_scoring/'):\n",
    "    print(file.key)"
   ]
  },
  {
   "cell_type": "code",
   "execution_count": null,
   "id": "f354d7d3-2c37-4a1c-b708-8b6b3a15a6ae",
   "metadata": {},
   "outputs": [],
   "source": [
    "#GBM_01 has model GBM_02 stored. It is miss lableled\n",
    "s3 = my_session.resource('s3')\n",
    "\n",
    "my_bucket = s3.Bucket('traffic-data-bucket')\n",
    "list_of_files_ignore = ['model_scoring/model_scores/GBM_01.csv']\n",
    "list_of_files_ignore = ['model_scoring/individual_model_scores/GBM_03.csv']\n",
    "list_of_files_ignore = ['model_scoring/individual_model_scores/GBM_04.csv']\n",
    "list_of_files_ignore = ['model_scoring/individual_model_scores/GLMnet_01.csv']\n",
    "list_of_files_ignore = ['model_scoring/individual_model_scores/GLMnet_02.csv']\n",
    "# set prefix to name of folder\n",
    "\n",
    "scored_frame_dict = {}\n",
    "model_number = 1\n",
    "for file in my_bucket.objects.filter(Prefix='model_scoring/'):\n",
    "    print(file)\n",
    "    if file.key.endswith(('.pkl')):\n",
    "        print('skipping the last file listed')\n",
    "        continue    # continue here\n",
    "    if file.key in list_of_files_ignore:\n",
    "        print('skipping the last file listed')\n",
    "        continue    # continue here\n",
    "    \n",
    "    this_model_df = awswrangler.s3.read_csv(path = f's3://{s3_bucket}/{file.key}', boto3_session=my_session, use_threads=True)\n",
    "    print(this_model_df.shape)\n",
    "    scored_frame_dict[model_number] = this_model_df\n",
    "    model_number = model_number + 1"
   ]
  },
  {
   "cell_type": "code",
   "execution_count": null,
   "id": "431be830-1da7-4336-8324-24a0b64c9798",
   "metadata": {},
   "outputs": [],
   "source": [
    "scored_df = pd.concat(scored_frame_dict)\n",
    "scored_df.reset_index(inplace = True, drop = True)\n",
    "scored_df.sample(8)"
   ]
  },
  {
   "cell_type": "code",
   "execution_count": null,
   "id": "3bc0f013-651d-48af-b41c-ff885f350849",
   "metadata": {},
   "outputs": [],
   "source": [
    "scored_df.model_name.value_counts()"
   ]
  },
  {
   "cell_type": "code",
   "execution_count": null,
   "id": "4c608845-0689-42c4-9de3-2ee39f8806fa",
   "metadata": {},
   "outputs": [],
   "source": [
    "min_date_mask = scored_df.collision_date > '2014-12-31'\n",
    "scored_df = scored_df[min_date_mask]\n",
    "max_date_mask = scored_df.collision_date < '2020-01-01'\n",
    "scored_df = scored_df[max_date_mask]"
   ]
  },
  {
   "cell_type": "code",
   "execution_count": null,
   "id": "57322b7b-8f7a-48f8-9062-e7735e0a3fe3",
   "metadata": {},
   "outputs": [],
   "source": [
    "model_df = awswrangler.s3.read_parquet(path = f's3://{s3_bucket}/model_data/model_data_post_transformation.parquet', boto3_session=my_session, use_threads=True)"
   ]
  },
  {
   "cell_type": "code",
   "execution_count": null,
   "id": "3e76859b-580c-4c76-bb92-da7e228d1368",
   "metadata": {},
   "outputs": [],
   "source": [
    "collision_year_list = [2015, 2016, 2017, 2018, 2019]\n",
    "target_df = model_df[['hex_id', 'collision_year', 'collision_date', 'collision_hour', 'target', 'ttv_split']]\n",
    "target_df = target_df[target_df.collision_year.isin(collision_year_list)]\n",
    "target_df.collision_year.unique()"
   ]
  },
  {
   "cell_type": "code",
   "execution_count": null,
   "id": "9417eda5-e6fc-48e1-b601-9f492d7f0fb8",
   "metadata": {},
   "outputs": [],
   "source": [
    "scored_validate_df = scored_df[scored_df.ttv_split == 'Validate']"
   ]
  },
  {
   "cell_type": "code",
   "execution_count": null,
   "id": "fa3f7368-f09d-460b-ab56-c610a5a42b7d",
   "metadata": {},
   "outputs": [],
   "source": [
    "scored_validate_df = scored_validate_df.merge(target_df, on = ['hex_id', 'collision_date', 'collision_hour', 'ttv_split'], how = 'left')"
   ]
  },
  {
   "cell_type": "code",
   "execution_count": null,
   "id": "9ed8e7ef-2160-468d-8987-21a3ac0ff92c",
   "metadata": {},
   "outputs": [],
   "source": [
    "scored_validate_df.sample(4)"
   ]
  },
  {
   "cell_type": "markdown",
   "id": "c6b4eb48-ea5e-4511-8f69-d2b69333adba",
   "metadata": {},
   "source": [
    "## Calculate AUC on the validation and create graph for visual inspection"
   ]
  },
  {
   "cell_type": "code",
   "execution_count": null,
   "id": "2995fc1a-65e8-4c45-8920-cefa89a153e7",
   "metadata": {},
   "outputs": [],
   "source": [
    "model_list = scored_validate_df.model_name.unique()\n",
    "all_target = target_df[target_df.ttv_split == 'Validate']['target'].astype(int)\n",
    "len(all_target)\n",
    "#nutral score\n",
    "ns_score_length = len(all_target)\n",
    "\n",
    "ns_probs = [0 for _ in range(np.int(ns_score_length))]\n",
    "ns_auc = roc_auc_score(all_target, ns_probs)\n",
    "# calculate roc curve\n",
    "ns_fpr, ns_tpr, _ = roc_curve(all_target, ns_probs)\n",
    "print('No Skill: ROC AUC=%.3f' % (ns_auc))\n",
    "\n",
    "#initialize plot\n",
    "plt.figure(figsize=(10, 10))\n",
    "plt.plot(ns_fpr, ns_tpr, linestyle='--', label='No Skill')\n",
    "\n",
    "for this_model in model_list:\n",
    "    \n",
    "    this_scored_df = scored_validate_df[scored_validate_df.model_name == this_model]\n",
    "    print(this_scored_df.shape)\n",
    "    \n",
    "    this_auc = roc_auc_score(this_scored_df['target'].astype(int), this_scored_df['prediction'])\n",
    "    print(this_model, ': ROC AUC=%.3f' % (this_auc))\n",
    "\n",
    "    ## calculate roc curve\n",
    "    this_fpr, this_tpr, _ = roc_curve(this_scored_df['target'].astype(int), this_scored_df['prediction'])\n",
    "\n",
    "    plt.plot(this_fpr, this_tpr,linestyle='-', label=this_model)\n",
    "\n",
    "### axis labels\n",
    "plt.xlabel('False Positive Rate')\n",
    "plt.ylabel('True Positive Rate')\n",
    "## show the legend\n",
    "plt.legend()\n",
    "# show the plot\n",
    "plt.show()"
   ]
  },
  {
   "cell_type": "markdown",
   "id": "d6b9d82b-854a-47bc-b505-a36fb9347ced",
   "metadata": {},
   "source": [
    "## Create univariate lift charts to compare actual vs predicted collisions"
   ]
  },
  {
   "cell_type": "code",
   "execution_count": null,
   "id": "558de187-b3b1-4caf-844a-def9ca805aa2",
   "metadata": {
    "tags": []
   },
   "outputs": [],
   "source": [
    "#model_list = scored_validate_df.model_name.unique()\n",
    "#var = 'collision_dayofweek'\n",
    "def model_univariate(var, model_list, validation_only = True):\n",
    "    model_list = scored_validate_df.model_name.unique()\n",
    "    #var = 'collision_dayofweek'\n",
    "    \n",
    "    validation_only = True\n",
    "    \n",
    "    fig=plt.figure(figsize=(10,5))\n",
    "    ax1 = fig.add_subplot(111)\n",
    "    ax2 = ax1.twinx()\n",
    "    \n",
    "    model_df_list_to_keep = ['hex_id', 'collision_year', 'collision_date', 'collision_hour', 'target', 'ttv_split', var]\n",
    "    model_df_list_to_keep = [*set(model_df_list_to_keep)]\n",
    "    \n",
    "    graphs_df = model_df[model_df_list_to_keep]\n",
    "    if validation_only:\n",
    "        graphs_df = graphs_df[graphs_df.ttv_split == 'Validate']\n",
    "    \n",
    "    scored_df_to_join = scored_df.copy()\n",
    "    if validation_only:\n",
    "        scored_df_to_join = scored_df_to_join[scored_df_to_join.ttv_split == 'Validate']\n",
    "    \n",
    "    \n",
    "    graphs_joined_df = graphs_df.merge(scored_df_to_join, on = ['hex_id', 'collision_date', 'collision_hour'], how = 'inner')\n",
    "\n",
    "    target_grp_df = graphs_df.groupby(var).agg({'target': ['mean', 'std', 'count']})\n",
    "    target_grp_df.columns = ['collision_mean', 'collision_std', 'count']\n",
    "    target_grp_df.reset_index(inplace = True)\n",
    "    \n",
    "    full_count = np.sum(target_grp_df['count'])\n",
    "    \n",
    "    target_grp_df['perc'] = target_grp_df['count'].div(full_count)\n",
    "    \n",
    "    target_grp_df[var] = target_grp_df[var].apply(str)\n",
    "    \n",
    "    #display(graphs_joined_df)\n",
    "    \n",
    "    bar = sns.barplot(x=var,\n",
    "                          y='perc',\n",
    "                          data=target_grp_df,\n",
    "                          color=sns.color_palette(\"Set2\")[7],\n",
    "                          ax=ax1)\n",
    "\n",
    "    \n",
    "    #start for loop\n",
    "    predicted_grp_df = graphs_joined_df.groupby([var, 'model_name']).agg({'prediction': ['mean', 'std']})\n",
    "    predicted_grp_df.columns = ['collision_mean', 'collision_std']\n",
    "    predicted_grp_df.reset_index(inplace = True)\n",
    "    predicted_grp_df[var] = predicted_grp_df[var].apply(str)\n",
    "    \n",
    "    #reformat target_grp for chart joining\n",
    "    target_grp_df['model_name'] = 'Actual Collision Mean'\n",
    "    target_grp_df_structured = target_grp_df[[var, 'model_name', 'collision_mean', 'collision_std']]\n",
    "    \n",
    "    predicted_grp_df = pd.concat([predicted_grp_df, target_grp_df_structured], axis = 0).reset_index(drop = True)\n",
    "    \n",
    "    max_collision = np.max(predicted_grp_df['collision_mean'])\n",
    "    \n",
    "    max_y = max_collision\n",
    "    \n",
    "    line = sns.lineplot(x=var,\n",
    "                             y='collision_mean',\n",
    "                             data=predicted_grp_df,\n",
    "                             marker='s',\n",
    "                             hue='model_name',\n",
    "                             ax=ax2)\n",
    "    \n",
    "    \n",
    "    #predicted_grp_df.sample()\n",
    "    \n",
    "    handles, labels = ax2.get_legend_handles_labels()\n",
    "    ax2.legend(handles=handles, labels=labels)\n",
    "    #print(handles)\n",
    "    #print(labels)\n",
    "    #ax2.legend(labels = ['actual', 'model_1_pred', 'model_2_pred'])\n",
    "    ax2.set(ylim=(0, max_y*1.2))\n",
    "    \n",
    "    bar.set_xticklabels(bar.get_xticklabels(), rotation=45, horizontalalignment='right')\n",
    "    \n",
    "    bar.set_xlabel(\"\", fontsize = 12)\n",
    "    \n",
    "    bar.set_ylabel(\"Frequency\", fontsize = 12)\n",
    "    line.set_ylabel(\"Probability of Collision\", fontsize = 12)\n",
    "    \n",
    "    title_string = (var)\n",
    "    #print(title_string)\n",
    "    \n",
    "    bar.set_title(title_string, fontsize=13, loc='left')\n",
    "    plt.gcf().set_size_inches(15, 12)"
   ]
  },
  {
   "cell_type": "code",
   "execution_count": null,
   "id": "a4f08efa-ceee-4597-8055-3d5d1eaed7c0",
   "metadata": {},
   "outputs": [],
   "source": [
    "street_features = ['la_data_city_name', \n",
    "                     'node_street_count', 'node_stop', 'node_traffic_signals',\n",
    "                     'edge_speed_kph_max', 'edge_speek_kph_min',\n",
    "                     'edge_lanes_max', 'edge_motorway_flag', 'edge_motorway_link_flag',\n",
    "                     'edge_living_street_flag', 'edge_bridge_flag', 'edge_oneway_flag',\n",
    "                     'edge_tunnel_flag', 'amenities_bar_cnt', 'amenities_school_cnt',\n",
    "                     'amenities_restaurant_cnt', 'amenities_college_cnt',\n",
    "                     'drv_edge_lanes_max_imputed_flag']\n",
    "\n",
    "time_features = ['collision_hour',\n",
    "                 'collision_month', 'collision_dayofweek', 'drv_holiday_flag'\n",
    "                ]\n",
    "\n",
    "hex_history_features = ['prev1_yr_coll_cnt', 'prev1_yr_coll_neighbor1']\n",
    "\n",
    "weather_features = ['noaa_wind_speed', 'noaa_precipitation',\n",
    "                    'noaa_temperature_average', 'noaa_temperature_max',\n",
    "                    'noaa_temperature_min']\n"
   ]
  },
  {
   "cell_type": "code",
   "execution_count": null,
   "id": "9504b74d-d448-4f94-bca0-8ea25a3788fd",
   "metadata": {},
   "outputs": [],
   "source": [
    "model_list = scored_validate_df.model_name.unique()\n",
    "var = 'prev1_yr_coll_cnt'"
   ]
  },
  {
   "cell_type": "code",
   "execution_count": null,
   "id": "34697eb0-ba1e-40a9-936e-8b4c64022cdf",
   "metadata": {},
   "outputs": [],
   "source": [
    "model_univariate(var = var, model_list = model_list, validation_only = True)"
   ]
  },
  {
   "cell_type": "markdown",
   "id": "4e61d392-c299-4cb2-9325-0102075e8e22",
   "metadata": {},
   "source": [
    "## Save the model outputs to a pdf"
   ]
  },
  {
   "cell_type": "code",
   "execution_count": null,
   "id": "6d5a29d9-03f6-4804-925e-177373927562",
   "metadata": {},
   "outputs": [],
   "source": [
    "import matplotlib.backends.backend_pdf\n",
    "pdf = matplotlib.backends.backend_pdf.PdfPages(\"output.pdf\")\n",
    "vars_to_save = ['collision_month',\n",
    "       'collision_dayofweek', 'collision_hour', #'accident_count', 'ttv_split',\n",
    "       'node_street_count', 'node_stop', 'node_traffic_signals',\n",
    "       'la_data_city_name', 'edge_speed_kph_max', 'edge_speek_kph_min',\n",
    "       'edge_lanes_max', 'edge_motorway_flag', 'edge_motorway_link_flag',\n",
    "       'edge_living_street_flag', 'edge_bridge_flag', 'edge_oneway_flag',\n",
    "       'edge_tunnel_flag', 'amenities_bar_cnt', 'amenities_school_cnt',\n",
    "       'amenities_restaurant_cnt', 'amenities_college_cnt',\n",
    "       'prev1_yr_coll_cnt', 'prev2_yr_coll_cnt', 'prev1_yr_coll_neighbor1',\n",
    "       'prev1_yr_coll_neighbor2', 'prev2_yr_coll_neighbor1',\n",
    "       'prev2_yr_coll_neighbor2', 'noaa_wind_speed', 'noaa_precipitation',\n",
    "       'noaa_temperature_average', 'noaa_temperature_max',\n",
    "       'noaa_temperature_min', 'drv_collision_hour_sin',\n",
    "       'drv_collision_hour_cos', 'drv_holiday_flag',\n",
    "       'drv_edge_lanes_max_imputed_flag']\n",
    "for var in vars_to_save:\n",
    "    fig = model_univariate(var = var, model_list = model_list, validation_only = True)\n",
    "    pdf.savefig(orientation = 'portrait')\n",
    "    \n",
    "pdf.close()"
   ]
  },
  {
   "cell_type": "code",
   "execution_count": null,
   "id": "446ea34e-9104-40eb-a6a7-454467ad12b0",
   "metadata": {},
   "outputs": [],
   "source": [
    "#scored_df_to_join = scored_df.copy()\n",
    "#scored_df_to_join = scored_df_to_join[scored_df_to_join.ttv_split == 'Validate']\n",
    "\n",
    "#model_df_list_to_keep = ['hex_id', 'collision_date', 'collision_hour', 'target', 'ttv_split', 'collision_dayofweek']\n",
    "#graph_df = model_df[model_df_list_to_keep]\n",
    "#graph_joined_df = graph_df.merge(scored_df_to_join, on = ['hex_id', 'collision_date', 'collision_hour', 'ttv_split'], how = 'inner')\n",
    "#display(graph_joined_df.sample(2))\n",
    "#graph_joined_df.model_name.unique()"
   ]
  },
  {
   "cell_type": "code",
   "execution_count": null,
   "id": "adcd54fe-00b0-4b8d-92b8-fc49ed8ffcff",
   "metadata": {},
   "outputs": [],
   "source": [
    "graph_joined_df.target = graph_joined_df.target.map(float)\n",
    "graph_joined_df.dtypes"
   ]
  },
  {
   "cell_type": "code",
   "execution_count": null,
   "id": "84e14c70-c5b8-4d9f-9673-6b463d830504",
   "metadata": {},
   "outputs": [],
   "source": [
    "\n",
    "\n",
    "pvt_pred_AG = pd.pivot_table(graph_joined_df[graph_joined_df.model_name == 'AutoGluon_Baseline'], values='prediction', index=['collision_hour'],\n",
    "                    columns=['collision_dayofweek'], aggfunc=np.mean)\n",
    "pvt_pred_GLM = pd.pivot_table(graph_joined_df[graph_joined_df.model_name == 'GLMnet_03'], values='prediction', index=['collision_hour'],\n",
    "                    columns=['collision_dayofweek'], aggfunc=np.mean)\n",
    "pvt_pred_CAT = pd.pivot_table(graph_joined_df[graph_joined_df.model_name == 'GBM_04'], values='prediction', index=['collision_hour'],\n",
    "                    columns=['collision_dayofweek'], aggfunc=np.mean)\n",
    "\n",
    "pvt_actual = pd.pivot_table(graph_joined_df[graph_joined_df.model_name == 'AutoGluon_Baseline'], values='target', index=['collision_hour'],\n",
    "                    columns=['collision_dayofweek'], aggfunc=np.mean)\n",
    "\n",
    "pvt_pred_AG.name = ['AutoGluon']\n",
    "pvt_pred_GLM.name = ['GLMnet']\n",
    "pvt_pred_CAT.name = ['Catboost']\n",
    "pvt_actual.name = ['actual']\n",
    "\n",
    "fig, ax = plt.subplots(1, 4, figsize=(16,10))\n",
    "\n",
    "for i, d in enumerate([pvt_pred_AG, pvt_pred_GLM, pvt_pred_CAT, pvt_actual]):\n",
    "    sns.heatmap(d, \n",
    "            annot=False, \n",
    "            fmt=\"\", \n",
    "            linewidth=1, \n",
    "            linecolor=\"#222\",\n",
    "            square=True,\n",
    "            cmap='viridis_r', \n",
    "            ax=ax[i],\n",
    "            cbar=False, \n",
    "               cbar_kws={\"shrink\": 0.25}).set(title=d.name[0])"
   ]
  },
  {
   "cell_type": "code",
   "execution_count": null,
   "id": "ab3142f2-37f1-410a-996e-c90e4fee8c74",
   "metadata": {},
   "outputs": [],
   "source": []
  }
 ],
 "metadata": {
  "kernelspec": {
   "display_name": "Python 3 (ipykernel)",
   "language": "python",
   "name": "python3"
  },
  "language_info": {
   "codemirror_mode": {
    "name": "ipython",
    "version": 3
   },
   "file_extension": ".py",
   "mimetype": "text/x-python",
   "name": "python",
   "nbconvert_exporter": "python",
   "pygments_lexer": "ipython3",
   "version": "3.9.13"
  }
 },
 "nbformat": 4,
 "nbformat_minor": 5
}
